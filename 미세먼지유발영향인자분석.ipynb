{
 "cells": [
  {
   "cell_type": "markdown",
   "id": "785c9b9d",
   "metadata": {},
   "source": [
    "# 미세먼지 유발 영향인자 분석"
   ]
  },
  {
   "cell_type": "code",
   "execution_count": 146,
   "id": "11ff5774",
   "metadata": {},
   "outputs": [],
   "source": [
    "import pandas as pd\n",
    "import matplotlib\n",
    "import matplotlib.pyplot as plt\n",
    "import seaborn as sns\n",
    "from statsmodels.stats.proportion import proportions_ztest\n",
    "from scipy.stats import shapiro\n",
    "from scipy import stats\n",
    "\n",
    "# Scale 변환-> 설명변수 변환 : 회귀분석.설명변수 회귀계수 표준화\n",
    "from sklearn.preprocessing import StandardScaler\n",
    "\n",
    "# train, test 데이터 분할 함수\n",
    "from sklearn.model_selection import train_test_split\n",
    "\n",
    "# 회귀모델 \n",
    "import statsmodels.formula.api as smf\n",
    "import statsmodels.api as sm\n",
    "# 선형회귀모형\n",
    "from sklearn.linear_model import LinearRegression\n",
    "\n",
    "# 다중공선성 확인\n",
    "from statsmodels.stats.outliers_influence import variance_inflation_factor\n",
    "# 변수 선택법(후진제거법)\n",
    "from sklearn.feature_selection import RFE\n",
    "\n",
    "# 평가 함수\n",
    "from sklearn.metrics import r2_score\n",
    "from sklearn.metrics import mean_squared_error\n",
    "from sklearn.metrics import mean_absolute_error\n",
    "from sklearn.metrics import mean_absolute_percentage_error"
   ]
  },
  {
   "cell_type": "code",
   "execution_count": 147,
   "id": "24085532",
   "metadata": {},
   "outputs": [],
   "source": [
    "# 한글 폰트(맑은 고딕) 적용\n",
    "matplotlib.rc(\"font\", family=\"Malgun Gothic\")\n",
    "matplotlib.rcParams['axes.unicode_minus'] = False"
   ]
  },
  {
   "cell_type": "markdown",
   "id": "f03c10ac",
   "metadata": {},
   "source": [
    "## 데이터 현황"
   ]
  },
  {
   "cell_type": "code",
   "execution_count": 148,
   "id": "fad9e47c",
   "metadata": {
    "scrolled": true
   },
   "outputs": [
    {
     "data": {
      "text/html": [
       "<div>\n",
       "<style scoped>\n",
       "    .dataframe tbody tr th:only-of-type {\n",
       "        vertical-align: middle;\n",
       "    }\n",
       "\n",
       "    .dataframe tbody tr th {\n",
       "        vertical-align: top;\n",
       "    }\n",
       "\n",
       "    .dataframe thead th {\n",
       "        text-align: right;\n",
       "    }\n",
       "</style>\n",
       "<table border=\"1\" class=\"dataframe\">\n",
       "  <thead>\n",
       "    <tr style=\"text-align: right;\">\n",
       "      <th></th>\n",
       "      <th>MeasDate</th>\n",
       "      <th>PM10</th>\n",
       "      <th>O3</th>\n",
       "      <th>NO2</th>\n",
       "      <th>CO</th>\n",
       "      <th>SO2</th>\n",
       "      <th>TEMP</th>\n",
       "      <th>RAIN</th>\n",
       "      <th>WIND</th>\n",
       "      <th>WIND_DIR</th>\n",
       "      <th>HUMIDITY</th>\n",
       "      <th>ATM_PRESS</th>\n",
       "      <th>SNOW</th>\n",
       "      <th>CLOUD</th>\n",
       "    </tr>\n",
       "  </thead>\n",
       "  <tbody>\n",
       "    <tr>\n",
       "      <th>0</th>\n",
       "      <td>2019-07-01</td>\n",
       "      <td>29.0</td>\n",
       "      <td>0.054</td>\n",
       "      <td>0.021</td>\n",
       "      <td>0.5</td>\n",
       "      <td>0.003</td>\n",
       "      <td>24.03</td>\n",
       "      <td>0.00</td>\n",
       "      <td>2.30</td>\n",
       "      <td>249</td>\n",
       "      <td>63.2</td>\n",
       "      <td>995.1</td>\n",
       "      <td>0.0</td>\n",
       "      <td>5.70</td>\n",
       "    </tr>\n",
       "    <tr>\n",
       "      <th>1</th>\n",
       "      <td>2019-07-02</td>\n",
       "      <td>26.0</td>\n",
       "      <td>0.053</td>\n",
       "      <td>0.020</td>\n",
       "      <td>0.5</td>\n",
       "      <td>0.003</td>\n",
       "      <td>24.29</td>\n",
       "      <td>0.00</td>\n",
       "      <td>2.26</td>\n",
       "      <td>265</td>\n",
       "      <td>63.2</td>\n",
       "      <td>998.6</td>\n",
       "      <td>0.0</td>\n",
       "      <td>3.83</td>\n",
       "    </tr>\n",
       "    <tr>\n",
       "      <th>2</th>\n",
       "      <td>2019-07-03</td>\n",
       "      <td>30.0</td>\n",
       "      <td>0.042</td>\n",
       "      <td>0.023</td>\n",
       "      <td>0.4</td>\n",
       "      <td>0.003</td>\n",
       "      <td>24.18</td>\n",
       "      <td>0.00</td>\n",
       "      <td>1.79</td>\n",
       "      <td>280</td>\n",
       "      <td>65.3</td>\n",
       "      <td>998.3</td>\n",
       "      <td>0.0</td>\n",
       "      <td>6.29</td>\n",
       "    </tr>\n",
       "    <tr>\n",
       "      <th>3</th>\n",
       "      <td>2019-07-04</td>\n",
       "      <td>28.0</td>\n",
       "      <td>0.034</td>\n",
       "      <td>0.026</td>\n",
       "      <td>0.4</td>\n",
       "      <td>0.003</td>\n",
       "      <td>25.35</td>\n",
       "      <td>0.00</td>\n",
       "      <td>2.04</td>\n",
       "      <td>263</td>\n",
       "      <td>58.6</td>\n",
       "      <td>996.6</td>\n",
       "      <td>0.0</td>\n",
       "      <td>2.54</td>\n",
       "    </tr>\n",
       "    <tr>\n",
       "      <th>4</th>\n",
       "      <td>2019-07-05</td>\n",
       "      <td>29.0</td>\n",
       "      <td>0.045</td>\n",
       "      <td>0.035</td>\n",
       "      <td>0.5</td>\n",
       "      <td>0.003</td>\n",
       "      <td>27.30</td>\n",
       "      <td>0.00</td>\n",
       "      <td>1.45</td>\n",
       "      <td>175</td>\n",
       "      <td>45.5</td>\n",
       "      <td>993.5</td>\n",
       "      <td>0.0</td>\n",
       "      <td>3.92</td>\n",
       "    </tr>\n",
       "    <tr>\n",
       "      <th>...</th>\n",
       "      <td>...</td>\n",
       "      <td>...</td>\n",
       "      <td>...</td>\n",
       "      <td>...</td>\n",
       "      <td>...</td>\n",
       "      <td>...</td>\n",
       "      <td>...</td>\n",
       "      <td>...</td>\n",
       "      <td>...</td>\n",
       "      <td>...</td>\n",
       "      <td>...</td>\n",
       "      <td>...</td>\n",
       "      <td>...</td>\n",
       "      <td>...</td>\n",
       "    </tr>\n",
       "    <tr>\n",
       "      <th>361</th>\n",
       "      <td>2020-06-26</td>\n",
       "      <td>19.0</td>\n",
       "      <td>0.039</td>\n",
       "      <td>0.016</td>\n",
       "      <td>0.4</td>\n",
       "      <td>0.003</td>\n",
       "      <td>21.66</td>\n",
       "      <td>0.41</td>\n",
       "      <td>3.12</td>\n",
       "      <td>228</td>\n",
       "      <td>84.0</td>\n",
       "      <td>996.0</td>\n",
       "      <td>0.0</td>\n",
       "      <td>8.73</td>\n",
       "    </tr>\n",
       "    <tr>\n",
       "      <th>362</th>\n",
       "      <td>2020-06-27</td>\n",
       "      <td>22.0</td>\n",
       "      <td>0.044</td>\n",
       "      <td>0.017</td>\n",
       "      <td>0.4</td>\n",
       "      <td>0.004</td>\n",
       "      <td>23.94</td>\n",
       "      <td>0.00</td>\n",
       "      <td>1.93</td>\n",
       "      <td>217</td>\n",
       "      <td>69.8</td>\n",
       "      <td>995.8</td>\n",
       "      <td>0.0</td>\n",
       "      <td>6.21</td>\n",
       "    </tr>\n",
       "    <tr>\n",
       "      <th>363</th>\n",
       "      <td>2020-06-28</td>\n",
       "      <td>27.0</td>\n",
       "      <td>0.044</td>\n",
       "      <td>0.009</td>\n",
       "      <td>0.4</td>\n",
       "      <td>0.003</td>\n",
       "      <td>25.03</td>\n",
       "      <td>0.00</td>\n",
       "      <td>2.35</td>\n",
       "      <td>283</td>\n",
       "      <td>71.3</td>\n",
       "      <td>994.7</td>\n",
       "      <td>0.0</td>\n",
       "      <td>2.63</td>\n",
       "    </tr>\n",
       "    <tr>\n",
       "      <th>364</th>\n",
       "      <td>2020-06-29</td>\n",
       "      <td>36.0</td>\n",
       "      <td>0.026</td>\n",
       "      <td>0.028</td>\n",
       "      <td>0.6</td>\n",
       "      <td>0.003</td>\n",
       "      <td>24.06</td>\n",
       "      <td>1.26</td>\n",
       "      <td>2.48</td>\n",
       "      <td>103</td>\n",
       "      <td>75.5</td>\n",
       "      <td>992.9</td>\n",
       "      <td>0.0</td>\n",
       "      <td>7.58</td>\n",
       "    </tr>\n",
       "    <tr>\n",
       "      <th>365</th>\n",
       "      <td>2020-06-30</td>\n",
       "      <td>6.0</td>\n",
       "      <td>0.039</td>\n",
       "      <td>0.009</td>\n",
       "      <td>0.3</td>\n",
       "      <td>0.002</td>\n",
       "      <td>20.60</td>\n",
       "      <td>5.60</td>\n",
       "      <td>4.00</td>\n",
       "      <td>50</td>\n",
       "      <td>92.0</td>\n",
       "      <td>983.8</td>\n",
       "      <td>0.0</td>\n",
       "      <td>10.00</td>\n",
       "    </tr>\n",
       "  </tbody>\n",
       "</table>\n",
       "<p>366 rows × 14 columns</p>\n",
       "</div>"
      ],
      "text/plain": [
       "       MeasDate  PM10     O3    NO2   CO    SO2   TEMP  RAIN  WIND  WIND_DIR  \\\n",
       "0    2019-07-01  29.0  0.054  0.021  0.5  0.003  24.03  0.00  2.30       249   \n",
       "1    2019-07-02  26.0  0.053  0.020  0.5  0.003  24.29  0.00  2.26       265   \n",
       "2    2019-07-03  30.0  0.042  0.023  0.4  0.003  24.18  0.00  1.79       280   \n",
       "3    2019-07-04  28.0  0.034  0.026  0.4  0.003  25.35  0.00  2.04       263   \n",
       "4    2019-07-05  29.0  0.045  0.035  0.5  0.003  27.30  0.00  1.45       175   \n",
       "..          ...   ...    ...    ...  ...    ...    ...   ...   ...       ...   \n",
       "361  2020-06-26  19.0  0.039  0.016  0.4  0.003  21.66  0.41  3.12       228   \n",
       "362  2020-06-27  22.0  0.044  0.017  0.4  0.004  23.94  0.00  1.93       217   \n",
       "363  2020-06-28  27.0  0.044  0.009  0.4  0.003  25.03  0.00  2.35       283   \n",
       "364  2020-06-29  36.0  0.026  0.028  0.6  0.003  24.06  1.26  2.48       103   \n",
       "365  2020-06-30   6.0  0.039  0.009  0.3  0.002  20.60  5.60  4.00        50   \n",
       "\n",
       "     HUMIDITY  ATM_PRESS  SNOW  CLOUD  \n",
       "0        63.2      995.1   0.0   5.70  \n",
       "1        63.2      998.6   0.0   3.83  \n",
       "2        65.3      998.3   0.0   6.29  \n",
       "3        58.6      996.6   0.0   2.54  \n",
       "4        45.5      993.5   0.0   3.92  \n",
       "..        ...        ...   ...    ...  \n",
       "361      84.0      996.0   0.0   8.73  \n",
       "362      69.8      995.8   0.0   6.21  \n",
       "363      71.3      994.7   0.0   2.63  \n",
       "364      75.5      992.9   0.0   7.58  \n",
       "365      92.0      983.8   0.0  10.00  \n",
       "\n",
       "[366 rows x 14 columns]"
      ]
     },
     "execution_count": 148,
     "metadata": {},
     "output_type": "execute_result"
    }
   ],
   "source": [
    "df_raw = pd.read_csv('DATA/AIR_POLLUTION.csv')\n",
    "df_raw"
   ]
  },
  {
   "cell_type": "code",
   "execution_count": 149,
   "id": "2058b954",
   "metadata": {
    "scrolled": true
   },
   "outputs": [
    {
     "name": "stdout",
     "output_type": "stream",
     "text": [
      "<class 'pandas.core.frame.DataFrame'>\n",
      "RangeIndex: 366 entries, 0 to 365\n",
      "Data columns (total 14 columns):\n",
      " #   Column     Non-Null Count  Dtype  \n",
      "---  ------     --------------  -----  \n",
      " 0   MeasDate   366 non-null    object \n",
      " 1   PM10       365 non-null    float64\n",
      " 2   O3         365 non-null    float64\n",
      " 3   NO2        365 non-null    float64\n",
      " 4   CO         311 non-null    float64\n",
      " 5   SO2        365 non-null    float64\n",
      " 6   TEMP       366 non-null    float64\n",
      " 7   RAIN       366 non-null    float64\n",
      " 8   WIND       366 non-null    float64\n",
      " 9   WIND_DIR   366 non-null    int64  \n",
      " 10  HUMIDITY   366 non-null    float64\n",
      " 11  ATM_PRESS  366 non-null    float64\n",
      " 12  SNOW       366 non-null    float64\n",
      " 13  CLOUD      366 non-null    float64\n",
      "dtypes: float64(12), int64(1), object(1)\n",
      "memory usage: 40.2+ KB\n"
     ]
    }
   ],
   "source": [
    "df_raw.info()"
   ]
  },
  {
   "cell_type": "code",
   "execution_count": 150,
   "id": "c04da1e6",
   "metadata": {},
   "outputs": [
    {
     "data": {
      "text/plain": [
       "(366, 14)"
      ]
     },
     "execution_count": 150,
     "metadata": {},
     "output_type": "execute_result"
    }
   ],
   "source": [
    "df_raw.shape"
   ]
  },
  {
   "cell_type": "code",
   "execution_count": 151,
   "id": "66ca275e",
   "metadata": {
    "scrolled": true
   },
   "outputs": [
    {
     "data": {
      "text/plain": [
       "MeasDate      0\n",
       "PM10          1\n",
       "O3            1\n",
       "NO2           1\n",
       "CO           55\n",
       "SO2           1\n",
       "TEMP          0\n",
       "RAIN          0\n",
       "WIND          0\n",
       "WIND_DIR      0\n",
       "HUMIDITY      0\n",
       "ATM_PRESS     0\n",
       "SNOW          0\n",
       "CLOUD         0\n",
       "dtype: int64"
      ]
     },
     "execution_count": 151,
     "metadata": {},
     "output_type": "execute_result"
    }
   ],
   "source": [
    "df_raw.isnull().sum()"
   ]
  },
  {
   "cell_type": "code",
   "execution_count": 152,
   "id": "9e0a7754",
   "metadata": {
    "scrolled": true
   },
   "outputs": [],
   "source": [
    "df_raw.drop('MeasDate', axis = 1, inplace = True)\n",
    "df_raw.dropna(subset=['PM10'] , inplace = True)"
   ]
  },
  {
   "cell_type": "markdown",
   "id": "d42a824e",
   "metadata": {},
   "source": [
    " 목표변수 값의 결측지 제거"
   ]
  },
  {
   "cell_type": "code",
   "execution_count": 153,
   "id": "854e1b22",
   "metadata": {},
   "outputs": [],
   "source": [
    "df_raw.fillna(df_raw.mean(), inplace = True)"
   ]
  },
  {
   "cell_type": "markdown",
   "id": "b7a30654",
   "metadata": {},
   "source": [
    "CO(일산화탄소 농도) 55개의 결측치 평균값으로 대체"
   ]
  },
  {
   "cell_type": "code",
   "execution_count": 154,
   "id": "94f1826f",
   "metadata": {
    "scrolled": false
   },
   "outputs": [
    {
     "data": {
      "text/plain": [
       "PM10         0\n",
       "O3           0\n",
       "NO2          0\n",
       "CO           0\n",
       "SO2          0\n",
       "TEMP         0\n",
       "RAIN         0\n",
       "WIND         0\n",
       "WIND_DIR     0\n",
       "HUMIDITY     0\n",
       "ATM_PRESS    0\n",
       "SNOW         0\n",
       "CLOUD        0\n",
       "dtype: int64"
      ]
     },
     "execution_count": 154,
     "metadata": {},
     "output_type": "execute_result"
    }
   ],
   "source": [
    "df_raw.isnull().sum()"
   ]
  },
  {
   "cell_type": "code",
   "execution_count": 155,
   "id": "393ba917",
   "metadata": {
    "scrolled": false
   },
   "outputs": [
    {
     "data": {
      "text/plain": [
       "PM10            AxesSubplot(0.125,0.125;0.0503247x0.755)\n",
       "O3            AxesSubplot(0.18539,0.125;0.0503247x0.755)\n",
       "NO2          AxesSubplot(0.245779,0.125;0.0503247x0.755)\n",
       "CO           AxesSubplot(0.306169,0.125;0.0503247x0.755)\n",
       "SO2          AxesSubplot(0.366558,0.125;0.0503247x0.755)\n",
       "TEMP         AxesSubplot(0.426948,0.125;0.0503247x0.755)\n",
       "RAIN         AxesSubplot(0.487338,0.125;0.0503247x0.755)\n",
       "WIND         AxesSubplot(0.547727,0.125;0.0503247x0.755)\n",
       "WIND_DIR     AxesSubplot(0.608117,0.125;0.0503247x0.755)\n",
       "HUMIDITY     AxesSubplot(0.668506,0.125;0.0503247x0.755)\n",
       "ATM_PRESS    AxesSubplot(0.728896,0.125;0.0503247x0.755)\n",
       "SNOW         AxesSubplot(0.789286,0.125;0.0503247x0.755)\n",
       "CLOUD        AxesSubplot(0.849675,0.125;0.0503247x0.755)\n",
       "dtype: object"
      ]
     },
     "execution_count": 155,
     "metadata": {},
     "output_type": "execute_result"
    },
    {
     "data": {
      "image/png": "[encoded data removed]",
      "text/plain": [
       "<Figure size 3600x720 with 13 Axes>"
      ]
     },
     "metadata": {
      "needs_background": "light"
     },
     "output_type": "display_data"
    }
   ],
   "source": [
    "df_raw.plot(kind = \"box\", figsize = (50,10), subplots = True, sharex = False, sharey = False)"
   ]
  },
  {
   "cell_type": "markdown",
   "id": "d1ade215",
   "metadata": {},
   "source": [
    "RAIN, WIND, SNOW에서 이상치로 판단되는 수치들을 발견하였지만 계절적 영향을 고려해서 이상치로 판단하기 어렵다고 판단하여 이상치 처리를 하지 않았다."
   ]
  },
  {
   "cell_type": "markdown",
   "id": "60169cd5",
   "metadata": {},
   "source": [
    "## 탐색적 분석"
   ]
  },
  {
   "cell_type": "code",
   "execution_count": 336,
   "id": "48bc09ed",
   "metadata": {
    "scrolled": false
   },
   "outputs": [
    {
     "data": {
      "text/plain": [
       "array([[<AxesSubplot:title={'center':'PM10'}>,\n",
       "        <AxesSubplot:title={'center':'O3'}>,\n",
       "        <AxesSubplot:title={'center':'NO2'}>,\n",
       "        <AxesSubplot:title={'center':'CO'}>],\n",
       "       [<AxesSubplot:title={'center':'SO2'}>,\n",
       "        <AxesSubplot:title={'center':'TEMP'}>,\n",
       "        <AxesSubplot:title={'center':'RAIN'}>,\n",
       "        <AxesSubplot:title={'center':'WIND'}>],\n",
       "       [<AxesSubplot:title={'center':'WIND_DIR'}>,\n",
       "        <AxesSubplot:title={'center':'HUMIDITY'}>,\n",
       "        <AxesSubplot:title={'center':'ATM_PRESS'}>,\n",
       "        <AxesSubplot:title={'center':'SNOW'}>],\n",
       "       [<AxesSubplot:title={'center':'CLOUD'}>, <AxesSubplot:>,\n",
       "        <AxesSubplot:>, <AxesSubplot:>]], dtype=object)"
      ]
     },
     "execution_count": 336,
     "metadata": {},
     "output_type": "execute_result"
    },
    {
     "data": {
      "image/png": "[encoded data removed]",
      "text/plain": [
       "<Figure size 864x720 with 16 Axes>"
      ]
     },
     "metadata": {
      "needs_background": "light"
     },
     "output_type": "display_data"
    }
   ],
   "source": [
    "df_raw.hist(figsize = (12,10))"
   ]
  },
  {
   "cell_type": "markdown",
   "id": "edaa15a1",
   "metadata": {},
   "source": [
    "### 그래프 분석"
   ]
  },
  {
   "cell_type": "code",
   "execution_count": 157,
   "id": "81438d83",
   "metadata": {
    "scrolled": true
   },
   "outputs": [
    {
     "data": {
      "text/plain": [
       "<AxesSubplot:xlabel='O3', ylabel='PM10'>"
      ]
     },
     "execution_count": 157,
     "metadata": {},
     "output_type": "execute_result"
    },
    {
     "data": {
      "image/png": "[encoded data removed]",
      "text/plain": [
       "<Figure size 432x288 with 1 Axes>"
      ]
     },
     "metadata": {
      "needs_background": "light"
     },
     "output_type": "display_data"
    }
   ],
   "source": [
    "sns.scatterplot(x = \"O3\", y = \"PM10\", data = df_raw)"
   ]
  },
  {
   "cell_type": "markdown",
   "id": "bd545f8c",
   "metadata": {},
   "source": [
    "변수간의 관계파악 어려움"
   ]
  },
  {
   "cell_type": "code",
   "execution_count": 158,
   "id": "b67f9f30",
   "metadata": {
    "scrolled": false
   },
   "outputs": [
    {
     "data": {
      "text/plain": [
       "<AxesSubplot:xlabel='NO2', ylabel='PM10'>"
      ]
     },
     "execution_count": 158,
     "metadata": {},
     "output_type": "execute_result"
    },
    {
     "data": {
      "image/png": "[encoded data removed]",
      "text/plain": [
       "<Figure size 432x288 with 1 Axes>"
      ]
     },
     "metadata": {
      "needs_background": "light"
     },
     "output_type": "display_data"
    }
   ],
   "source": [
    "sns.scatterplot(x = \"NO2\", y = \"PM10\", data = df_raw)"
   ]
  },
  {
   "cell_type": "markdown",
   "id": "340a5d4c",
   "metadata": {},
   "source": [
    "미세한 양의 선형적 관계 파악"
   ]
  },
  {
   "cell_type": "code",
   "execution_count": 159,
   "id": "d263933a",
   "metadata": {
    "scrolled": true
   },
   "outputs": [
    {
     "data": {
      "text/plain": [
       "<AxesSubplot:xlabel='CO', ylabel='PM10'>"
      ]
     },
     "execution_count": 159,
     "metadata": {},
     "output_type": "execute_result"
    },
    {
     "data": {
      "image/png": "[encoded data removed]",
      "text/plain": [
       "<Figure size 432x288 with 1 Axes>"
      ]
     },
     "metadata": {
      "needs_background": "light"
     },
     "output_type": "display_data"
    }
   ],
   "source": [
    "sns.scatterplot(x = \"CO\", y = \"PM10\", data = df_raw)"
   ]
  },
  {
   "cell_type": "markdown",
   "id": "7c170725",
   "metadata": {},
   "source": [
    "미세한 양의 선형적 관계 파악"
   ]
  },
  {
   "cell_type": "code",
   "execution_count": 160,
   "id": "b4799659",
   "metadata": {
    "scrolled": true
   },
   "outputs": [
    {
     "data": {
      "text/plain": [
       "<AxesSubplot:xlabel='SO2', ylabel='PM10'>"
      ]
     },
     "execution_count": 160,
     "metadata": {},
     "output_type": "execute_result"
    },
    {
     "data": {
      "image/png": "[encoded data removed]",
      "text/plain": [
       "<Figure size 432x288 with 1 Axes>"
      ]
     },
     "metadata": {
      "needs_background": "light"
     },
     "output_type": "display_data"
    }
   ],
   "source": [
    "sns.scatterplot(x = \"SO2\", y = \"PM10\", data = df_raw)"
   ]
  },
  {
   "cell_type": "markdown",
   "id": "5d7aceec",
   "metadata": {},
   "source": [
    "미세한 양의 선형적 관계 파악"
   ]
  },
  {
   "cell_type": "code",
   "execution_count": 161,
   "id": "543adcdb",
   "metadata": {
    "scrolled": true
   },
   "outputs": [
    {
     "data": {
      "text/plain": [
       "<AxesSubplot:xlabel='TEMP', ylabel='PM10'>"
      ]
     },
     "execution_count": 161,
     "metadata": {},
     "output_type": "execute_result"
    },
    {
     "data": {
      "image/png": "[encoded data removed]",
      "text/plain": [
       "<Figure size 432x288 with 1 Axes>"
      ]
     },
     "metadata": {
      "needs_background": "light"
     },
     "output_type": "display_data"
    }
   ],
   "source": [
    "sns.scatterplot(x = \"TEMP\", y = \"PM10\", data = df_raw)"
   ]
  },
  {
   "cell_type": "markdown",
   "id": "83bb18d7",
   "metadata": {},
   "source": [
    "미세한 음의 선형관계 파악"
   ]
  },
  {
   "cell_type": "code",
   "execution_count": 162,
   "id": "13ac1e2a",
   "metadata": {
    "scrolled": true
   },
   "outputs": [
    {
     "data": {
      "text/plain": [
       "<AxesSubplot:xlabel='RAIN', ylabel='PM10'>"
      ]
     },
     "execution_count": 162,
     "metadata": {},
     "output_type": "execute_result"
    },
    {
     "data": {
      "image/png": "[encoded data removed]",
      "text/plain": [
       "<Figure size 432x288 with 1 Axes>"
      ]
     },
     "metadata": {
      "needs_background": "light"
     },
     "output_type": "display_data"
    }
   ],
   "source": [
    "sns.scatterplot(x = \"RAIN\", y = \"PM10\", data = df_raw)"
   ]
  },
  {
   "cell_type": "markdown",
   "id": "55cc37ad",
   "metadata": {},
   "source": [
    "변수간의 관계파악 어려움, 대부분 강수량 0에 분포"
   ]
  },
  {
   "cell_type": "code",
   "execution_count": 163,
   "id": "f543cdc6",
   "metadata": {
    "scrolled": true
   },
   "outputs": [
    {
     "data": {
      "text/plain": [
       "<AxesSubplot:xlabel='O3', ylabel='PM10'>"
      ]
     },
     "execution_count": 163,
     "metadata": {},
     "output_type": "execute_result"
    },
    {
     "data": {
      "image/png": "[encoded data removed]",
      "text/plain": [
       "<Figure size 432x288 with 1 Axes>"
      ]
     },
     "metadata": {
      "needs_background": "light"
     },
     "output_type": "display_data"
    }
   ],
   "source": [
    "sns.scatterplot(x = \"O3\", y = \"PM10\", data = df_raw)"
   ]
  },
  {
   "cell_type": "markdown",
   "id": "8ccb01de",
   "metadata": {},
   "source": [
    "변수간의 관계파악 어려움"
   ]
  },
  {
   "cell_type": "code",
   "execution_count": 164,
   "id": "c664f0f9",
   "metadata": {
    "scrolled": true
   },
   "outputs": [
    {
     "data": {
      "text/plain": [
       "<AxesSubplot:xlabel='WIND_DIR', ylabel='PM10'>"
      ]
     },
     "execution_count": 164,
     "metadata": {},
     "output_type": "execute_result"
    },
    {
     "data": {
      "image/png": "[encoded data removed]",
      "text/plain": [
       "<Figure size 432x288 with 1 Axes>"
      ]
     },
     "metadata": {
      "needs_background": "light"
     },
     "output_type": "display_data"
    }
   ],
   "source": [
    "sns.scatterplot(x = \"WIND_DIR\", y = \"PM10\", data = df_raw)"
   ]
  },
  {
   "cell_type": "markdown",
   "id": "005111f8",
   "metadata": {},
   "source": [
    "변수간의 관계파악 어려움"
   ]
  },
  {
   "cell_type": "code",
   "execution_count": 165,
   "id": "dabcd789",
   "metadata": {
    "scrolled": true
   },
   "outputs": [
    {
     "data": {
      "text/plain": [
       "<AxesSubplot:xlabel='HUMIDITY', ylabel='PM10'>"
      ]
     },
     "execution_count": 165,
     "metadata": {},
     "output_type": "execute_result"
    },
    {
     "data": {
      "image/png": "[encoded data removed]",
      "text/plain": [
       "<Figure size 432x288 with 1 Axes>"
      ]
     },
     "metadata": {
      "needs_background": "light"
     },
     "output_type": "display_data"
    }
   ],
   "source": [
    "sns.scatterplot(x = \"HUMIDITY\", y = \"PM10\", data = df_raw)"
   ]
  },
  {
   "cell_type": "markdown",
   "id": "79a2a3e4",
   "metadata": {},
   "source": [
    "미세한 음의 선형관계 파악"
   ]
  },
  {
   "cell_type": "code",
   "execution_count": 166,
   "id": "1319b1f8",
   "metadata": {
    "scrolled": true
   },
   "outputs": [
    {
     "data": {
      "text/plain": [
       "<AxesSubplot:xlabel='ATM_PRESS', ylabel='PM10'>"
      ]
     },
     "execution_count": 166,
     "metadata": {},
     "output_type": "execute_result"
    },
    {
     "data": {
      "image/png": "[encoded data removed]",
      "text/plain": [
       "<Figure size 432x288 with 1 Axes>"
      ]
     },
     "metadata": {
      "needs_background": "light"
     },
     "output_type": "display_data"
    }
   ],
   "source": [
    "sns.scatterplot(x = \"ATM_PRESS\", y = \"PM10\", data = df_raw)"
   ]
  },
  {
   "cell_type": "markdown",
   "id": "8fda3a7e",
   "metadata": {},
   "source": [
    "미세한 양의 선형관계 파악"
   ]
  },
  {
   "cell_type": "code",
   "execution_count": 167,
   "id": "3e0bbc38",
   "metadata": {
    "scrolled": true
   },
   "outputs": [
    {
     "data": {
      "text/plain": [
       "<AxesSubplot:xlabel='SNOW', ylabel='PM10'>"
      ]
     },
     "execution_count": 167,
     "metadata": {},
     "output_type": "execute_result"
    },
    {
     "data": {
      "image/png": "[encoded data removed]",
      "text/plain": [
       "<Figure size 432x288 with 1 Axes>"
      ]
     },
     "metadata": {
      "needs_background": "light"
     },
     "output_type": "display_data"
    }
   ],
   "source": [
    "sns.scatterplot(x = \"SNOW\", y = \"PM10\", data = df_raw)"
   ]
  },
  {
   "cell_type": "markdown",
   "id": "c4c71a48",
   "metadata": {},
   "source": [
    "변수간의 관계파악 어려움. 대부분 적설량 0에 분포"
   ]
  },
  {
   "cell_type": "code",
   "execution_count": 168,
   "id": "50adc77a",
   "metadata": {
    "scrolled": true
   },
   "outputs": [
    {
     "data": {
      "text/plain": [
       "<AxesSubplot:xlabel='CLOUD', ylabel='PM10'>"
      ]
     },
     "execution_count": 168,
     "metadata": {},
     "output_type": "execute_result"
    },
    {
     "data": {
      "image/png": "[encoded data removed]",
      "text/plain": [
       "<Figure size 432x288 with 1 Axes>"
      ]
     },
     "metadata": {
      "needs_background": "light"
     },
     "output_type": "display_data"
    }
   ],
   "source": [
    "sns.scatterplot(x = \"CLOUD\", y = \"PM10\", data = df_raw)"
   ]
  },
  {
   "cell_type": "markdown",
   "id": "edae221d",
   "metadata": {},
   "source": [
    "변수간의 관계파악 어려움"
   ]
  },
  {
   "cell_type": "markdown",
   "id": "7aa8c64d",
   "metadata": {},
   "source": [
    "### 카이제곱 검정"
   ]
  },
  {
   "cell_type": "code",
   "execution_count": 169,
   "id": "a139ee38",
   "metadata": {
    "scrolled": true
   },
   "outputs": [
    {
     "name": "stdout",
     "output_type": "stream",
     "text": [
      "chi-square test \n",
      " chisq: 5.023\n",
      " p: 1.000\n",
      " degree pf freedom: 364\n"
     ]
    }
   ],
   "source": [
    "df = pd.concat([df_raw['PM10'], df_raw['O3']], axis = 1)\n",
    "\n",
    "# chi-square test 실행\n",
    "chi, pval, dof, expected = stats.chi2_contingency(df.T)\n",
    "\n",
    "# chi-square test 결과 출력\n",
    "print( \"chi-square test \")\n",
    "print( ' chisq: {0:0.3f}' .format(chi))\n",
    "print( ' p: {0:0.3f}'.format(pval))\n",
    "print( ' degree pf freedom: {}' .format(dof))"
   ]
  },
  {
   "cell_type": "markdown",
   "id": "149d1e37",
   "metadata": {},
   "source": [
    "p > 0.05. 귀무가설이므로 서로 연관성 없음"
   ]
  },
  {
   "cell_type": "code",
   "execution_count": 170,
   "id": "fcbc50ae",
   "metadata": {
    "scrolled": true
   },
   "outputs": [
    {
     "name": "stdout",
     "output_type": "stream",
     "text": [
      "chi-square test \n",
      " chisq: 2.367\n",
      " p: 1.000\n",
      " degree pf freedom: 364\n"
     ]
    }
   ],
   "source": [
    "df = pd.concat([df_raw['PM10'], df_raw['NO2']], axis = 1)\n",
    "\n",
    "# chi-square test 실행\n",
    "chi, pval, dof, expected = stats.chi2_contingency(df.T)\n",
    "\n",
    "# chi-square test 결과 출력\n",
    "print( \"chi-square test \")\n",
    "print( ' chisq: {0:0.3f}' .format(chi))\n",
    "print( ' p: {0:0.3f}'.format(pval))\n",
    "print( ' degree pf freedom: {}' .format(dof))"
   ]
  },
  {
   "cell_type": "markdown",
   "id": "a493873e",
   "metadata": {},
   "source": [
    "p > 0.05. 귀무가설이므로 서로 연관성 없음"
   ]
  },
  {
   "cell_type": "code",
   "execution_count": 171,
   "id": "0974bc9b",
   "metadata": {
    "scrolled": true
   },
   "outputs": [
    {
     "name": "stdout",
     "output_type": "stream",
     "text": [
      "chi-square test \n",
      " chisq: 34.343\n",
      " p: 1.000\n",
      " degree pf freedom: 364\n"
     ]
    }
   ],
   "source": [
    "df = pd.concat([df_raw['PM10'], df_raw['CO']], axis = 1)\n",
    "\n",
    "# chi-square test 실행\n",
    "chi, pval, dof, expected = stats.chi2_contingency(df.T)\n",
    "\n",
    "# chi-square test 결과 출력\n",
    "print( \"chi-square test \")\n",
    "print( ' chisq: {0:0.3f}' .format(chi))\n",
    "print( ' p: {0:0.3f}'.format(pval))\n",
    "print( ' degree pf freedom: {}' .format(dof))"
   ]
  },
  {
   "cell_type": "markdown",
   "id": "15edde8f",
   "metadata": {},
   "source": [
    "p > 0.05. 귀무가설이므로 서로 연관성 없음"
   ]
  },
  {
   "cell_type": "code",
   "execution_count": 172,
   "id": "46f9c77e",
   "metadata": {
    "scrolled": true
   },
   "outputs": [
    {
     "name": "stdout",
     "output_type": "stream",
     "text": [
      "chi-square test \n",
      " chisq: 0.224\n",
      " p: 1.000\n",
      " degree pf freedom: 364\n"
     ]
    }
   ],
   "source": [
    "df = pd.concat([df_raw['PM10'], df_raw['SO2']], axis = 1)\n",
    "\n",
    "# chi-square test 실행\n",
    "chi, pval, dof, expected = stats.chi2_contingency(df.T)\n",
    "\n",
    "# chi-square test 결과 출력\n",
    "print( \"chi-square test \")\n",
    "print( ' chisq: {0:0.3f}' .format(chi))\n",
    "print( ' p: {0:0.3f}'.format(pval))\n",
    "print( ' degree pf freedom: {}' .format(dof))"
   ]
  },
  {
   "cell_type": "markdown",
   "id": "882c7ed7",
   "metadata": {},
   "source": [
    "p > 0.05. 귀무가설이므로 서로 연관성 없음"
   ]
  },
  {
   "cell_type": "code",
   "execution_count": 174,
   "id": "925ece42",
   "metadata": {},
   "outputs": [
    {
     "name": "stdout",
     "output_type": "stream",
     "text": [
      "chi-square test \n",
      " chisq: 3237.381\n",
      " p: 0.000\n",
      " degree pf freedom: 364\n"
     ]
    }
   ],
   "source": [
    "df = pd.concat([df_raw['PM10'], df_raw['TEMP']], axis = 1)\n",
    "df[df < 0] = 0\n",
    "# chi-square test 실행\n",
    "chi, pval, dof, expected = stats.chi2_contingency(df.T)\n",
    "\n",
    "# chi-square test 결과 출력\n",
    "print( \"chi-square test \")\n",
    "print( ' chisq: {0:0.3f}' .format(chi))\n",
    "print( ' p: {0:0.3f}'.format(pval))\n",
    "print( ' degree pf freedom: {}' .format(dof))"
   ]
  },
  {
   "cell_type": "markdown",
   "id": "67b630da",
   "metadata": {},
   "source": [
    "p < 0.05. 대립가설이므로 서로 연관성 있음"
   ]
  },
  {
   "cell_type": "code",
   "execution_count": 175,
   "id": "dfdbdfba",
   "metadata": {
    "scrolled": true
   },
   "outputs": [
    {
     "name": "stdout",
     "output_type": "stream",
     "text": [
      "chi-square test \n",
      " chisq: 1544.775\n",
      " p: 0.000\n",
      " degree pf freedom: 364\n"
     ]
    }
   ],
   "source": [
    "df = pd.concat([df_raw['PM10'], df_raw['RAIN']], axis = 1)\n",
    "\n",
    "# chi-square test 실행\n",
    "chi, pval, dof, expected = stats.chi2_contingency(df.T)\n",
    "\n",
    "# chi-square test 결과 출력\n",
    "print( \"chi-square test \")\n",
    "print( ' chisq: {0:0.3f}' .format(chi))\n",
    "print( ' p: {0:0.3f}'.format(pval))\n",
    "print( ' degree pf freedom: {}' .format(dof))"
   ]
  },
  {
   "cell_type": "markdown",
   "id": "a3560467",
   "metadata": {},
   "source": [
    "p < 0.05. 대립가설이므로 서로 연관성 있음"
   ]
  },
  {
   "cell_type": "code",
   "execution_count": 176,
   "id": "f417cf3d",
   "metadata": {
    "scrolled": true
   },
   "outputs": [
    {
     "name": "stdout",
     "output_type": "stream",
     "text": [
      "chi-square test \n",
      " chisq: 348.045\n",
      " p: 0.717\n",
      " degree pf freedom: 364\n"
     ]
    }
   ],
   "source": [
    "df = pd.concat([df_raw['PM10'], df_raw['WIND']], axis = 1)\n",
    "\n",
    "# chi-square test 실행\n",
    "chi, pval, dof, expected = stats.chi2_contingency(df.T)\n",
    "\n",
    "# chi-square test 결과 출력\n",
    "print( \"chi-square test \")\n",
    "print( ' chisq: {0:0.3f}' .format(chi))\n",
    "print( ' p: {0:0.3f}'.format(pval))\n",
    "print( ' degree pf freedom: {}' .format(dof))"
   ]
  },
  {
   "cell_type": "markdown",
   "id": "200c3d14",
   "metadata": {},
   "source": [
    "p > 0.05. 귀무가설이므로 서로 연관성 없음"
   ]
  },
  {
   "cell_type": "code",
   "execution_count": 177,
   "id": "0539d051",
   "metadata": {},
   "outputs": [
    {
     "name": "stdout",
     "output_type": "stream",
     "text": [
      "chi-square test \n",
      " chisq: 3828.779\n",
      " p: 0.000\n",
      " degree pf freedom: 364\n"
     ]
    }
   ],
   "source": [
    "df = pd.concat([df_raw['PM10'], df_raw['WIND_DIR']], axis = 1)\n",
    "\n",
    "# chi-square test 실행\n",
    "chi, pval, dof, expected = stats.chi2_contingency(df.T)\n",
    "\n",
    "# chi-square test 결과 출력\n",
    "print( \"chi-square test \")\n",
    "print( ' chisq: {0:0.3f}' .format(chi))\n",
    "print( ' p: {0:0.3f}'.format(pval))\n",
    "print( ' degree pf freedom: {}' .format(dof))"
   ]
  },
  {
   "cell_type": "markdown",
   "id": "c6fa10aa",
   "metadata": {},
   "source": [
    "p < 0.05. 대립가설이므로 서로 연관성 있음"
   ]
  },
  {
   "cell_type": "code",
   "execution_count": 178,
   "id": "51bdbf65",
   "metadata": {},
   "outputs": [
    {
     "name": "stdout",
     "output_type": "stream",
     "text": [
      "chi-square test \n",
      " chisq: 2344.342\n",
      " p: 0.000\n",
      " degree pf freedom: 364\n"
     ]
    }
   ],
   "source": [
    "df = pd.concat([df_raw['PM10'], df_raw['HUMIDITY']], axis = 1)\n",
    "\n",
    "# chi-square test 실행\n",
    "chi, pval, dof, expected = stats.chi2_contingency(df.T)\n",
    "\n",
    "# chi-square test 결과 출력\n",
    "print( \"chi-square test \")\n",
    "print( ' chisq: {0:0.3f}' .format(chi))\n",
    "print( ' p: {0:0.3f}'.format(pval))\n",
    "print( ' degree pf freedom: {}' .format(dof))"
   ]
  },
  {
   "cell_type": "markdown",
   "id": "527262d1",
   "metadata": {},
   "source": [
    "p < 0.05. 대립가설이므로 서로 연관성 있음"
   ]
  },
  {
   "cell_type": "code",
   "execution_count": 179,
   "id": "e51f3271",
   "metadata": {
    "scrolled": true
   },
   "outputs": [
    {
     "name": "stdout",
     "output_type": "stream",
     "text": [
      "chi-square test \n",
      " chisq: 2618.044\n",
      " p: 0.000\n",
      " degree pf freedom: 364\n"
     ]
    }
   ],
   "source": [
    "df = pd.concat([df_raw['PM10'], df_raw['ATM_PRESS']], axis = 1)\n",
    "\n",
    "# chi-square test 실행\n",
    "chi, pval, dof, expected = stats.chi2_contingency(df.T)\n",
    "\n",
    "# chi-square test 결과 출력\n",
    "print( \"chi-square test \")\n",
    "print( ' chisq: {0:0.3f}' .format(chi))\n",
    "print( ' p: {0:0.3f}'.format(pval))\n",
    "print( ' degree pf freedom: {}' .format(dof))"
   ]
  },
  {
   "cell_type": "markdown",
   "id": "8d6d6ae1",
   "metadata": {},
   "source": [
    "p < 0.05. 대립가설이므로 서로 연관성 있음"
   ]
  },
  {
   "cell_type": "code",
   "execution_count": 180,
   "id": "3805d409",
   "metadata": {
    "scrolled": false
   },
   "outputs": [
    {
     "name": "stdout",
     "output_type": "stream",
     "text": [
      "chi-square test \n",
      " chisq: 807.472\n",
      " p: 0.000\n",
      " degree pf freedom: 364\n"
     ]
    }
   ],
   "source": [
    "df = pd.concat([df_raw['PM10'], df_raw['SNOW']], axis = 1)\n",
    "\n",
    "# chi-square test 실행\n",
    "chi, pval, dof, expected = stats.chi2_contingency(df.T)\n",
    "\n",
    "# chi-square test 결과 출력\n",
    "print( \"chi-square test \")\n",
    "print( ' chisq: {0:0.3f}' .format(chi))\n",
    "print( ' p: {0:0.3f}'.format(pval))\n",
    "print( ' degree pf freedom: {}' .format(dof))"
   ]
  },
  {
   "cell_type": "markdown",
   "id": "3c6a135f",
   "metadata": {},
   "source": [
    "p < 0.05. 대립가설이므로 서로 연관성 있음"
   ]
  },
  {
   "cell_type": "code",
   "execution_count": 181,
   "id": "f3fec6ab",
   "metadata": {
    "scrolled": true
   },
   "outputs": [
    {
     "name": "stdout",
     "output_type": "stream",
     "text": [
      "chi-square test \n",
      " chisq: 1305.379\n",
      " p: 0.000\n",
      " degree pf freedom: 364\n"
     ]
    }
   ],
   "source": [
    "df = pd.concat([df_raw['PM10'], df_raw['CLOUD']], axis = 1)\n",
    "\n",
    "# chi-square test 실행\n",
    "chi, pval, dof, expected = stats.chi2_contingency(df.T)\n",
    "\n",
    "# chi-square test 결과 출력\n",
    "print( \"chi-square test \")\n",
    "print( ' chisq: {0:0.3f}' .format(chi))\n",
    "print( ' p: {0:0.3f}'.format(pval))\n",
    "print( ' degree pf freedom: {}' .format(dof))"
   ]
  },
  {
   "cell_type": "markdown",
   "id": "f4d27052",
   "metadata": {},
   "source": [
    "p < 0.05. 대립가설이므로 서로 연관성 있음"
   ]
  },
  {
   "cell_type": "markdown",
   "id": "084a59ee",
   "metadata": {},
   "source": [
    "### 상관관계 분석"
   ]
  },
  {
   "cell_type": "code",
   "execution_count": 182,
   "id": "72cc559e",
   "metadata": {},
   "outputs": [
    {
     "data": {
      "text/html": [
       "<div>\n",
       "<style scoped>\n",
       "    .dataframe tbody tr th:only-of-type {\n",
       "        vertical-align: middle;\n",
       "    }\n",
       "\n",
       "    .dataframe tbody tr th {\n",
       "        vertical-align: top;\n",
       "    }\n",
       "\n",
       "    .dataframe thead th {\n",
       "        text-align: right;\n",
       "    }\n",
       "</style>\n",
       "<table border=\"1\" class=\"dataframe\">\n",
       "  <thead>\n",
       "    <tr style=\"text-align: right;\">\n",
       "      <th></th>\n",
       "      <th>MeasDate</th>\n",
       "      <th>PM10</th>\n",
       "      <th>O3</th>\n",
       "      <th>NO2</th>\n",
       "      <th>CO</th>\n",
       "      <th>SO2</th>\n",
       "      <th>TEMP</th>\n",
       "      <th>RAIN</th>\n",
       "      <th>WIND</th>\n",
       "      <th>WIND_DIR</th>\n",
       "      <th>HUMIDITY</th>\n",
       "      <th>ATM_PRESS</th>\n",
       "      <th>SNOW</th>\n",
       "      <th>CLOUD</th>\n",
       "    </tr>\n",
       "  </thead>\n",
       "  <tbody>\n",
       "    <tr>\n",
       "      <th>0</th>\n",
       "      <td>2019-07-01</td>\n",
       "      <td>29.0</td>\n",
       "      <td>0.054</td>\n",
       "      <td>0.021</td>\n",
       "      <td>0.5</td>\n",
       "      <td>0.003</td>\n",
       "      <td>24.03</td>\n",
       "      <td>0.00</td>\n",
       "      <td>2.30</td>\n",
       "      <td>249</td>\n",
       "      <td>63.2</td>\n",
       "      <td>995.1</td>\n",
       "      <td>0.0</td>\n",
       "      <td>5.70</td>\n",
       "    </tr>\n",
       "    <tr>\n",
       "      <th>1</th>\n",
       "      <td>2019-07-02</td>\n",
       "      <td>26.0</td>\n",
       "      <td>0.053</td>\n",
       "      <td>0.020</td>\n",
       "      <td>0.5</td>\n",
       "      <td>0.003</td>\n",
       "      <td>24.29</td>\n",
       "      <td>0.00</td>\n",
       "      <td>2.26</td>\n",
       "      <td>265</td>\n",
       "      <td>63.2</td>\n",
       "      <td>998.6</td>\n",
       "      <td>0.0</td>\n",
       "      <td>3.83</td>\n",
       "    </tr>\n",
       "    <tr>\n",
       "      <th>2</th>\n",
       "      <td>2019-07-03</td>\n",
       "      <td>30.0</td>\n",
       "      <td>0.042</td>\n",
       "      <td>0.023</td>\n",
       "      <td>0.4</td>\n",
       "      <td>0.003</td>\n",
       "      <td>24.18</td>\n",
       "      <td>0.00</td>\n",
       "      <td>1.79</td>\n",
       "      <td>280</td>\n",
       "      <td>65.3</td>\n",
       "      <td>998.3</td>\n",
       "      <td>0.0</td>\n",
       "      <td>6.29</td>\n",
       "    </tr>\n",
       "    <tr>\n",
       "      <th>3</th>\n",
       "      <td>2019-07-04</td>\n",
       "      <td>28.0</td>\n",
       "      <td>0.034</td>\n",
       "      <td>0.026</td>\n",
       "      <td>0.4</td>\n",
       "      <td>0.003</td>\n",
       "      <td>25.35</td>\n",
       "      <td>0.00</td>\n",
       "      <td>2.04</td>\n",
       "      <td>263</td>\n",
       "      <td>58.6</td>\n",
       "      <td>996.6</td>\n",
       "      <td>0.0</td>\n",
       "      <td>2.54</td>\n",
       "    </tr>\n",
       "    <tr>\n",
       "      <th>4</th>\n",
       "      <td>2019-07-05</td>\n",
       "      <td>29.0</td>\n",
       "      <td>0.045</td>\n",
       "      <td>0.035</td>\n",
       "      <td>0.5</td>\n",
       "      <td>0.003</td>\n",
       "      <td>27.30</td>\n",
       "      <td>0.00</td>\n",
       "      <td>1.45</td>\n",
       "      <td>175</td>\n",
       "      <td>45.5</td>\n",
       "      <td>993.5</td>\n",
       "      <td>0.0</td>\n",
       "      <td>3.92</td>\n",
       "    </tr>\n",
       "    <tr>\n",
       "      <th>...</th>\n",
       "      <td>...</td>\n",
       "      <td>...</td>\n",
       "      <td>...</td>\n",
       "      <td>...</td>\n",
       "      <td>...</td>\n",
       "      <td>...</td>\n",
       "      <td>...</td>\n",
       "      <td>...</td>\n",
       "      <td>...</td>\n",
       "      <td>...</td>\n",
       "      <td>...</td>\n",
       "      <td>...</td>\n",
       "      <td>...</td>\n",
       "      <td>...</td>\n",
       "    </tr>\n",
       "    <tr>\n",
       "      <th>361</th>\n",
       "      <td>2020-06-26</td>\n",
       "      <td>19.0</td>\n",
       "      <td>0.039</td>\n",
       "      <td>0.016</td>\n",
       "      <td>0.4</td>\n",
       "      <td>0.003</td>\n",
       "      <td>21.66</td>\n",
       "      <td>0.41</td>\n",
       "      <td>3.12</td>\n",
       "      <td>228</td>\n",
       "      <td>84.0</td>\n",
       "      <td>996.0</td>\n",
       "      <td>0.0</td>\n",
       "      <td>8.73</td>\n",
       "    </tr>\n",
       "    <tr>\n",
       "      <th>362</th>\n",
       "      <td>2020-06-27</td>\n",
       "      <td>22.0</td>\n",
       "      <td>0.044</td>\n",
       "      <td>0.017</td>\n",
       "      <td>0.4</td>\n",
       "      <td>0.004</td>\n",
       "      <td>23.94</td>\n",
       "      <td>0.00</td>\n",
       "      <td>1.93</td>\n",
       "      <td>217</td>\n",
       "      <td>69.8</td>\n",
       "      <td>995.8</td>\n",
       "      <td>0.0</td>\n",
       "      <td>6.21</td>\n",
       "    </tr>\n",
       "    <tr>\n",
       "      <th>363</th>\n",
       "      <td>2020-06-28</td>\n",
       "      <td>27.0</td>\n",
       "      <td>0.044</td>\n",
       "      <td>0.009</td>\n",
       "      <td>0.4</td>\n",
       "      <td>0.003</td>\n",
       "      <td>25.03</td>\n",
       "      <td>0.00</td>\n",
       "      <td>2.35</td>\n",
       "      <td>283</td>\n",
       "      <td>71.3</td>\n",
       "      <td>994.7</td>\n",
       "      <td>0.0</td>\n",
       "      <td>2.63</td>\n",
       "    </tr>\n",
       "    <tr>\n",
       "      <th>364</th>\n",
       "      <td>2020-06-29</td>\n",
       "      <td>36.0</td>\n",
       "      <td>0.026</td>\n",
       "      <td>0.028</td>\n",
       "      <td>0.6</td>\n",
       "      <td>0.003</td>\n",
       "      <td>24.06</td>\n",
       "      <td>1.26</td>\n",
       "      <td>2.48</td>\n",
       "      <td>103</td>\n",
       "      <td>75.5</td>\n",
       "      <td>992.9</td>\n",
       "      <td>0.0</td>\n",
       "      <td>7.58</td>\n",
       "    </tr>\n",
       "    <tr>\n",
       "      <th>365</th>\n",
       "      <td>2020-06-30</td>\n",
       "      <td>6.0</td>\n",
       "      <td>0.039</td>\n",
       "      <td>0.009</td>\n",
       "      <td>0.3</td>\n",
       "      <td>0.002</td>\n",
       "      <td>20.60</td>\n",
       "      <td>5.60</td>\n",
       "      <td>4.00</td>\n",
       "      <td>50</td>\n",
       "      <td>92.0</td>\n",
       "      <td>983.8</td>\n",
       "      <td>0.0</td>\n",
       "      <td>10.00</td>\n",
       "    </tr>\n",
       "  </tbody>\n",
       "</table>\n",
       "<p>366 rows × 14 columns</p>\n",
       "</div>"
      ],
      "text/plain": [
       "       MeasDate  PM10     O3    NO2   CO    SO2   TEMP  RAIN  WIND  WIND_DIR  \\\n",
       "0    2019-07-01  29.0  0.054  0.021  0.5  0.003  24.03  0.00  2.30       249   \n",
       "1    2019-07-02  26.0  0.053  0.020  0.5  0.003  24.29  0.00  2.26       265   \n",
       "2    2019-07-03  30.0  0.042  0.023  0.4  0.003  24.18  0.00  1.79       280   \n",
       "3    2019-07-04  28.0  0.034  0.026  0.4  0.003  25.35  0.00  2.04       263   \n",
       "4    2019-07-05  29.0  0.045  0.035  0.5  0.003  27.30  0.00  1.45       175   \n",
       "..          ...   ...    ...    ...  ...    ...    ...   ...   ...       ...   \n",
       "361  2020-06-26  19.0  0.039  0.016  0.4  0.003  21.66  0.41  3.12       228   \n",
       "362  2020-06-27  22.0  0.044  0.017  0.4  0.004  23.94  0.00  1.93       217   \n",
       "363  2020-06-28  27.0  0.044  0.009  0.4  0.003  25.03  0.00  2.35       283   \n",
       "364  2020-06-29  36.0  0.026  0.028  0.6  0.003  24.06  1.26  2.48       103   \n",
       "365  2020-06-30   6.0  0.039  0.009  0.3  0.002  20.60  5.60  4.00        50   \n",
       "\n",
       "     HUMIDITY  ATM_PRESS  SNOW  CLOUD  \n",
       "0        63.2      995.1   0.0   5.70  \n",
       "1        63.2      998.6   0.0   3.83  \n",
       "2        65.3      998.3   0.0   6.29  \n",
       "3        58.6      996.6   0.0   2.54  \n",
       "4        45.5      993.5   0.0   3.92  \n",
       "..        ...        ...   ...    ...  \n",
       "361      84.0      996.0   0.0   8.73  \n",
       "362      69.8      995.8   0.0   6.21  \n",
       "363      71.3      994.7   0.0   2.63  \n",
       "364      75.5      992.9   0.0   7.58  \n",
       "365      92.0      983.8   0.0  10.00  \n",
       "\n",
       "[366 rows x 14 columns]"
      ]
     },
     "execution_count": 182,
     "metadata": {},
     "output_type": "execute_result"
    }
   ],
   "source": [
    "df_raw = pd.read_csv('DATA/AIR_POLLUTION.csv')\n",
    "df_raw"
   ]
  },
  {
   "cell_type": "code",
   "execution_count": 183,
   "id": "eac7cba6",
   "metadata": {},
   "outputs": [
    {
     "data": {
      "text/html": [
       "<div>\n",
       "<style scoped>\n",
       "    .dataframe tbody tr th:only-of-type {\n",
       "        vertical-align: middle;\n",
       "    }\n",
       "\n",
       "    .dataframe tbody tr th {\n",
       "        vertical-align: top;\n",
       "    }\n",
       "\n",
       "    .dataframe thead th {\n",
       "        text-align: right;\n",
       "    }\n",
       "</style>\n",
       "<table border=\"1\" class=\"dataframe\">\n",
       "  <thead>\n",
       "    <tr style=\"text-align: right;\">\n",
       "      <th></th>\n",
       "      <th>PM10</th>\n",
       "      <th>O3</th>\n",
       "      <th>NO2</th>\n",
       "      <th>CO</th>\n",
       "      <th>SO2</th>\n",
       "      <th>TEMP</th>\n",
       "      <th>RAIN</th>\n",
       "      <th>WIND</th>\n",
       "      <th>WIND_DIR</th>\n",
       "      <th>HUMIDITY</th>\n",
       "      <th>ATM_PRESS</th>\n",
       "      <th>SNOW</th>\n",
       "      <th>CLOUD</th>\n",
       "    </tr>\n",
       "  </thead>\n",
       "  <tbody>\n",
       "    <tr>\n",
       "      <th>PM10</th>\n",
       "      <td>1.000000</td>\n",
       "      <td>-0.051763</td>\n",
       "      <td>0.395969</td>\n",
       "      <td>0.587857</td>\n",
       "      <td>0.428685</td>\n",
       "      <td>-0.309786</td>\n",
       "      <td>-0.121444</td>\n",
       "      <td>-0.100323</td>\n",
       "      <td>0.019949</td>\n",
       "      <td>-0.149803</td>\n",
       "      <td>0.253023</td>\n",
       "      <td>-0.020007</td>\n",
       "      <td>-0.172230</td>\n",
       "    </tr>\n",
       "    <tr>\n",
       "      <th>O3</th>\n",
       "      <td>-0.051763</td>\n",
       "      <td>1.000000</td>\n",
       "      <td>-0.591658</td>\n",
       "      <td>-0.559331</td>\n",
       "      <td>-0.234127</td>\n",
       "      <td>0.516257</td>\n",
       "      <td>-0.103903</td>\n",
       "      <td>0.165216</td>\n",
       "      <td>0.268680</td>\n",
       "      <td>-0.037699</td>\n",
       "      <td>-0.534372</td>\n",
       "      <td>0.003900</td>\n",
       "      <td>-0.119307</td>\n",
       "    </tr>\n",
       "    <tr>\n",
       "      <th>NO2</th>\n",
       "      <td>0.395969</td>\n",
       "      <td>-0.591658</td>\n",
       "      <td>1.000000</td>\n",
       "      <td>0.811093</td>\n",
       "      <td>0.563432</td>\n",
       "      <td>-0.237406</td>\n",
       "      <td>0.029298</td>\n",
       "      <td>-0.536649</td>\n",
       "      <td>-0.408342</td>\n",
       "      <td>-0.065514</td>\n",
       "      <td>0.420292</td>\n",
       "      <td>-0.120893</td>\n",
       "      <td>0.016722</td>\n",
       "    </tr>\n",
       "    <tr>\n",
       "      <th>CO</th>\n",
       "      <td>0.587857</td>\n",
       "      <td>-0.559331</td>\n",
       "      <td>0.811093</td>\n",
       "      <td>1.000000</td>\n",
       "      <td>0.594374</td>\n",
       "      <td>-0.400278</td>\n",
       "      <td>0.043811</td>\n",
       "      <td>-0.463082</td>\n",
       "      <td>-0.343161</td>\n",
       "      <td>0.063429</td>\n",
       "      <td>0.429494</td>\n",
       "      <td>-0.056320</td>\n",
       "      <td>0.039501</td>\n",
       "    </tr>\n",
       "    <tr>\n",
       "      <th>SO2</th>\n",
       "      <td>0.428685</td>\n",
       "      <td>-0.234127</td>\n",
       "      <td>0.563432</td>\n",
       "      <td>0.594374</td>\n",
       "      <td>1.000000</td>\n",
       "      <td>-0.273629</td>\n",
       "      <td>-0.128750</td>\n",
       "      <td>-0.252864</td>\n",
       "      <td>-0.093200</td>\n",
       "      <td>-0.302278</td>\n",
       "      <td>0.333995</td>\n",
       "      <td>-0.102927</td>\n",
       "      <td>-0.191234</td>\n",
       "    </tr>\n",
       "    <tr>\n",
       "      <th>TEMP</th>\n",
       "      <td>-0.309786</td>\n",
       "      <td>0.516257</td>\n",
       "      <td>-0.237406</td>\n",
       "      <td>-0.400278</td>\n",
       "      <td>-0.273629</td>\n",
       "      <td>1.000000</td>\n",
       "      <td>0.078213</td>\n",
       "      <td>-0.214908</td>\n",
       "      <td>-0.049674</td>\n",
       "      <td>0.404279</td>\n",
       "      <td>-0.792049</td>\n",
       "      <td>-0.184570</td>\n",
       "      <td>0.342033</td>\n",
       "    </tr>\n",
       "    <tr>\n",
       "      <th>RAIN</th>\n",
       "      <td>-0.121444</td>\n",
       "      <td>-0.103903</td>\n",
       "      <td>0.029298</td>\n",
       "      <td>0.043811</td>\n",
       "      <td>-0.128750</td>\n",
       "      <td>0.078213</td>\n",
       "      <td>1.000000</td>\n",
       "      <td>0.127875</td>\n",
       "      <td>-0.181330</td>\n",
       "      <td>0.398917</td>\n",
       "      <td>-0.237155</td>\n",
       "      <td>0.019097</td>\n",
       "      <td>0.359667</td>\n",
       "    </tr>\n",
       "    <tr>\n",
       "      <th>WIND</th>\n",
       "      <td>-0.100323</td>\n",
       "      <td>0.165216</td>\n",
       "      <td>-0.536649</td>\n",
       "      <td>-0.463082</td>\n",
       "      <td>-0.252864</td>\n",
       "      <td>-0.214908</td>\n",
       "      <td>0.127875</td>\n",
       "      <td>1.000000</td>\n",
       "      <td>0.236445</td>\n",
       "      <td>-0.080166</td>\n",
       "      <td>-0.055550</td>\n",
       "      <td>0.145407</td>\n",
       "      <td>0.019298</td>\n",
       "    </tr>\n",
       "    <tr>\n",
       "      <th>WIND_DIR</th>\n",
       "      <td>0.019949</td>\n",
       "      <td>0.268680</td>\n",
       "      <td>-0.408342</td>\n",
       "      <td>-0.343161</td>\n",
       "      <td>-0.093200</td>\n",
       "      <td>-0.049674</td>\n",
       "      <td>-0.181330</td>\n",
       "      <td>0.236445</td>\n",
       "      <td>1.000000</td>\n",
       "      <td>-0.095500</td>\n",
       "      <td>0.066025</td>\n",
       "      <td>0.107754</td>\n",
       "      <td>-0.294381</td>\n",
       "    </tr>\n",
       "    <tr>\n",
       "      <th>HUMIDITY</th>\n",
       "      <td>-0.149803</td>\n",
       "      <td>-0.037699</td>\n",
       "      <td>-0.065514</td>\n",
       "      <td>0.063429</td>\n",
       "      <td>-0.302278</td>\n",
       "      <td>0.404279</td>\n",
       "      <td>0.398917</td>\n",
       "      <td>-0.080166</td>\n",
       "      <td>-0.095500</td>\n",
       "      <td>1.000000</td>\n",
       "      <td>-0.511609</td>\n",
       "      <td>0.021134</td>\n",
       "      <td>0.629431</td>\n",
       "    </tr>\n",
       "    <tr>\n",
       "      <th>ATM_PRESS</th>\n",
       "      <td>0.253023</td>\n",
       "      <td>-0.534372</td>\n",
       "      <td>0.420292</td>\n",
       "      <td>0.429494</td>\n",
       "      <td>0.333995</td>\n",
       "      <td>-0.792049</td>\n",
       "      <td>-0.237155</td>\n",
       "      <td>-0.055550</td>\n",
       "      <td>0.066025</td>\n",
       "      <td>-0.511609</td>\n",
       "      <td>1.000000</td>\n",
       "      <td>0.040418</td>\n",
       "      <td>-0.431014</td>\n",
       "    </tr>\n",
       "    <tr>\n",
       "      <th>SNOW</th>\n",
       "      <td>-0.020007</td>\n",
       "      <td>0.003900</td>\n",
       "      <td>-0.120893</td>\n",
       "      <td>-0.056320</td>\n",
       "      <td>-0.102927</td>\n",
       "      <td>-0.184570</td>\n",
       "      <td>0.019097</td>\n",
       "      <td>0.145407</td>\n",
       "      <td>0.107754</td>\n",
       "      <td>0.021134</td>\n",
       "      <td>0.040418</td>\n",
       "      <td>1.000000</td>\n",
       "      <td>0.021069</td>\n",
       "    </tr>\n",
       "    <tr>\n",
       "      <th>CLOUD</th>\n",
       "      <td>-0.172230</td>\n",
       "      <td>-0.119307</td>\n",
       "      <td>0.016722</td>\n",
       "      <td>0.039501</td>\n",
       "      <td>-0.191234</td>\n",
       "      <td>0.342033</td>\n",
       "      <td>0.359667</td>\n",
       "      <td>0.019298</td>\n",
       "      <td>-0.294381</td>\n",
       "      <td>0.629431</td>\n",
       "      <td>-0.431014</td>\n",
       "      <td>0.021069</td>\n",
       "      <td>1.000000</td>\n",
       "    </tr>\n",
       "  </tbody>\n",
       "</table>\n",
       "</div>"
      ],
      "text/plain": [
       "               PM10        O3       NO2        CO       SO2      TEMP  \\\n",
       "PM10       1.000000 -0.051763  0.395969  0.587857  0.428685 -0.309786   \n",
       "O3        -0.051763  1.000000 -0.591658 -0.559331 -0.234127  0.516257   \n",
       "NO2        0.395969 -0.591658  1.000000  0.811093  0.563432 -0.237406   \n",
       "CO         0.587857 -0.559331  0.811093  1.000000  0.594374 -0.400278   \n",
       "SO2        0.428685 -0.234127  0.563432  0.594374  1.000000 -0.273629   \n",
       "TEMP      -0.309786  0.516257 -0.237406 -0.400278 -0.273629  1.000000   \n",
       "RAIN      -0.121444 -0.103903  0.029298  0.043811 -0.128750  0.078213   \n",
       "WIND      -0.100323  0.165216 -0.536649 -0.463082 -0.252864 -0.214908   \n",
       "WIND_DIR   0.019949  0.268680 -0.408342 -0.343161 -0.093200 -0.049674   \n",
       "HUMIDITY  -0.149803 -0.037699 -0.065514  0.063429 -0.302278  0.404279   \n",
       "ATM_PRESS  0.253023 -0.534372  0.420292  0.429494  0.333995 -0.792049   \n",
       "SNOW      -0.020007  0.003900 -0.120893 -0.056320 -0.102927 -0.184570   \n",
       "CLOUD     -0.172230 -0.119307  0.016722  0.039501 -0.191234  0.342033   \n",
       "\n",
       "               RAIN      WIND  WIND_DIR  HUMIDITY  ATM_PRESS      SNOW  \\\n",
       "PM10      -0.121444 -0.100323  0.019949 -0.149803   0.253023 -0.020007   \n",
       "O3        -0.103903  0.165216  0.268680 -0.037699  -0.534372  0.003900   \n",
       "NO2        0.029298 -0.536649 -0.408342 -0.065514   0.420292 -0.120893   \n",
       "CO         0.043811 -0.463082 -0.343161  0.063429   0.429494 -0.056320   \n",
       "SO2       -0.128750 -0.252864 -0.093200 -0.302278   0.333995 -0.102927   \n",
       "TEMP       0.078213 -0.214908 -0.049674  0.404279  -0.792049 -0.184570   \n",
       "RAIN       1.000000  0.127875 -0.181330  0.398917  -0.237155  0.019097   \n",
       "WIND       0.127875  1.000000  0.236445 -0.080166  -0.055550  0.145407   \n",
       "WIND_DIR  -0.181330  0.236445  1.000000 -0.095500   0.066025  0.107754   \n",
       "HUMIDITY   0.398917 -0.080166 -0.095500  1.000000  -0.511609  0.021134   \n",
       "ATM_PRESS -0.237155 -0.055550  0.066025 -0.511609   1.000000  0.040418   \n",
       "SNOW       0.019097  0.145407  0.107754  0.021134   0.040418  1.000000   \n",
       "CLOUD      0.359667  0.019298 -0.294381  0.629431  -0.431014  0.021069   \n",
       "\n",
       "              CLOUD  \n",
       "PM10      -0.172230  \n",
       "O3        -0.119307  \n",
       "NO2        0.016722  \n",
       "CO         0.039501  \n",
       "SO2       -0.191234  \n",
       "TEMP       0.342033  \n",
       "RAIN       0.359667  \n",
       "WIND       0.019298  \n",
       "WIND_DIR  -0.294381  \n",
       "HUMIDITY   0.629431  \n",
       "ATM_PRESS -0.431014  \n",
       "SNOW       0.021069  \n",
       "CLOUD      1.000000  "
      ]
     },
     "execution_count": 183,
     "metadata": {},
     "output_type": "execute_result"
    }
   ],
   "source": [
    "df_corr = df_raw.corr()\n",
    "df_corr"
   ]
  },
  {
   "cell_type": "code",
   "execution_count": 184,
   "id": "c6a0cfb7",
   "metadata": {
    "scrolled": true
   },
   "outputs": [
    {
     "data": {
      "text/plain": [
       "PM10         1.000000\n",
       "CO           0.587857\n",
       "SO2          0.428685\n",
       "NO2          0.395969\n",
       "TEMP         0.309786\n",
       "ATM_PRESS    0.253023\n",
       "CLOUD        0.172230\n",
       "HUMIDITY     0.149803\n",
       "RAIN         0.121444\n",
       "WIND         0.100323\n",
       "O3           0.051763\n",
       "SNOW         0.020007\n",
       "WIND_DIR     0.019949\n",
       "Name: PM10, dtype: float64"
      ]
     },
     "execution_count": 184,
     "metadata": {},
     "output_type": "execute_result"
    }
   ],
   "source": [
    "abs(df_corr[\"PM10\"]).sort_values(ascending = False)"
   ]
  },
  {
   "cell_type": "markdown",
   "id": "b80b1b6c",
   "metadata": {},
   "source": [
    "PM10, CO, SO2, NO2, TEMP, ATM_PRESS, CLOUD, HUMIDITY, RAIN, WIND, O3는 0.05보다 크므로 상관관계 있음"
   ]
  },
  {
   "cell_type": "markdown",
   "id": "3607eeb9",
   "metadata": {},
   "source": [
    "## 모델링"
   ]
  },
  {
   "cell_type": "markdown",
   "id": "acabb232",
   "metadata": {},
   "source": [
    "### 다중선형회귀분석"
   ]
  },
  {
   "cell_type": "code",
   "execution_count": 337,
   "id": "563b414a",
   "metadata": {},
   "outputs": [],
   "source": [
    "# 데이터 구성:Series, DataFrame\n",
    "import pandas as pd\n",
    "# 행렬 연산\n",
    "import numpy as np\n",
    "# 데이터 시각화\n",
    "import matplotlib\n",
    "import matplotlib.pyplot as plt\n",
    "import seaborn as sns\n",
    "# 회귀분석\n",
    "from statsmodels.formula.api import ols\n",
    "# qqplot, 회귀분석의 상수항 추가\n",
    "from statsmodels.api import qqplot, add_constant\n",
    "# 선형 모델 formula(y ~ X1 + X2 + ...)\n",
    "import statsmodels.formula.api as smf\n",
    "# 다중공선성 확인\n",
    "from statsmodels.stats.outliers_influence import variance_inflation_factor\n",
    "# 학습용/평가용 데이터 분리:train, test\n",
    "from sklearn.model_selection import train_test_split\n",
    "# 선형회귀모형\n",
    "from sklearn.linear_model import LinearRegression\n",
    "# 변수 선택법(후진제거법)\n",
    "from sklearn.feature_selection import RFE\n",
    "# Scale 변환->표준화 회귀계수 산출\n",
    "from sklearn.preprocessing import StandardScaler\n",
    "# 평가함수\n",
    "from statsmodels.tools.eval_measures import rmse\n",
    "from statsmodels import stats\n",
    "from sklearn.metrics import r2_score"
   ]
  },
  {
   "cell_type": "code",
   "execution_count": 338,
   "id": "b6d95028",
   "metadata": {},
   "outputs": [],
   "source": [
    "df_raw = pd.read_csv('DATA/AIR_POLLUTION.csv')\n",
    "df_raw.drop('MeasDate', axis = 1, inplace = True)\n",
    "df_raw.dropna(subset=['PM10'] , inplace = True)\n",
    "df_raw.fillna(df_raw.mean(), inplace = True)"
   ]
  },
  {
   "cell_type": "code",
   "execution_count": 339,
   "id": "019cb96f",
   "metadata": {
    "scrolled": true
   },
   "outputs": [
    {
     "name": "stdout",
     "output_type": "stream",
     "text": [
      "train data X size : (219, 12)\n",
      "train data Y size : (219,)\n",
      "test data X size : (146, 12)\n",
      "test data Y size : (146,)\n"
     ]
    }
   ],
   "source": [
    "# 목표변수, 설명변수 데이터 지정\n",
    "df_raw_y = df_raw[\"PM10\"]\n",
    "df_raw_x = df_raw.drop(\"PM10\", axis = 1, inplace = False)\n",
    "\n",
    "# train/test data 분리\n",
    "df_train_x, df_test_x, df_train_y, df_test_y = train_test_split(df_raw_x, df_raw_y, test_size = 0.4, random_state = 1234) \n",
    "print(\"train data X size : {}\".format(df_train_x.shape))\n",
    "print(\"train data Y size : {}\".format(df_train_y.shape))\n",
    "print(\"test data X size : {}\".format(df_test_x.shape))\n",
    "print(\"test data Y size : {}\".format(df_test_y.shape))"
   ]
  },
  {
   "cell_type": "code",
   "execution_count": 340,
   "id": "4dc684b9",
   "metadata": {},
   "outputs": [],
   "source": [
    "#sns.pairplot(df_raw)"
   ]
  },
  {
   "cell_type": "code",
   "execution_count": 341,
   "id": "39aa9cfb",
   "metadata": {},
   "outputs": [
    {
     "data": {
      "text/html": [
       "<div>\n",
       "<style scoped>\n",
       "    .dataframe tbody tr th:only-of-type {\n",
       "        vertical-align: middle;\n",
       "    }\n",
       "\n",
       "    .dataframe tbody tr th {\n",
       "        vertical-align: top;\n",
       "    }\n",
       "\n",
       "    .dataframe thead th {\n",
       "        text-align: right;\n",
       "    }\n",
       "</style>\n",
       "<table border=\"1\" class=\"dataframe\">\n",
       "  <thead>\n",
       "    <tr style=\"text-align: right;\">\n",
       "      <th></th>\n",
       "      <th>PM10</th>\n",
       "      <th>O3</th>\n",
       "      <th>NO2</th>\n",
       "      <th>CO</th>\n",
       "      <th>SO2</th>\n",
       "      <th>TEMP</th>\n",
       "      <th>RAIN</th>\n",
       "      <th>WIND</th>\n",
       "      <th>WIND_DIR</th>\n",
       "      <th>HUMIDITY</th>\n",
       "      <th>ATM_PRESS</th>\n",
       "      <th>SNOW</th>\n",
       "      <th>CLOUD</th>\n",
       "    </tr>\n",
       "  </thead>\n",
       "  <tbody>\n",
       "    <tr>\n",
       "      <th>PM10</th>\n",
       "      <td>1.000</td>\n",
       "      <td>-0.052</td>\n",
       "      <td>0.396</td>\n",
       "      <td>0.548</td>\n",
       "      <td>0.429</td>\n",
       "      <td>-0.310</td>\n",
       "      <td>-0.121</td>\n",
       "      <td>-0.100</td>\n",
       "      <td>0.020</td>\n",
       "      <td>-0.150</td>\n",
       "      <td>0.253</td>\n",
       "      <td>-0.020</td>\n",
       "      <td>-0.172</td>\n",
       "    </tr>\n",
       "    <tr>\n",
       "      <th>O3</th>\n",
       "      <td>-0.052</td>\n",
       "      <td>1.000</td>\n",
       "      <td>-0.592</td>\n",
       "      <td>-0.509</td>\n",
       "      <td>-0.234</td>\n",
       "      <td>0.516</td>\n",
       "      <td>-0.104</td>\n",
       "      <td>0.165</td>\n",
       "      <td>0.269</td>\n",
       "      <td>-0.038</td>\n",
       "      <td>-0.534</td>\n",
       "      <td>0.004</td>\n",
       "      <td>-0.119</td>\n",
       "    </tr>\n",
       "    <tr>\n",
       "      <th>NO2</th>\n",
       "      <td>0.396</td>\n",
       "      <td>-0.592</td>\n",
       "      <td>1.000</td>\n",
       "      <td>0.786</td>\n",
       "      <td>0.563</td>\n",
       "      <td>-0.237</td>\n",
       "      <td>0.029</td>\n",
       "      <td>-0.537</td>\n",
       "      <td>-0.408</td>\n",
       "      <td>-0.066</td>\n",
       "      <td>0.420</td>\n",
       "      <td>-0.121</td>\n",
       "      <td>0.017</td>\n",
       "    </tr>\n",
       "    <tr>\n",
       "      <th>CO</th>\n",
       "      <td>0.548</td>\n",
       "      <td>-0.509</td>\n",
       "      <td>0.786</td>\n",
       "      <td>1.000</td>\n",
       "      <td>0.559</td>\n",
       "      <td>-0.340</td>\n",
       "      <td>0.037</td>\n",
       "      <td>-0.412</td>\n",
       "      <td>-0.320</td>\n",
       "      <td>0.057</td>\n",
       "      <td>0.385</td>\n",
       "      <td>-0.056</td>\n",
       "      <td>0.037</td>\n",
       "    </tr>\n",
       "    <tr>\n",
       "      <th>SO2</th>\n",
       "      <td>0.429</td>\n",
       "      <td>-0.234</td>\n",
       "      <td>0.563</td>\n",
       "      <td>0.559</td>\n",
       "      <td>1.000</td>\n",
       "      <td>-0.274</td>\n",
       "      <td>-0.129</td>\n",
       "      <td>-0.253</td>\n",
       "      <td>-0.093</td>\n",
       "      <td>-0.302</td>\n",
       "      <td>0.334</td>\n",
       "      <td>-0.103</td>\n",
       "      <td>-0.191</td>\n",
       "    </tr>\n",
       "    <tr>\n",
       "      <th>TEMP</th>\n",
       "      <td>-0.310</td>\n",
       "      <td>0.516</td>\n",
       "      <td>-0.237</td>\n",
       "      <td>-0.340</td>\n",
       "      <td>-0.274</td>\n",
       "      <td>1.000</td>\n",
       "      <td>0.077</td>\n",
       "      <td>-0.216</td>\n",
       "      <td>-0.050</td>\n",
       "      <td>0.404</td>\n",
       "      <td>-0.792</td>\n",
       "      <td>-0.185</td>\n",
       "      <td>0.342</td>\n",
       "    </tr>\n",
       "    <tr>\n",
       "      <th>RAIN</th>\n",
       "      <td>-0.121</td>\n",
       "      <td>-0.104</td>\n",
       "      <td>0.029</td>\n",
       "      <td>0.037</td>\n",
       "      <td>-0.129</td>\n",
       "      <td>0.077</td>\n",
       "      <td>1.000</td>\n",
       "      <td>0.126</td>\n",
       "      <td>-0.183</td>\n",
       "      <td>0.397</td>\n",
       "      <td>-0.236</td>\n",
       "      <td>0.019</td>\n",
       "      <td>0.358</td>\n",
       "    </tr>\n",
       "    <tr>\n",
       "      <th>WIND</th>\n",
       "      <td>-0.100</td>\n",
       "      <td>0.165</td>\n",
       "      <td>-0.537</td>\n",
       "      <td>-0.412</td>\n",
       "      <td>-0.253</td>\n",
       "      <td>-0.216</td>\n",
       "      <td>0.126</td>\n",
       "      <td>1.000</td>\n",
       "      <td>0.235</td>\n",
       "      <td>-0.084</td>\n",
       "      <td>-0.054</td>\n",
       "      <td>0.146</td>\n",
       "      <td>0.017</td>\n",
       "    </tr>\n",
       "    <tr>\n",
       "      <th>WIND_DIR</th>\n",
       "      <td>0.020</td>\n",
       "      <td>0.269</td>\n",
       "      <td>-0.408</td>\n",
       "      <td>-0.320</td>\n",
       "      <td>-0.093</td>\n",
       "      <td>-0.050</td>\n",
       "      <td>-0.183</td>\n",
       "      <td>0.235</td>\n",
       "      <td>1.000</td>\n",
       "      <td>-0.099</td>\n",
       "      <td>0.068</td>\n",
       "      <td>0.108</td>\n",
       "      <td>-0.297</td>\n",
       "    </tr>\n",
       "    <tr>\n",
       "      <th>HUMIDITY</th>\n",
       "      <td>-0.150</td>\n",
       "      <td>-0.038</td>\n",
       "      <td>-0.066</td>\n",
       "      <td>0.057</td>\n",
       "      <td>-0.302</td>\n",
       "      <td>0.404</td>\n",
       "      <td>0.397</td>\n",
       "      <td>-0.084</td>\n",
       "      <td>-0.099</td>\n",
       "      <td>1.000</td>\n",
       "      <td>-0.510</td>\n",
       "      <td>0.022</td>\n",
       "      <td>0.628</td>\n",
       "    </tr>\n",
       "    <tr>\n",
       "      <th>ATM_PRESS</th>\n",
       "      <td>0.253</td>\n",
       "      <td>-0.534</td>\n",
       "      <td>0.420</td>\n",
       "      <td>0.385</td>\n",
       "      <td>0.334</td>\n",
       "      <td>-0.792</td>\n",
       "      <td>-0.236</td>\n",
       "      <td>-0.054</td>\n",
       "      <td>0.068</td>\n",
       "      <td>-0.510</td>\n",
       "      <td>1.000</td>\n",
       "      <td>0.040</td>\n",
       "      <td>-0.430</td>\n",
       "    </tr>\n",
       "    <tr>\n",
       "      <th>SNOW</th>\n",
       "      <td>-0.020</td>\n",
       "      <td>0.004</td>\n",
       "      <td>-0.121</td>\n",
       "      <td>-0.056</td>\n",
       "      <td>-0.103</td>\n",
       "      <td>-0.185</td>\n",
       "      <td>0.019</td>\n",
       "      <td>0.146</td>\n",
       "      <td>0.108</td>\n",
       "      <td>0.022</td>\n",
       "      <td>0.040</td>\n",
       "      <td>1.000</td>\n",
       "      <td>0.021</td>\n",
       "    </tr>\n",
       "    <tr>\n",
       "      <th>CLOUD</th>\n",
       "      <td>-0.172</td>\n",
       "      <td>-0.119</td>\n",
       "      <td>0.017</td>\n",
       "      <td>0.037</td>\n",
       "      <td>-0.191</td>\n",
       "      <td>0.342</td>\n",
       "      <td>0.358</td>\n",
       "      <td>0.017</td>\n",
       "      <td>-0.297</td>\n",
       "      <td>0.628</td>\n",
       "      <td>-0.430</td>\n",
       "      <td>0.021</td>\n",
       "      <td>1.000</td>\n",
       "    </tr>\n",
       "  </tbody>\n",
       "</table>\n",
       "</div>"
      ],
      "text/plain": [
       "            PM10     O3    NO2     CO    SO2   TEMP   RAIN   WIND  WIND_DIR  \\\n",
       "PM10       1.000 -0.052  0.396  0.548  0.429 -0.310 -0.121 -0.100     0.020   \n",
       "O3        -0.052  1.000 -0.592 -0.509 -0.234  0.516 -0.104  0.165     0.269   \n",
       "NO2        0.396 -0.592  1.000  0.786  0.563 -0.237  0.029 -0.537    -0.408   \n",
       "CO         0.548 -0.509  0.786  1.000  0.559 -0.340  0.037 -0.412    -0.320   \n",
       "SO2        0.429 -0.234  0.563  0.559  1.000 -0.274 -0.129 -0.253    -0.093   \n",
       "TEMP      -0.310  0.516 -0.237 -0.340 -0.274  1.000  0.077 -0.216    -0.050   \n",
       "RAIN      -0.121 -0.104  0.029  0.037 -0.129  0.077  1.000  0.126    -0.183   \n",
       "WIND      -0.100  0.165 -0.537 -0.412 -0.253 -0.216  0.126  1.000     0.235   \n",
       "WIND_DIR   0.020  0.269 -0.408 -0.320 -0.093 -0.050 -0.183  0.235     1.000   \n",
       "HUMIDITY  -0.150 -0.038 -0.066  0.057 -0.302  0.404  0.397 -0.084    -0.099   \n",
       "ATM_PRESS  0.253 -0.534  0.420  0.385  0.334 -0.792 -0.236 -0.054     0.068   \n",
       "SNOW      -0.020  0.004 -0.121 -0.056 -0.103 -0.185  0.019  0.146     0.108   \n",
       "CLOUD     -0.172 -0.119  0.017  0.037 -0.191  0.342  0.358  0.017    -0.297   \n",
       "\n",
       "           HUMIDITY  ATM_PRESS   SNOW  CLOUD  \n",
       "PM10         -0.150      0.253 -0.020 -0.172  \n",
       "O3           -0.038     -0.534  0.004 -0.119  \n",
       "NO2          -0.066      0.420 -0.121  0.017  \n",
       "CO            0.057      0.385 -0.056  0.037  \n",
       "SO2          -0.302      0.334 -0.103 -0.191  \n",
       "TEMP          0.404     -0.792 -0.185  0.342  \n",
       "RAIN          0.397     -0.236  0.019  0.358  \n",
       "WIND         -0.084     -0.054  0.146  0.017  \n",
       "WIND_DIR     -0.099      0.068  0.108 -0.297  \n",
       "HUMIDITY      1.000     -0.510  0.022  0.628  \n",
       "ATM_PRESS    -0.510      1.000  0.040 -0.430  \n",
       "SNOW          0.022      0.040  1.000  0.021  \n",
       "CLOUD         0.628     -0.430  0.021  1.000  "
      ]
     },
     "execution_count": 341,
     "metadata": {},
     "output_type": "execute_result"
    }
   ],
   "source": [
    "# 상관관계 분석\n",
    "df_raw.corr().round(3)"
   ]
  },
  {
   "cell_type": "code",
   "execution_count": 342,
   "id": "f796324b",
   "metadata": {
    "scrolled": false
   },
   "outputs": [
    {
     "name": "stdout",
     "output_type": "stream",
     "text": [
      "train data size : (219, 13)\n",
      "test data size : (146, 13)\n"
     ]
    }
   ],
   "source": [
    "# train/test data 분리\n",
    "df_train, df_test = train_test_split(df_raw, test_size = 0.4, random_state = 1234) \n",
    "print(\"train data size : {}\".format(df_train.shape))\n",
    "print(\"test data size : {}\".format(df_test.shape))"
   ]
  },
  {
   "cell_type": "code",
   "execution_count": 343,
   "id": "817939a8",
   "metadata": {
    "scrolled": true
   },
   "outputs": [
    {
     "name": "stdout",
     "output_type": "stream",
     "text": [
      "                            OLS Regression Results                            \n",
      "==============================================================================\n",
      "Dep. Variable:                   PM10   R-squared:                       0.489\n",
      "Model:                            OLS   Adj. R-squared:                  0.459\n",
      "Method:                 Least Squares   F-statistic:                     16.43\n",
      "Date:                Wed, 09 Mar 2022   Prob (F-statistic):           3.00e-24\n",
      "Time:                        16:29:30   Log-Likelihood:                -832.61\n",
      "No. Observations:                 219   AIC:                             1691.\n",
      "Df Residuals:                     206   BIC:                             1735.\n",
      "Df Model:                          12                                         \n",
      "Covariance Type:            nonrobust                                         \n",
      "==============================================================================\n",
      "                 coef    std err          t      P>|t|      [0.025      0.975]\n",
      "------------------------------------------------------------------------------\n",
      "Intercept    387.5692    205.046      1.890      0.060     -16.689     791.827\n",
      "O3           643.4282    104.926      6.132      0.000     436.563     850.294\n",
      "NO2          554.0503    164.740      3.363      0.001     229.258     878.843\n",
      "CO            64.8611     10.404      6.234      0.000      44.348      85.374\n",
      "SO2         -434.7095   1737.083     -0.250      0.803   -3859.450    2990.031\n",
      "TEMP          -0.5880      0.166     -3.533      0.001      -0.916      -0.260\n",
      "RAIN          -2.2340      1.220     -1.832      0.068      -4.639       0.171\n",
      "WIND           3.2119      1.493      2.151      0.033       0.268       6.156\n",
      "WIND_DIR       0.0476      0.015      3.263      0.001       0.019       0.076\n",
      "HUMIDITY      -0.0686      0.087     -0.784      0.434      -0.241       0.104\n",
      "ATM_PRESS     -0.4193      0.201     -2.086      0.038      -0.816      -0.023\n",
      "SNOW          -0.2075      3.679     -0.056      0.955      -7.461       7.046\n",
      "CLOUD          0.1201      0.380      0.316      0.752      -0.628       0.868\n",
      "==============================================================================\n",
      "Omnibus:                       84.509   Durbin-Watson:                   1.921\n",
      "Prob(Omnibus):                  0.000   Jarque-Bera (JB):              358.201\n",
      "Skew:                           1.500   Prob(JB):                     1.65e-78\n",
      "Kurtosis:                       8.500   Cond. No.                     2.37e+06\n",
      "==============================================================================\n",
      "\n",
      "Notes:\n",
      "[1] Standard Errors assume that the covariance matrix of the errors is correctly specified.\n",
      "[2] The condition number is large, 2.37e+06. This might indicate that there are\n",
      "strong multicollinearity or other numerical problems.\n"
     ]
    }
   ],
   "source": [
    "# 선형 회귀 분석(유의하지 않은 변수 중 p값이 가장 큰 것을 하나씩 반복적으로 제거)\n",
    "reg_model = smf.ols(formula = \"PM10 ~ O3 + NO2 + CO + SO2 + TEMP + RAIN + WIND + WIND_DIR + HUMIDITY + ATM_PRESS + SNOW + CLOUD\", data = df_train)\n",
    "reg_result = reg_model.fit()\n",
    "print(reg_result.summary())"
   ]
  },
  {
   "cell_type": "markdown",
   "id": "7e62fec5",
   "metadata": {},
   "source": [
    "    -분석 자료수: 219, 잔차 자유도: 206, 모델 자유도: 12 \n",
    "    -p값이 유의수준 0.05보다 작으므로 회귀모델로서 유의\n",
    "    -설명력: 0.459\n",
    "    -회귀계수 검정: 절편의 유의성은 검토하지 않음(회귀식에는 절편의 유의성 상관없이 절편 포함). O3, NO2, CO, TEMP, WIND_DIR, ATM_PRESS 의 p값이 유의수준 0.05보다 작으므로 유의"
   ]
  },
  {
   "cell_type": "code",
   "execution_count": 352,
   "id": "2ae727ca",
   "metadata": {
    "scrolled": true
   },
   "outputs": [
    {
     "name": "stdout",
     "output_type": "stream",
     "text": [
      "                            OLS Regression Results                            \n",
      "==============================================================================\n",
      "Dep. Variable:                   PM10   R-squared:                       0.363\n",
      "Model:                            OLS   Adj. R-squared:                  0.342\n",
      "Method:                 Least Squares   F-statistic:                     17.21\n",
      "Date:                Wed, 09 Mar 2022   Prob (F-statistic):           5.97e-18\n",
      "Time:                        17:16:41   Log-Likelihood:                -856.68\n",
      "No. Observations:                 219   AIC:                             1729.\n",
      "Df Residuals:                     211   BIC:                             1756.\n",
      "Df Model:                           7                                         \n",
      "Covariance Type:            nonrobust                                         \n",
      "==============================================================================\n",
      "                 coef    std err          t      P>|t|      [0.025      0.975]\n",
      "------------------------------------------------------------------------------\n",
      "Intercept    542.3770    208.575      2.600      0.010     131.219     953.535\n",
      "NO2          293.5963    161.803      1.815      0.071     -25.361     612.554\n",
      "CO            62.9296     10.583      5.947      0.000      42.068      83.791\n",
      "TEMP          -0.3175      0.168     -1.892      0.060      -0.648       0.013\n",
      "RAIN          -3.7486      1.173     -3.195      0.002      -6.061      -1.436\n",
      "WIND           3.1086      1.593      1.952      0.052      -0.031       6.248\n",
      "WIND_DIR       0.0640      0.015      4.223      0.000       0.034       0.094\n",
      "ATM_PRESS     -0.5612      0.206     -2.720      0.007      -0.968      -0.154\n",
      "==============================================================================\n",
      "Omnibus:                       53.546   Durbin-Watson:                   2.018\n",
      "Prob(Omnibus):                  0.000   Jarque-Bera (JB):              135.271\n",
      "Skew:                           1.082   Prob(JB):                     4.23e-30\n",
      "Kurtosis:                       6.184   Cond. No.                     2.76e+05\n",
      "==============================================================================\n",
      "\n",
      "Notes:\n",
      "[1] Standard Errors assume that the covariance matrix of the errors is correctly specified.\n",
      "[2] The condition number is large, 2.76e+05. This might indicate that there are\n",
      "strong multicollinearity or other numerical problems.\n"
     ]
    }
   ],
   "source": [
    "# 선형 회귀 분석(유의하지 않은 변수 중 p값이 가장 큰 것을 하나씩 반복적으로 제거)\n",
    "reg_model = smf.ols(formula = \"PM10 ~ O3 + NO2 + CO + TEMP + RAIN + WIND + WIND_DIR + ATM_PRESS\", data = df_train)\n",
    "reg_result = reg_model.fit()\n",
    "print(reg_result.summary())"
   ]
  },
  {
   "cell_type": "markdown",
   "id": "9330d815",
   "metadata": {},
   "source": [
    "    -분석 자료수: 219, 잔차 자유도: 210, 모델 자유도: 8 \n",
    "    -p값이 유의수준 0.05보다 작으므로 회귀모델로서 유의\n",
    "    -설명력: 0.468\n",
    "    -회귀계수 검정: 절편의 유의성은 검토하지 않음(회귀식에는 절편의 유의성 상관없이 절편 포함). O3, NO2, CO, TEMP, RAIN, WIND, WIND_DIR, ATM_PRESS 의 p값이 유의수준 0.05보다 작으므로 유의"
   ]
  },
  {
   "cell_type": "code",
   "execution_count": 347,
   "id": "aa6046a7",
   "metadata": {
    "scrolled": true
   },
   "outputs": [
    {
     "data": {
      "text/plain": [
       "<AxesSubplot:>"
      ]
     },
     "execution_count": 347,
     "metadata": {},
     "output_type": "execute_result"
    },
    {
     "data": {
      "image/png": "[encoded data removed]",
      "text/plain": [
       "<Figure size 432x288 with 1 Axes>"
      ]
     },
     "metadata": {
      "needs_background": "light"
     },
     "output_type": "display_data"
    }
   ],
   "source": [
    "# 설명변수 중요도\n",
    "selected_cols = ['O3','NO2','CO', 'TEMP', 'RAIN', 'WIND', 'WIND_DIR', 'ATM_PRESS']\n",
    "df_reg_coef = pd.DataFrame({\"Coef\": reg_result.params.values[1:]}, index = selected_cols)\n",
    "df_reg_coef.plot.barh(y = \"Coef\", legend = False)"
   ]
  },
  {
   "cell_type": "markdown",
   "id": "a8507591",
   "metadata": {},
   "source": [
    "O3, NO2, CO, WIND, RAIN순으로 변수중요도가 높음"
   ]
  },
  {
   "cell_type": "code",
   "execution_count": 193,
   "id": "5a8ceb85",
   "metadata": {
    "scrolled": true
   },
   "outputs": [
    {
     "name": "stderr",
     "output_type": "stream",
     "text": [
      "C:\\Users\\82102\\anaconda3\\lib\\site-packages\\statsmodels\\tsa\\tsatools.py:142: FutureWarning: In a future version of pandas all arguments of concat except for the argument 'objs' will be keyword-only\n",
      "  x = pd.concat(x[::order], 1)\n"
     ]
    },
    {
     "data": {
      "text/html": [
       "<div>\n",
       "<style scoped>\n",
       "    .dataframe tbody tr th:only-of-type {\n",
       "        vertical-align: middle;\n",
       "    }\n",
       "\n",
       "    .dataframe tbody tr th {\n",
       "        vertical-align: top;\n",
       "    }\n",
       "\n",
       "    .dataframe thead th {\n",
       "        text-align: right;\n",
       "    }\n",
       "</style>\n",
       "<table border=\"1\" class=\"dataframe\">\n",
       "  <thead>\n",
       "    <tr style=\"text-align: right;\">\n",
       "      <th></th>\n",
       "      <th>variable</th>\n",
       "      <th>VIF</th>\n",
       "    </tr>\n",
       "  </thead>\n",
       "  <tbody>\n",
       "    <tr>\n",
       "      <th>5</th>\n",
       "      <td>RAIN</td>\n",
       "      <td>1.308</td>\n",
       "    </tr>\n",
       "    <tr>\n",
       "      <th>7</th>\n",
       "      <td>WIND_DIR</td>\n",
       "      <td>1.632</td>\n",
       "    </tr>\n",
       "    <tr>\n",
       "      <th>6</th>\n",
       "      <td>WIND</td>\n",
       "      <td>1.832</td>\n",
       "    </tr>\n",
       "    <tr>\n",
       "      <th>1</th>\n",
       "      <td>O3</td>\n",
       "      <td>2.260</td>\n",
       "    </tr>\n",
       "    <tr>\n",
       "      <th>3</th>\n",
       "      <td>CO</td>\n",
       "      <td>2.823</td>\n",
       "    </tr>\n",
       "    <tr>\n",
       "      <th>4</th>\n",
       "      <td>TEMP</td>\n",
       "      <td>4.022</td>\n",
       "    </tr>\n",
       "    <tr>\n",
       "      <th>2</th>\n",
       "      <td>NO2</td>\n",
       "      <td>4.154</td>\n",
       "    </tr>\n",
       "    <tr>\n",
       "      <th>8</th>\n",
       "      <td>ATM_PRESS</td>\n",
       "      <td>4.327</td>\n",
       "    </tr>\n",
       "    <tr>\n",
       "      <th>0</th>\n",
       "      <td>const</td>\n",
       "      <td>64091.741</td>\n",
       "    </tr>\n",
       "  </tbody>\n",
       "</table>\n",
       "</div>"
      ],
      "text/plain": [
       "    variable        VIF\n",
       "5       RAIN      1.308\n",
       "7   WIND_DIR      1.632\n",
       "6       WIND      1.832\n",
       "1         O3      2.260\n",
       "3         CO      2.823\n",
       "4       TEMP      4.022\n",
       "2        NO2      4.154\n",
       "8  ATM_PRESS      4.327\n",
       "0      const  64091.741"
      ]
     },
     "execution_count": 193,
     "metadata": {},
     "output_type": "execute_result"
    }
   ],
   "source": [
    "# 설명변수간의 다중공선성 확인 : 설명변수 데이터 생성 및 상수항 추가\n",
    "df_train_x = df_train[[\"O3\", \"NO2\", \"CO\", \"TEMP\", \"RAIN\", \"WIND\", \"WIND_DIR\", \"ATM_PRESS\"]]\n",
    "\n",
    "# statsmodels의 상수항 추가 함수 적용\n",
    "df_train_x_const = add_constant(df_train_x) \n",
    "\n",
    "# DataFrame으로 저장\n",
    "df_vif = pd.DataFrame()\n",
    "df_vif[\"variable\"] = df_train_x_const.columns\n",
    "df_vif[\"VIF\"] = [variance_inflation_factor(df_train_x_const.values, i) for i in range(df_train_x_const.shape[1])]\n",
    "\n",
    "# VIF 정렬\n",
    "df_vif.sort_values(\"VIF\", inplace = True)\n",
    "df_vif.round(3)"
   ]
  },
  {
   "cell_type": "markdown",
   "id": "5962f7d0",
   "metadata": {},
   "source": [
    "분산팽창지수(VIF)가 10이상인 변수가 ㅇ벗으므로 다중공선성이 없음"
   ]
  },
  {
   "cell_type": "code",
   "execution_count": 194,
   "id": "e04f82f5",
   "metadata": {
    "scrolled": true
   },
   "outputs": [
    {
     "data": {
      "text/plain": [
       "<matplotlib.lines.Line2D at 0x1d76107e8e0>"
      ]
     },
     "execution_count": 194,
     "metadata": {},
     "output_type": "execute_result"
    },
    {
     "data": {
      "image/png": "[encoded data removed]",
      "text/plain": [
       "<Figure size 432x288 with 1 Axes>"
      ]
     },
     "metadata": {
      "needs_background": "light"
     },
     "output_type": "display_data"
    }
   ],
   "source": [
    "# 잔차 산점도 -> 등분산성(y =0을 기준으로 random 하게 산포)\n",
    "plt.scatter(reg_result.fittedvalues, reg_result.resid)\n",
    "plt.xlabel(\"fitted value\"); plt.ylabel(\"residual\")\n",
    "plt.axhline(y = 0, linestyle = \"--\", linewidth = 2, color = 'r')"
   ]
  },
  {
   "cell_type": "markdown",
   "id": "107e4008",
   "metadata": {},
   "source": [
    "y = 0을 기준으로 Random하게 산포되어 있으므로 등분산성 만족"
   ]
  },
  {
   "cell_type": "code",
   "execution_count": 195,
   "id": "aaf4a3e1",
   "metadata": {
    "scrolled": true
   },
   "outputs": [
    {
     "name": "stderr",
     "output_type": "stream",
     "text": [
      "C:\\Users\\82102\\anaconda3\\lib\\site-packages\\statsmodels\\graphics\\gofplots.py:993: UserWarning: marker is redundantly defined by the 'marker' keyword argument and the fmt string \"bo\" (-> marker='o'). The keyword argument will take precedence.\n",
      "  ax.plot(x, y, fmt, **plot_style)\n"
     ]
    },
    {
     "data": {
      "image/png": "[encoded data removed]",
      "text/plain": [
       "<Figure size 432x288 with 1 Axes>"
      ]
     },
     "metadata": {
      "needs_background": "light"
     },
     "output_type": "display_data"
    }
   ],
   "source": [
    "# 잔차 정규성 검정 -> 정규성(대체적으로 직선을 중심으로 분포)\n",
    "qqplot(reg_result.resid, line = \"q\")\n",
    "plt.show()"
   ]
  },
  {
   "cell_type": "markdown",
   "id": "c662bc9b",
   "metadata": {},
   "source": [
    "정규분포 직선을 중심으로 분포하므로 정규분포를 따름"
   ]
  },
  {
   "cell_type": "code",
   "execution_count": 196,
   "id": "c6794f09",
   "metadata": {
    "scrolled": false
   },
   "outputs": [
    {
     "data": {
      "text/plain": [
       "<matplotlib.lines.Line2D at 0x1d761583d30>"
      ]
     },
     "execution_count": 196,
     "metadata": {},
     "output_type": "execute_result"
    },
    {
     "data": {
      "image/png": "[encoded data removed]",
      "text/plain": [
       "<Figure size 432x288 with 1 Axes>"
      ]
     },
     "metadata": {
      "needs_background": "light"
     },
     "output_type": "display_data"
    }
   ],
   "source": [
    "# 잔차의 독립성 -> 독립성(y = 0을 기준으로 관리상하한을 벗어나지 않고 random하게 산포)\n",
    "plt.scatter(df_train.index, reg_result.resid, marker=\"o\")\n",
    "plt.xlabel(\"Data\")\n",
    "plt.ylabel(\"residual\")\n",
    "plt.axhline(y = 0, linestyle = \"-\")\n",
    "plt.axhline(y = 3*np.std(reg_result.resid), linestyle = \"--\")\n",
    "plt.axhline(y = -3*np.std(reg_result.resid), linestyle = \"--\")"
   ]
  },
  {
   "cell_type": "markdown",
   "id": "02dfd712",
   "metadata": {},
   "source": [
    "잔차가 y = 0을 기준으로 관리상하한을 벗어났으므로 독립성 불만족"
   ]
  },
  {
   "cell_type": "code",
   "execution_count": 197,
   "id": "879b349c",
   "metadata": {
    "scrolled": false
   },
   "outputs": [
    {
     "name": "stdout",
     "output_type": "stream",
     "text": [
      "train data의 결정계수: 0.4875263774707831\n",
      "test data의 결정계수: 0.4680995626309159\n"
     ]
    }
   ],
   "source": [
    "# 평가용 데이터에 대한 성능 확인\n",
    "train_pred = reg_result.predict(df_train)\n",
    "test_pred = reg_result.predict(df_test)\n",
    "print(\"train data의 결정계수:\", r2_score(df_train_y, train_pred))\n",
    "print(\"test data의 결정계수:\", r2_score(df_test_y, test_pred))"
   ]
  },
  {
   "cell_type": "markdown",
   "id": "3dcf60a7",
   "metadata": {},
   "source": [
    "Train Acc: 48.7% Test Acc: 46.8. 모델은 과소적합"
   ]
  },
  {
   "cell_type": "markdown",
   "id": "008a712e",
   "metadata": {},
   "source": [
    "#### 후진제거법"
   ]
  },
  {
   "cell_type": "code",
   "execution_count": 198,
   "id": "7cb1ad04",
   "metadata": {
    "scrolled": true
   },
   "outputs": [
    {
     "name": "stdout",
     "output_type": "stream",
     "text": [
      "Selected Variables : Index(['O3', 'NO2', 'CO', 'TEMP', 'RAIN', 'WIND', 'ATM_PRESS'], dtype='object')\n",
      "Removed Variables : Index(['WIND_DIR'], dtype='object')\n"
     ]
    }
   ],
   "source": [
    "# RFE 함수: 입력된 모델을 이용하여 변수중요도가 낮은 순으로 순차적으로 제거\n",
    "\n",
    "# sklearn의 선형회귀 모델\n",
    "model = LinearRegression()\n",
    "\n",
    "# 전체 변수 중 5개의 변수가 남을 때까지 변수 선택\n",
    "rfe = RFE(estimator = model, n_features_to_select = 7).fit(df_train_x, df_train_y)\n",
    "\n",
    "# 선택된 변수\n",
    "selected_cols = df_train_x.columns[rfe.support_]\n",
    "\n",
    "# 제거된 변수\n",
    "removed_cols = df_train_x.columns[~rfe.support_]\n",
    "\n",
    "print(\"Selected Variables : {}\".format(selected_cols)) \n",
    "print(\"Removed Variables : {}\".format(removed_cols))"
   ]
  },
  {
   "cell_type": "markdown",
   "id": "807591c2",
   "metadata": {},
   "source": [
    "후진 제거법으로 O3, NO2, CO, TEMP, RAIN, WIND, ATM_PRESS 변수 선택"
   ]
  },
  {
   "cell_type": "code",
   "execution_count": 218,
   "id": "83719662",
   "metadata": {
    "scrolled": true
   },
   "outputs": [
    {
     "name": "stdout",
     "output_type": "stream",
     "text": [
      "                            OLS Regression Results                            \n",
      "==============================================================================\n",
      "Dep. Variable:                   PM10   R-squared:                       0.459\n",
      "Model:                            OLS   Adj. R-squared:                  0.444\n",
      "Method:                 Least Squares   F-statistic:                     30.00\n",
      "Date:                Wed, 09 Mar 2022   Prob (F-statistic):           6.27e-26\n",
      "Time:                        07:21:19   Log-Likelihood:                -838.83\n",
      "No. Observations:                 219   AIC:                             1692.\n",
      "Df Residuals:                     212   BIC:                             1715.\n",
      "Df Model:                           6                                         \n",
      "Covariance Type:            nonrobust                                         \n",
      "==============================================================================\n",
      "                 coef    std err          t      P>|t|      [0.025      0.975]\n",
      "------------------------------------------------------------------------------\n",
      "Intercept    -30.4936      7.244     -4.209      0.000     -44.774     -16.214\n",
      "O3           726.8638     92.730      7.839      0.000     544.074     909.654\n",
      "NO2          406.7805    143.273      2.839      0.005     124.357     689.204\n",
      "CO            62.9804      9.568      6.582      0.000      44.119      81.842\n",
      "TEMP          -0.4291      0.109     -3.931      0.000      -0.644      -0.214\n",
      "RAIN          -2.9112      1.018     -2.859      0.005      -4.919      -0.904\n",
      "WIND           4.1888      1.435      2.918      0.004       1.359       7.018\n",
      "==============================================================================\n",
      "Omnibus:                       89.787   Durbin-Watson:                   1.902\n",
      "Prob(Omnibus):                  0.000   Jarque-Bera (JB):              421.736\n",
      "Skew:                           1.566   Prob(JB):                     2.64e-92\n",
      "Kurtosis:                       9.034   Cond. No.                     3.29e+03\n",
      "==============================================================================\n",
      "\n",
      "Notes:\n",
      "[1] Standard Errors assume that the covariance matrix of the errors is correctly specified.\n",
      "[2] The condition number is large, 3.29e+03. This might indicate that there are\n",
      "strong multicollinearity or other numerical problems.\n"
     ]
    }
   ],
   "source": [
    "# 회귀 모델 생성\n",
    "rfe_reg_model = smf.ols(formula = \"PM10 ~ O3 + NO2 + CO + TEMP + RAIN + WIND\", data = df_train)\n",
    "# 적합\n",
    "rfe_reg_result = rfe_reg_model.fit()\n",
    "print(rfe_reg_result.summary())"
   ]
  },
  {
   "cell_type": "markdown",
   "id": "265bd8a0",
   "metadata": {},
   "source": [
    "    -분석 자료수: 219, 잔차 자유도: 212, 모델 자유도: 6 \n",
    "    -p값이 유의수준 0.05보다 작으므로 회귀모델로서 유의\n",
    "    -설명력: 0.444\n",
    "    -회귀계수 검정: 절편의 유의성은 검토하지 않음(회귀식에는 절편의 유의성 상관없이 절편 포함). O3, NO2, CO, TEMP, RAIN, WIND의 p값이 유의수준 0.05보다 작으므로 유의\n",
    "    -ATM_PRESS는 p.value > 0.05이므로 제거"
   ]
  },
  {
   "cell_type": "code",
   "execution_count": 200,
   "id": "55f8a36f",
   "metadata": {
    "scrolled": false
   },
   "outputs": [
    {
     "data": {
      "text/plain": [
       "<AxesSubplot:>"
      ]
     },
     "execution_count": 200,
     "metadata": {},
     "output_type": "execute_result"
    },
    {
     "data": {
      "image/png": "[encoded data removed]",
      "text/plain": [
       "<Figure size 432x288 with 1 Axes>"
      ]
     },
     "metadata": {
      "needs_background": "light"
     },
     "output_type": "display_data"
    }
   ],
   "source": [
    "# 설명변수 중요도\n",
    "selected_cols = ['O3','NO2','CO', 'TEMP', 'RAIN', 'WIND']\n",
    "df_reg_coef = pd.DataFrame({\"Coef\": rfe_reg_result.params.values[1:]}, index = selected_cols)\n",
    "df_reg_coef.plot.barh(y = \"Coef\", legend = False)"
   ]
  },
  {
   "cell_type": "markdown",
   "id": "c3c314b8",
   "metadata": {},
   "source": [
    "O3, NO2, CO, WIND, RAIN순으로 변수중요도가 높음"
   ]
  },
  {
   "cell_type": "markdown",
   "id": "ba12bfad",
   "metadata": {},
   "source": [
    "#### 다중선형 회귀분석 규제화"
   ]
  },
  {
   "cell_type": "markdown",
   "id": "11ea507d",
   "metadata": {},
   "source": [
    "#### Ridge"
   ]
  },
  {
   "cell_type": "code",
   "execution_count": 201,
   "id": "7b7ba790",
   "metadata": {},
   "outputs": [],
   "source": [
    "# Ridge, Lasso, ElasticNet 패키지 불러오기\n",
    "from sklearn.linear_model import Ridge, Lasso, ElasticNet"
   ]
  },
  {
   "cell_type": "code",
   "execution_count": 202,
   "id": "cad6dffb",
   "metadata": {},
   "outputs": [
    {
     "name": "stdout",
     "output_type": "stream",
     "text": [
      "train data X size : (219, 12)\n",
      "train data Y size : (219,)\n",
      "test data X size : (146, 12)\n",
      "test data Y size : (146,)\n"
     ]
    }
   ],
   "source": [
    "# 목표변수, 설명변수 데이터 지정\n",
    "df_raw_y = df_raw[\"PM10\"]\n",
    "df_raw_x = df_raw.drop(\"PM10\", axis = 1, inplace = False)\n",
    "\n",
    "# train/test data 분리\n",
    "df_train_x, df_test_x, df_train_y, df_test_y = train_test_split(df_raw_x, df_raw_y, test_size = 0.4, random_state = 1234) \n",
    "print(\"train data X size : {}\".format(df_train_x.shape))\n",
    "print(\"train data Y size : {}\".format(df_train_y.shape))\n",
    "print(\"test data X size : {}\".format(df_test_x.shape))\n",
    "print(\"test data Y size : {}\".format(df_test_y.shape))"
   ]
  },
  {
   "cell_type": "code",
   "execution_count": 203,
   "id": "2ad30468",
   "metadata": {},
   "outputs": [
    {
     "name": "stdout",
     "output_type": "stream",
     "text": [
      "516.2679114617326\n"
     ]
    }
   ],
   "source": [
    "# 모델 생성\n",
    "ridge = Ridge(random_state=1234, alpha = 1)\n",
    "ridge.fit(df_train_x, df_train_y)\n",
    "\n",
    "# 절편값 확인\n",
    "print(ridge.intercept_)"
   ]
  },
  {
   "cell_type": "code",
   "execution_count": 204,
   "id": "d80bc8bc",
   "metadata": {},
   "outputs": [
    {
     "data": {
      "text/html": [
       "<div>\n",
       "<style scoped>\n",
       "    .dataframe tbody tr th:only-of-type {\n",
       "        vertical-align: middle;\n",
       "    }\n",
       "\n",
       "    .dataframe tbody tr th {\n",
       "        vertical-align: top;\n",
       "    }\n",
       "\n",
       "    .dataframe thead th {\n",
       "        text-align: right;\n",
       "    }\n",
       "</style>\n",
       "<table border=\"1\" class=\"dataframe\">\n",
       "  <thead>\n",
       "    <tr style=\"text-align: right;\">\n",
       "      <th></th>\n",
       "      <th>Coef</th>\n",
       "    </tr>\n",
       "  </thead>\n",
       "  <tbody>\n",
       "    <tr>\n",
       "      <th>O3</th>\n",
       "      <td>6.219016</td>\n",
       "    </tr>\n",
       "    <tr>\n",
       "      <th>NO2</th>\n",
       "      <td>3.678954</td>\n",
       "    </tr>\n",
       "    <tr>\n",
       "      <th>CO</th>\n",
       "      <td>55.625104</td>\n",
       "    </tr>\n",
       "    <tr>\n",
       "      <th>SO2</th>\n",
       "      <td>0.213089</td>\n",
       "    </tr>\n",
       "    <tr>\n",
       "      <th>TEMP</th>\n",
       "      <td>-0.320556</td>\n",
       "    </tr>\n",
       "    <tr>\n",
       "      <th>RAIN</th>\n",
       "      <td>-1.626094</td>\n",
       "    </tr>\n",
       "    <tr>\n",
       "      <th>WIND</th>\n",
       "      <td>0.247852</td>\n",
       "    </tr>\n",
       "    <tr>\n",
       "      <th>WIND_DIR</th>\n",
       "      <td>0.043399</td>\n",
       "    </tr>\n",
       "    <tr>\n",
       "      <th>HUMIDITY</th>\n",
       "      <td>-0.190941</td>\n",
       "    </tr>\n",
       "    <tr>\n",
       "      <th>ATM_PRESS</th>\n",
       "      <td>-0.502012</td>\n",
       "    </tr>\n",
       "    <tr>\n",
       "      <th>SNOW</th>\n",
       "      <td>0.867400</td>\n",
       "    </tr>\n",
       "    <tr>\n",
       "      <th>CLOUD</th>\n",
       "      <td>-0.162560</td>\n",
       "    </tr>\n",
       "  </tbody>\n",
       "</table>\n",
       "</div>"
      ],
      "text/plain": [
       "                Coef\n",
       "O3          6.219016\n",
       "NO2         3.678954\n",
       "CO         55.625104\n",
       "SO2         0.213089\n",
       "TEMP       -0.320556\n",
       "RAIN       -1.626094\n",
       "WIND        0.247852\n",
       "WIND_DIR    0.043399\n",
       "HUMIDITY   -0.190941\n",
       "ATM_PRESS  -0.502012\n",
       "SNOW        0.867400\n",
       "CLOUD      -0.162560"
      ]
     },
     "execution_count": 204,
     "metadata": {},
     "output_type": "execute_result"
    }
   ],
   "source": [
    "# 회귀계수 확인\n",
    "df_ridge_coef = pd.DataFrame({\"Coef\": ridge.coef_}, index = df_train_x.columns)\n",
    "df_ridge_coef"
   ]
  },
  {
   "cell_type": "code",
   "execution_count": 205,
   "id": "323c4410",
   "metadata": {
    "scrolled": true
   },
   "outputs": [
    {
     "data": {
      "text/plain": [
       "<AxesSubplot:>"
      ]
     },
     "execution_count": 205,
     "metadata": {},
     "output_type": "execute_result"
    },
    {
     "data": {
      "image/png": "[encoded data removed]",
      "text/plain": [
       "<Figure size 432x288 with 1 Axes>"
      ]
     },
     "metadata": {
      "needs_background": "light"
     },
     "output_type": "display_data"
    }
   ],
   "source": [
    "# 회귀계수 그래프\n",
    "df_ridge_coef.plot.barh(y = \"Coef\", legend = False)"
   ]
  },
  {
   "cell_type": "markdown",
   "id": "d86bff68",
   "metadata": {},
   "source": [
    "Ridge모델에서 CO, NO2, O3, RAIN순으로 변수중요도 높음"
   ]
  },
  {
   "cell_type": "code",
   "execution_count": 206,
   "id": "bc61fb0b",
   "metadata": {},
   "outputs": [
    {
     "name": "stdout",
     "output_type": "stream",
     "text": [
      "train data의 결정계수: 0.361743960617698\n",
      "test data의 결정계수: 0.3829790885742381\n"
     ]
    }
   ],
   "source": [
    "# 모델의 성능\n",
    "train_pred = ridge.predict(df_train_x)\n",
    "test_pred = ridge.predict(df_test_x)\n",
    "print(\"train data의 결정계수:\", r2_score(df_train_y, train_pred))\n",
    "print(\"test data의 결정계수:\", r2_score(df_test_y, test_pred))"
   ]
  },
  {
   "cell_type": "markdown",
   "id": "2bf11d9d",
   "metadata": {},
   "source": [
    "#### LASSO"
   ]
  },
  {
   "cell_type": "code",
   "execution_count": 207,
   "id": "4995a42d",
   "metadata": {},
   "outputs": [
    {
     "name": "stdout",
     "output_type": "stream",
     "text": [
      "42.781661026683864\n"
     ]
    }
   ],
   "source": [
    "# 모델 생성\n",
    "lasso = Lasso(random_state=1234, alpha = 1)\n",
    "lasso.fit(df_train_x, df_train_y)\n",
    "\n",
    "# 절편값 확인\n",
    "print(lasso.intercept_)"
   ]
  },
  {
   "cell_type": "code",
   "execution_count": 208,
   "id": "acd920c8",
   "metadata": {},
   "outputs": [
    {
     "data": {
      "text/html": [
       "<div>\n",
       "<style scoped>\n",
       "    .dataframe tbody tr th:only-of-type {\n",
       "        vertical-align: middle;\n",
       "    }\n",
       "\n",
       "    .dataframe tbody tr th {\n",
       "        vertical-align: top;\n",
       "    }\n",
       "\n",
       "    .dataframe thead th {\n",
       "        text-align: right;\n",
       "    }\n",
       "</style>\n",
       "<table border=\"1\" class=\"dataframe\">\n",
       "  <thead>\n",
       "    <tr style=\"text-align: right;\">\n",
       "      <th></th>\n",
       "      <th>Coef</th>\n",
       "    </tr>\n",
       "  </thead>\n",
       "  <tbody>\n",
       "    <tr>\n",
       "      <th>O3</th>\n",
       "      <td>0.000000</td>\n",
       "    </tr>\n",
       "    <tr>\n",
       "      <th>NO2</th>\n",
       "      <td>0.000000</td>\n",
       "    </tr>\n",
       "    <tr>\n",
       "      <th>CO</th>\n",
       "      <td>0.000000</td>\n",
       "    </tr>\n",
       "    <tr>\n",
       "      <th>SO2</th>\n",
       "      <td>0.000000</td>\n",
       "    </tr>\n",
       "    <tr>\n",
       "      <th>TEMP</th>\n",
       "      <td>-0.303852</td>\n",
       "    </tr>\n",
       "    <tr>\n",
       "      <th>RAIN</th>\n",
       "      <td>-0.301870</td>\n",
       "    </tr>\n",
       "    <tr>\n",
       "      <th>WIND</th>\n",
       "      <td>-0.616725</td>\n",
       "    </tr>\n",
       "    <tr>\n",
       "      <th>WIND_DIR</th>\n",
       "      <td>0.009569</td>\n",
       "    </tr>\n",
       "    <tr>\n",
       "      <th>HUMIDITY</th>\n",
       "      <td>-0.115876</td>\n",
       "    </tr>\n",
       "    <tr>\n",
       "      <th>ATM_PRESS</th>\n",
       "      <td>-0.000000</td>\n",
       "    </tr>\n",
       "    <tr>\n",
       "      <th>SNOW</th>\n",
       "      <td>0.000000</td>\n",
       "    </tr>\n",
       "    <tr>\n",
       "      <th>CLOUD</th>\n",
       "      <td>-0.000000</td>\n",
       "    </tr>\n",
       "  </tbody>\n",
       "</table>\n",
       "</div>"
      ],
      "text/plain": [
       "               Coef\n",
       "O3         0.000000\n",
       "NO2        0.000000\n",
       "CO         0.000000\n",
       "SO2        0.000000\n",
       "TEMP      -0.303852\n",
       "RAIN      -0.301870\n",
       "WIND      -0.616725\n",
       "WIND_DIR   0.009569\n",
       "HUMIDITY  -0.115876\n",
       "ATM_PRESS -0.000000\n",
       "SNOW       0.000000\n",
       "CLOUD     -0.000000"
      ]
     },
     "execution_count": 208,
     "metadata": {},
     "output_type": "execute_result"
    }
   ],
   "source": [
    "# 회귀계수 확인\n",
    "df_lasso_coef = pd.DataFrame({\"Coef\": lasso.coef_}, index = df_train_x.columns)\n",
    "df_lasso_coef"
   ]
  },
  {
   "cell_type": "code",
   "execution_count": 209,
   "id": "80a8fec0",
   "metadata": {
    "scrolled": true
   },
   "outputs": [
    {
     "data": {
      "text/plain": [
       "<AxesSubplot:>"
      ]
     },
     "execution_count": 209,
     "metadata": {},
     "output_type": "execute_result"
    },
    {
     "data": {
      "image/png": "[encoded data removed]",
      "text/plain": [
       "<Figure size 432x288 with 1 Axes>"
      ]
     },
     "metadata": {
      "needs_background": "light"
     },
     "output_type": "display_data"
    }
   ],
   "source": [
    "# 회귀계수 그래프\n",
    "df_lasso_coef.plot.barh(y = \"Coef\", legend = False)"
   ]
  },
  {
   "cell_type": "markdown",
   "id": "6d8e7b56",
   "metadata": {},
   "source": [
    "LASSO모델에서 WIND, TEMP, RAIN, HUMIDITY, WIND_DIR순으로 변수중요도 높음"
   ]
  },
  {
   "cell_type": "code",
   "execution_count": 210,
   "id": "d536fdc0",
   "metadata": {},
   "outputs": [
    {
     "name": "stdout",
     "output_type": "stream",
     "text": [
      "train data의 결정계수: 0.08510738920911942\n",
      "test data의 결정계수: 0.07191816761566772\n"
     ]
    }
   ],
   "source": [
    "# 모델의 성능\n",
    "train_pred = lasso.predict(df_train_x)\n",
    "test_pred = lasso.predict(df_test_x)\n",
    "print(\"train data의 결정계수:\", r2_score(df_train_y, train_pred))\n",
    "print(\"test data의 결정계수:\", r2_score(df_test_y, test_pred))"
   ]
  },
  {
   "cell_type": "markdown",
   "id": "e99098f4",
   "metadata": {},
   "source": [
    "#### ElasticNet"
   ]
  },
  {
   "cell_type": "code",
   "execution_count": 211,
   "id": "e60e167e",
   "metadata": {},
   "outputs": [
    {
     "name": "stdout",
     "output_type": "stream",
     "text": [
      "94.80870983032933\n"
     ]
    }
   ],
   "source": [
    "# 모델 생성\n",
    "elastic = ElasticNet(random_state=1234, alpha = 1, l1_ratio = 0.5)\n",
    "elastic.fit(df_train_x, df_train_y)\n",
    "\n",
    "# 절편값 확인\n",
    "print(elastic.intercept_)"
   ]
  },
  {
   "cell_type": "code",
   "execution_count": 212,
   "id": "2ea28b8c",
   "metadata": {},
   "outputs": [
    {
     "data": {
      "text/html": [
       "<div>\n",
       "<style scoped>\n",
       "    .dataframe tbody tr th:only-of-type {\n",
       "        vertical-align: middle;\n",
       "    }\n",
       "\n",
       "    .dataframe tbody tr th {\n",
       "        vertical-align: top;\n",
       "    }\n",
       "\n",
       "    .dataframe thead th {\n",
       "        text-align: right;\n",
       "    }\n",
       "</style>\n",
       "<table border=\"1\" class=\"dataframe\">\n",
       "  <thead>\n",
       "    <tr style=\"text-align: right;\">\n",
       "      <th></th>\n",
       "      <th>Coef</th>\n",
       "    </tr>\n",
       "  </thead>\n",
       "  <tbody>\n",
       "    <tr>\n",
       "      <th>O3</th>\n",
       "      <td>0.000000</td>\n",
       "    </tr>\n",
       "    <tr>\n",
       "      <th>NO2</th>\n",
       "      <td>0.000000</td>\n",
       "    </tr>\n",
       "    <tr>\n",
       "      <th>CO</th>\n",
       "      <td>0.697120</td>\n",
       "    </tr>\n",
       "    <tr>\n",
       "      <th>SO2</th>\n",
       "      <td>0.000000</td>\n",
       "    </tr>\n",
       "    <tr>\n",
       "      <th>TEMP</th>\n",
       "      <td>-0.341188</td>\n",
       "    </tr>\n",
       "    <tr>\n",
       "      <th>RAIN</th>\n",
       "      <td>-0.648691</td>\n",
       "    </tr>\n",
       "    <tr>\n",
       "      <th>WIND</th>\n",
       "      <td>-0.827391</td>\n",
       "    </tr>\n",
       "    <tr>\n",
       "      <th>WIND_DIR</th>\n",
       "      <td>0.010050</td>\n",
       "    </tr>\n",
       "    <tr>\n",
       "      <th>HUMIDITY</th>\n",
       "      <td>-0.113541</td>\n",
       "    </tr>\n",
       "    <tr>\n",
       "      <th>ATM_PRESS</th>\n",
       "      <td>-0.051237</td>\n",
       "    </tr>\n",
       "    <tr>\n",
       "      <th>SNOW</th>\n",
       "      <td>0.000000</td>\n",
       "    </tr>\n",
       "    <tr>\n",
       "      <th>CLOUD</th>\n",
       "      <td>-0.000000</td>\n",
       "    </tr>\n",
       "  </tbody>\n",
       "</table>\n",
       "</div>"
      ],
      "text/plain": [
       "               Coef\n",
       "O3         0.000000\n",
       "NO2        0.000000\n",
       "CO         0.697120\n",
       "SO2        0.000000\n",
       "TEMP      -0.341188\n",
       "RAIN      -0.648691\n",
       "WIND      -0.827391\n",
       "WIND_DIR   0.010050\n",
       "HUMIDITY  -0.113541\n",
       "ATM_PRESS -0.051237\n",
       "SNOW       0.000000\n",
       "CLOUD     -0.000000"
      ]
     },
     "execution_count": 212,
     "metadata": {},
     "output_type": "execute_result"
    }
   ],
   "source": [
    "# 회귀계수 확인\n",
    "df_elastic_coef = pd.DataFrame({\"Coef\": elastic.coef_}, index = df_train_x.columns)\n",
    "df_elastic_coef"
   ]
  },
  {
   "cell_type": "code",
   "execution_count": 213,
   "id": "683d3dbd",
   "metadata": {
    "scrolled": true
   },
   "outputs": [
    {
     "data": {
      "text/plain": [
       "<AxesSubplot:>"
      ]
     },
     "execution_count": 213,
     "metadata": {},
     "output_type": "execute_result"
    },
    {
     "data": {
      "image/png": "[encoded data removed]",
      "text/plain": [
       "<Figure size 432x288 with 1 Axes>"
      ]
     },
     "metadata": {
      "needs_background": "light"
     },
     "output_type": "display_data"
    }
   ],
   "source": [
    "df_elastic_coef.plot.barh(y = \"Coef\", legend = False)"
   ]
  },
  {
   "cell_type": "markdown",
   "id": "a1d6289e",
   "metadata": {},
   "source": [
    "ElasticNet모델에서 WIND, NO2, RAIN, TEMP, HUMIDITY순으로 변수중요도 높음"
   ]
  },
  {
   "cell_type": "code",
   "execution_count": 214,
   "id": "6b77467a",
   "metadata": {
    "scrolled": true
   },
   "outputs": [
    {
     "name": "stdout",
     "output_type": "stream",
     "text": [
      "train data의 결정계수: 0.09535512017697756\n",
      "test data의 결정계수: 0.08356670320220716\n"
     ]
    }
   ],
   "source": [
    "# 모델의 성능\n",
    "train_pred = elastic.predict(df_train_x)\n",
    "test_pred = elastic.predict(df_test_x)\n",
    "print(\"train data의 결정계수:\", r2_score(df_train_y, train_pred))\n",
    "print(\"test data의 결정계수:\", r2_score(df_test_y, test_pred))"
   ]
  },
  {
   "cell_type": "markdown",
   "id": "162762dc",
   "metadata": {},
   "source": [
    "### 의사결정나무"
   ]
  },
  {
   "cell_type": "code",
   "execution_count": 353,
   "id": "276040ce",
   "metadata": {},
   "outputs": [],
   "source": [
    "# 데이터 처리\n",
    "import pandas as pd\n",
    "# 행렬 연산\n",
    "import numpy as np\n",
    "# 데이터 시각화\n",
    "import matplotlib\n",
    "import matplotlib.pyplot as plt\n",
    "# export_graphviz: 나무 구조 생성 및 저장\n",
    "from sklearn.tree import export_graphviz\n",
    "# graphviz: 나무 구조 시각화 \n",
    "import graphviz\n",
    "# 데이터 분할\n",
    "from sklearn.model_selection import train_test_split\n",
    "# 예측/회귀 Decision Tree\n",
    "from sklearn.tree import DecisionTreeRegressor\n",
    "# 최적 모델, 파라미터 검색\n",
    "from sklearn.model_selection import GridSearchCV"
   ]
  },
  {
   "cell_type": "code",
   "execution_count": 354,
   "id": "afaca4f9",
   "metadata": {},
   "outputs": [],
   "source": [
    "import os\n",
    "os.environ[\"PATH\"]+=os.pathsep+'C:/Program Files (x86)/Graphviz/bin/'"
   ]
  },
  {
   "cell_type": "code",
   "execution_count": 355,
   "id": "080df82f",
   "metadata": {},
   "outputs": [],
   "source": [
    "df_raw = pd.read_csv('DATA/AIR_POLLUTION.csv')\n",
    "df_raw.drop('MeasDate', axis = 1, inplace = True)\n",
    "df_raw.dropna(subset=['PM10'] , inplace = True)\n",
    "df_raw.fillna(df_raw.mean(), inplace = True)"
   ]
  },
  {
   "cell_type": "code",
   "execution_count": 356,
   "id": "1f9e976c",
   "metadata": {},
   "outputs": [],
   "source": [
    "# 목표변수, 설명변수 데이터 지정\n",
    "df_raw_y = df_raw['PM10']\n",
    "df_raw_x = df_raw.drop('PM10', axis = 1, inplace = False)"
   ]
  },
  {
   "cell_type": "code",
   "execution_count": 357,
   "id": "7fc53ea2",
   "metadata": {},
   "outputs": [
    {
     "name": "stdout",
     "output_type": "stream",
     "text": [
      "train data X size : (219, 12)\n",
      "train data Y size : (219,)\n",
      "test data X size : (146, 12)\n",
      "test data Y size : (146,)\n"
     ]
    }
   ],
   "source": [
    "# train_test_split\n",
    "df_train_x, df_test_x, df_train_y, df_test_y = train_test_split(df_raw_x, df_raw_y, test_size = 0.4, random_state = 1234)\n",
    "print(\"train data X size : {}\".format(df_train_x.shape))\n",
    "print(\"train data Y size : {}\".format(df_train_y.shape))\n",
    "print(\"test data X size : {}\".format(df_test_x.shape))\n",
    "print(\"test data Y size : {}\".format(df_test_y.shape))"
   ]
  },
  {
   "cell_type": "code",
   "execution_count": 358,
   "id": "be8dd309",
   "metadata": {
    "scrolled": false
   },
   "outputs": [
    {
     "name": "stdout",
     "output_type": "stream",
     "text": [
      "Score on training set: 1.000\n",
      "Score on test set: -0.160\n"
     ]
    }
   ],
   "source": [
    "# 기본 모델생성\n",
    "tree_uncustomized = DecisionTreeRegressor(random_state=1234)\n",
    "tree_uncustomized.fit(df_train_x, df_train_y)\n",
    "\n",
    "# Train 데이터 설명력\n",
    "print(\"Score on training set: {:.3f}\".format(tree_uncustomized.score(df_train_x, df_train_y)))\n",
    "\n",
    "# test 데이터 설명력\n",
    "print(\"Score on test set: {:.3f}\".format(tree_uncustomized.score(df_test_x, df_test_y)))"
   ]
  },
  {
   "cell_type": "markdown",
   "id": "58623bcf",
   "metadata": {},
   "source": [
    "Train Accuracy: 100%, Test Accuracy: -0.16%. 모델은 train 데이터에 과대적합"
   ]
  },
  {
   "cell_type": "markdown",
   "id": "e19fabb5",
   "metadata": {},
   "source": [
    "#### min_samples_leaf"
   ]
  },
  {
   "cell_type": "code",
   "execution_count": 359,
   "id": "8b7e69db",
   "metadata": {
    "scrolled": true
   },
   "outputs": [
    {
     "data": {
      "text/html": [
       "<div>\n",
       "<style scoped>\n",
       "    .dataframe tbody tr th:only-of-type {\n",
       "        vertical-align: middle;\n",
       "    }\n",
       "\n",
       "    .dataframe tbody tr th {\n",
       "        vertical-align: top;\n",
       "    }\n",
       "\n",
       "    .dataframe thead th {\n",
       "        text-align: right;\n",
       "    }\n",
       "</style>\n",
       "<table border=\"1\" class=\"dataframe\">\n",
       "  <thead>\n",
       "    <tr style=\"text-align: right;\">\n",
       "      <th></th>\n",
       "      <th>MinSamplesLeaf</th>\n",
       "      <th>TrainScore</th>\n",
       "      <th>TestScore</th>\n",
       "    </tr>\n",
       "  </thead>\n",
       "  <tbody>\n",
       "    <tr>\n",
       "      <th>0</th>\n",
       "      <td>1</td>\n",
       "      <td>1.000</td>\n",
       "      <td>-0.160</td>\n",
       "    </tr>\n",
       "    <tr>\n",
       "      <th>1</th>\n",
       "      <td>2</td>\n",
       "      <td>0.935</td>\n",
       "      <td>0.067</td>\n",
       "    </tr>\n",
       "    <tr>\n",
       "      <th>2</th>\n",
       "      <td>3</td>\n",
       "      <td>0.833</td>\n",
       "      <td>0.306</td>\n",
       "    </tr>\n",
       "    <tr>\n",
       "      <th>3</th>\n",
       "      <td>4</td>\n",
       "      <td>0.777</td>\n",
       "      <td>0.392</td>\n",
       "    </tr>\n",
       "    <tr>\n",
       "      <th>4</th>\n",
       "      <td>5</td>\n",
       "      <td>0.746</td>\n",
       "      <td>0.363</td>\n",
       "    </tr>\n",
       "    <tr>\n",
       "      <th>5</th>\n",
       "      <td>6</td>\n",
       "      <td>0.687</td>\n",
       "      <td>0.333</td>\n",
       "    </tr>\n",
       "    <tr>\n",
       "      <th>6</th>\n",
       "      <td>7</td>\n",
       "      <td>0.636</td>\n",
       "      <td>0.389</td>\n",
       "    </tr>\n",
       "    <tr>\n",
       "      <th>7</th>\n",
       "      <td>8</td>\n",
       "      <td>0.628</td>\n",
       "      <td>0.367</td>\n",
       "    </tr>\n",
       "    <tr>\n",
       "      <th>8</th>\n",
       "      <td>9</td>\n",
       "      <td>0.619</td>\n",
       "      <td>0.399</td>\n",
       "    </tr>\n",
       "    <tr>\n",
       "      <th>9</th>\n",
       "      <td>10</td>\n",
       "      <td>0.590</td>\n",
       "      <td>0.335</td>\n",
       "    </tr>\n",
       "    <tr>\n",
       "      <th>10</th>\n",
       "      <td>11</td>\n",
       "      <td>0.574</td>\n",
       "      <td>0.344</td>\n",
       "    </tr>\n",
       "    <tr>\n",
       "      <th>11</th>\n",
       "      <td>12</td>\n",
       "      <td>0.555</td>\n",
       "      <td>0.290</td>\n",
       "    </tr>\n",
       "    <tr>\n",
       "      <th>12</th>\n",
       "      <td>13</td>\n",
       "      <td>0.536</td>\n",
       "      <td>0.318</td>\n",
       "    </tr>\n",
       "    <tr>\n",
       "      <th>13</th>\n",
       "      <td>14</td>\n",
       "      <td>0.518</td>\n",
       "      <td>0.280</td>\n",
       "    </tr>\n",
       "    <tr>\n",
       "      <th>14</th>\n",
       "      <td>15</td>\n",
       "      <td>0.507</td>\n",
       "      <td>0.265</td>\n",
       "    </tr>\n",
       "    <tr>\n",
       "      <th>15</th>\n",
       "      <td>16</td>\n",
       "      <td>0.507</td>\n",
       "      <td>0.265</td>\n",
       "    </tr>\n",
       "    <tr>\n",
       "      <th>16</th>\n",
       "      <td>17</td>\n",
       "      <td>0.504</td>\n",
       "      <td>0.268</td>\n",
       "    </tr>\n",
       "    <tr>\n",
       "      <th>17</th>\n",
       "      <td>18</td>\n",
       "      <td>0.469</td>\n",
       "      <td>0.221</td>\n",
       "    </tr>\n",
       "    <tr>\n",
       "      <th>18</th>\n",
       "      <td>19</td>\n",
       "      <td>0.467</td>\n",
       "      <td>0.216</td>\n",
       "    </tr>\n",
       "  </tbody>\n",
       "</table>\n",
       "</div>"
      ],
      "text/plain": [
       "    MinSamplesLeaf  TrainScore  TestScore\n",
       "0                1       1.000     -0.160\n",
       "1                2       0.935      0.067\n",
       "2                3       0.833      0.306\n",
       "3                4       0.777      0.392\n",
       "4                5       0.746      0.363\n",
       "5                6       0.687      0.333\n",
       "6                7       0.636      0.389\n",
       "7                8       0.628      0.367\n",
       "8                9       0.619      0.399\n",
       "9               10       0.590      0.335\n",
       "10              11       0.574      0.344\n",
       "11              12       0.555      0.290\n",
       "12              13       0.536      0.318\n",
       "13              14       0.518      0.280\n",
       "14              15       0.507      0.265\n",
       "15              16       0.507      0.265\n",
       "16              17       0.504      0.268\n",
       "17              18       0.469      0.221\n",
       "18              19       0.467      0.216"
      ]
     },
     "execution_count": 359,
     "metadata": {},
     "output_type": "execute_result"
    }
   ],
   "source": [
    "# train 및 test 설명력 결과 저장\n",
    "train_score = []; test_score = [ ]\n",
    "\n",
    "# min_samples_leaf: 잎사귀 최소 자료 수\n",
    "para_leaf = [n_leaf * 1 for n_leaf in range(1, 20)]            # 참조: para_leaf : [1,2,3,…,19]\n",
    "\n",
    "for v_min_samples_leaf in para_leaf:\n",
    "    tree = DecisionTreeRegressor(random_state=1234\n",
    "                                 , min_samples_leaf=v_min_samples_leaf)\n",
    "    tree.fit(df_train_x, df_train_y)\n",
    "    train_score.append(tree.score(df_train_x, df_train_y))\n",
    "    test_score.append(tree.score(df_test_x, df_test_y))\n",
    "\n",
    "# 결과 저장\n",
    "df_score_leaf = pd.DataFrame()\n",
    "df_score_leaf[\"MinSamplesLeaf\"] = para_leaf\n",
    "df_score_leaf[\"TrainScore\"] = train_score\n",
    "df_score_leaf[\"TestScore\"] = test_score\n",
    "df_score_leaf.round(3)"
   ]
  },
  {
   "cell_type": "code",
   "execution_count": 360,
   "id": "af1e5186",
   "metadata": {
    "scrolled": false
   },
   "outputs": [
    {
     "data": {
      "text/plain": [
       "<matplotlib.legend.Legend at 0x1d766c88a00>"
      ]
     },
     "execution_count": 360,
     "metadata": {},
     "output_type": "execute_result"
    },
    {
     "data": {
      "image/png": "[encoded data removed]",
      "text/plain": [
       "<Figure size 432x288 with 1 Axes>"
      ]
     },
     "metadata": {
      "needs_background": "light"
     },
     "output_type": "display_data"
    }
   ],
   "source": [
    "# 모델 설명력 그래프 확인\n",
    "plt.plot(para_leaf, train_score, linestyle = \"-\", label = \"Train Score\")\n",
    "plt.plot(para_leaf, test_score, linestyle = \"--\", label = \"Test Score\")\n",
    "plt.legend()"
   ]
  },
  {
   "cell_type": "markdown",
   "id": "cf93e546",
   "metadata": {},
   "source": [
    "잎사귀 노드 최소 자료 수 증가에 따라 모델의 정확도는 감소, 데이터 성능 변화를 고려하여 8 선택"
   ]
  },
  {
   "cell_type": "markdown",
   "id": "32da1b65",
   "metadata": {},
   "source": [
    "#### min_samples_split"
   ]
  },
  {
   "cell_type": "code",
   "execution_count": 361,
   "id": "fbc5d8d4",
   "metadata": {},
   "outputs": [
    {
     "data": {
      "text/html": [
       "<div>\n",
       "<style scoped>\n",
       "    .dataframe tbody tr th:only-of-type {\n",
       "        vertical-align: middle;\n",
       "    }\n",
       "\n",
       "    .dataframe tbody tr th {\n",
       "        vertical-align: top;\n",
       "    }\n",
       "\n",
       "    .dataframe thead th {\n",
       "        text-align: right;\n",
       "    }\n",
       "</style>\n",
       "<table border=\"1\" class=\"dataframe\">\n",
       "  <thead>\n",
       "    <tr style=\"text-align: right;\">\n",
       "      <th></th>\n",
       "      <th>MinSamplesLeaf</th>\n",
       "      <th>TrainScore</th>\n",
       "      <th>TestScore</th>\n",
       "    </tr>\n",
       "  </thead>\n",
       "  <tbody>\n",
       "    <tr>\n",
       "      <th>0</th>\n",
       "      <td>2</td>\n",
       "      <td>0.619</td>\n",
       "      <td>0.399</td>\n",
       "    </tr>\n",
       "    <tr>\n",
       "      <th>1</th>\n",
       "      <td>4</td>\n",
       "      <td>0.619</td>\n",
       "      <td>0.399</td>\n",
       "    </tr>\n",
       "    <tr>\n",
       "      <th>2</th>\n",
       "      <td>6</td>\n",
       "      <td>0.619</td>\n",
       "      <td>0.399</td>\n",
       "    </tr>\n",
       "    <tr>\n",
       "      <th>3</th>\n",
       "      <td>8</td>\n",
       "      <td>0.619</td>\n",
       "      <td>0.399</td>\n",
       "    </tr>\n",
       "    <tr>\n",
       "      <th>4</th>\n",
       "      <td>10</td>\n",
       "      <td>0.619</td>\n",
       "      <td>0.399</td>\n",
       "    </tr>\n",
       "    <tr>\n",
       "      <th>5</th>\n",
       "      <td>12</td>\n",
       "      <td>0.619</td>\n",
       "      <td>0.399</td>\n",
       "    </tr>\n",
       "    <tr>\n",
       "      <th>6</th>\n",
       "      <td>14</td>\n",
       "      <td>0.619</td>\n",
       "      <td>0.399</td>\n",
       "    </tr>\n",
       "    <tr>\n",
       "      <th>7</th>\n",
       "      <td>16</td>\n",
       "      <td>0.619</td>\n",
       "      <td>0.399</td>\n",
       "    </tr>\n",
       "    <tr>\n",
       "      <th>8</th>\n",
       "      <td>18</td>\n",
       "      <td>0.619</td>\n",
       "      <td>0.399</td>\n",
       "    </tr>\n",
       "    <tr>\n",
       "      <th>9</th>\n",
       "      <td>20</td>\n",
       "      <td>0.596</td>\n",
       "      <td>0.390</td>\n",
       "    </tr>\n",
       "    <tr>\n",
       "      <th>10</th>\n",
       "      <td>22</td>\n",
       "      <td>0.596</td>\n",
       "      <td>0.390</td>\n",
       "    </tr>\n",
       "    <tr>\n",
       "      <th>11</th>\n",
       "      <td>24</td>\n",
       "      <td>0.578</td>\n",
       "      <td>0.341</td>\n",
       "    </tr>\n",
       "    <tr>\n",
       "      <th>12</th>\n",
       "      <td>26</td>\n",
       "      <td>0.565</td>\n",
       "      <td>0.348</td>\n",
       "    </tr>\n",
       "    <tr>\n",
       "      <th>13</th>\n",
       "      <td>28</td>\n",
       "      <td>0.565</td>\n",
       "      <td>0.348</td>\n",
       "    </tr>\n",
       "    <tr>\n",
       "      <th>14</th>\n",
       "      <td>30</td>\n",
       "      <td>0.541</td>\n",
       "      <td>0.269</td>\n",
       "    </tr>\n",
       "    <tr>\n",
       "      <th>15</th>\n",
       "      <td>32</td>\n",
       "      <td>0.541</td>\n",
       "      <td>0.269</td>\n",
       "    </tr>\n",
       "    <tr>\n",
       "      <th>16</th>\n",
       "      <td>34</td>\n",
       "      <td>0.541</td>\n",
       "      <td>0.269</td>\n",
       "    </tr>\n",
       "    <tr>\n",
       "      <th>17</th>\n",
       "      <td>36</td>\n",
       "      <td>0.526</td>\n",
       "      <td>0.269</td>\n",
       "    </tr>\n",
       "    <tr>\n",
       "      <th>18</th>\n",
       "      <td>38</td>\n",
       "      <td>0.526</td>\n",
       "      <td>0.269</td>\n",
       "    </tr>\n",
       "  </tbody>\n",
       "</table>\n",
       "</div>"
      ],
      "text/plain": [
       "    MinSamplesLeaf  TrainScore  TestScore\n",
       "0                2       0.619      0.399\n",
       "1                4       0.619      0.399\n",
       "2                6       0.619      0.399\n",
       "3                8       0.619      0.399\n",
       "4               10       0.619      0.399\n",
       "5               12       0.619      0.399\n",
       "6               14       0.619      0.399\n",
       "7               16       0.619      0.399\n",
       "8               18       0.619      0.399\n",
       "9               20       0.596      0.390\n",
       "10              22       0.596      0.390\n",
       "11              24       0.578      0.341\n",
       "12              26       0.565      0.348\n",
       "13              28       0.565      0.348\n",
       "14              30       0.541      0.269\n",
       "15              32       0.541      0.269\n",
       "16              34       0.541      0.269\n",
       "17              36       0.526      0.269\n",
       "18              38       0.526      0.269"
      ]
     },
     "execution_count": 361,
     "metadata": {},
     "output_type": "execute_result"
    }
   ],
   "source": [
    "# train 및 test 설명력 결과 저장\n",
    "train_score = []; test_score = [ ]\n",
    "\n",
    "# min_samples_leaf: 잎사귀 최소 자료 수\n",
    "para_split = [n_split * 2 for n_split in range(1, 20)]            # 참조: para_leaf : [1,2,3,…,19]\n",
    "\n",
    "for v_min_samples_split in para_split:\n",
    "    tree = DecisionTreeRegressor(random_state=1234\n",
    "                                 , min_samples_leaf=9, min_samples_split=v_min_samples_split)\n",
    "    tree.fit(df_train_x, df_train_y)\n",
    "    train_score.append(tree.score(df_train_x, df_train_y))\n",
    "    test_score.append(tree.score(df_test_x, df_test_y))\n",
    "\n",
    "# 결과 저장\n",
    "df_score_split = pd.DataFrame()\n",
    "df_score_split[\"MinSamplesLeaf\"] = para_split\n",
    "df_score_split[\"TrainScore\"] = train_score\n",
    "df_score_split[\"TestScore\"] = test_score\n",
    "df_score_split.round(3)"
   ]
  },
  {
   "cell_type": "code",
   "execution_count": 362,
   "id": "f7713ec1",
   "metadata": {},
   "outputs": [
    {
     "data": {
      "text/plain": [
       "<matplotlib.legend.Legend at 0x1d766f44520>"
      ]
     },
     "execution_count": 362,
     "metadata": {},
     "output_type": "execute_result"
    },
    {
     "data": {
      "image/png": "[encoded data removed]",
      "text/plain": [
       "<Figure size 432x288 with 1 Axes>"
      ]
     },
     "metadata": {
      "needs_background": "light"
     },
     "output_type": "display_data"
    }
   ],
   "source": [
    "# 모델 설명력 그래프 확인\n",
    "plt.plot(para_split, train_score, linestyle = \"-\", label = \"Train Score\")\n",
    "plt.plot(para_split, test_score, linestyle = \"--\", label = \"Test Score\")\n",
    "plt.legend()"
   ]
  },
  {
   "cell_type": "markdown",
   "id": "6f0cd6d5",
   "metadata": {},
   "source": [
    "분리 노드의 최소 자료 수 증가에 따라 모델의 정확도는 감소, 데이터의 성능 변화를 고려하여 20 선택"
   ]
  },
  {
   "cell_type": "markdown",
   "id": "b6e91f47",
   "metadata": {},
   "source": [
    "#### max_depth"
   ]
  },
  {
   "cell_type": "code",
   "execution_count": 363,
   "id": "957724aa",
   "metadata": {},
   "outputs": [
    {
     "data": {
      "text/html": [
       "<div>\n",
       "<style scoped>\n",
       "    .dataframe tbody tr th:only-of-type {\n",
       "        vertical-align: middle;\n",
       "    }\n",
       "\n",
       "    .dataframe tbody tr th {\n",
       "        vertical-align: top;\n",
       "    }\n",
       "\n",
       "    .dataframe thead th {\n",
       "        text-align: right;\n",
       "    }\n",
       "</style>\n",
       "<table border=\"1\" class=\"dataframe\">\n",
       "  <thead>\n",
       "    <tr style=\"text-align: right;\">\n",
       "      <th></th>\n",
       "      <th>MinSamplesLeaf</th>\n",
       "      <th>TrainScore</th>\n",
       "      <th>TestScore</th>\n",
       "    </tr>\n",
       "  </thead>\n",
       "  <tbody>\n",
       "    <tr>\n",
       "      <th>0</th>\n",
       "      <td>1</td>\n",
       "      <td>0.201</td>\n",
       "      <td>0.307</td>\n",
       "    </tr>\n",
       "    <tr>\n",
       "      <th>1</th>\n",
       "      <td>2</td>\n",
       "      <td>0.340</td>\n",
       "      <td>0.245</td>\n",
       "    </tr>\n",
       "    <tr>\n",
       "      <th>2</th>\n",
       "      <td>3</td>\n",
       "      <td>0.413</td>\n",
       "      <td>0.318</td>\n",
       "    </tr>\n",
       "    <tr>\n",
       "      <th>3</th>\n",
       "      <td>4</td>\n",
       "      <td>0.502</td>\n",
       "      <td>0.355</td>\n",
       "    </tr>\n",
       "    <tr>\n",
       "      <th>4</th>\n",
       "      <td>5</td>\n",
       "      <td>0.556</td>\n",
       "      <td>0.348</td>\n",
       "    </tr>\n",
       "    <tr>\n",
       "      <th>5</th>\n",
       "      <td>6</td>\n",
       "      <td>0.592</td>\n",
       "      <td>0.388</td>\n",
       "    </tr>\n",
       "    <tr>\n",
       "      <th>6</th>\n",
       "      <td>7</td>\n",
       "      <td>0.596</td>\n",
       "      <td>0.390</td>\n",
       "    </tr>\n",
       "    <tr>\n",
       "      <th>7</th>\n",
       "      <td>8</td>\n",
       "      <td>0.596</td>\n",
       "      <td>0.390</td>\n",
       "    </tr>\n",
       "    <tr>\n",
       "      <th>8</th>\n",
       "      <td>9</td>\n",
       "      <td>0.596</td>\n",
       "      <td>0.390</td>\n",
       "    </tr>\n",
       "    <tr>\n",
       "      <th>9</th>\n",
       "      <td>10</td>\n",
       "      <td>0.596</td>\n",
       "      <td>0.390</td>\n",
       "    </tr>\n",
       "  </tbody>\n",
       "</table>\n",
       "</div>"
      ],
      "text/plain": [
       "   MinSamplesLeaf  TrainScore  TestScore\n",
       "0               1       0.201      0.307\n",
       "1               2       0.340      0.245\n",
       "2               3       0.413      0.318\n",
       "3               4       0.502      0.355\n",
       "4               5       0.556      0.348\n",
       "5               6       0.592      0.388\n",
       "6               7       0.596      0.390\n",
       "7               8       0.596      0.390\n",
       "8               9       0.596      0.390\n",
       "9              10       0.596      0.390"
      ]
     },
     "execution_count": 363,
     "metadata": {},
     "output_type": "execute_result"
    }
   ],
   "source": [
    "# train 및 test 설명력 결과 저장\n",
    "train_score = []; test_score = [ ]\n",
    "\n",
    "# min_samples_leaf: 잎사귀 최소 자료 수\n",
    "para_depth = [depth for depth in range(1, 11)]            # 참조: para_leaf : [1,2,3,…,19]\n",
    "\n",
    "for v_max_depth in para_depth:\n",
    "    tree = DecisionTreeRegressor(random_state=1234, min_samples_leaf=9, min_samples_split=20, max_depth = v_max_depth)\n",
    "    tree.fit(df_train_x, df_train_y)\n",
    "    train_score.append(tree.score(df_train_x, df_train_y))\n",
    "    test_score.append(tree.score(df_test_x, df_test_y))\n",
    "\n",
    "# 결과 저장\n",
    "df_score_depth = pd.DataFrame()\n",
    "df_score_depth[\"MinSamplesLeaf\"] = para_depth\n",
    "df_score_depth[\"TrainScore\"] = train_score\n",
    "df_score_depth[\"TestScore\"] = test_score\n",
    "df_score_depth.round(3)"
   ]
  },
  {
   "cell_type": "code",
   "execution_count": 364,
   "id": "80f30460",
   "metadata": {
    "scrolled": true
   },
   "outputs": [
    {
     "data": {
      "text/plain": [
       "<matplotlib.legend.Legend at 0x1d766fbb2e0>"
      ]
     },
     "execution_count": 364,
     "metadata": {},
     "output_type": "execute_result"
    },
    {
     "data": {
      "image/png": "[encoded data removed]",
      "text/plain": [
       "<Figure size 432x288 with 1 Axes>"
      ]
     },
     "metadata": {
      "needs_background": "light"
     },
     "output_type": "display_data"
    }
   ],
   "source": [
    "# 모델 설명력 그래프 확인\n",
    "plt.plot(para_depth, train_score, linestyle = \"-\", label = \"Train Score\")\n",
    "plt.plot(para_depth, test_score, linestyle = \"--\", label = \"Test Score\")\n",
    "plt.legend()"
   ]
  },
  {
   "cell_type": "markdown",
   "id": "665e0d74",
   "metadata": {},
   "source": [
    "최대 깊이 증가에 따라 모델의 정확도는 증가하며, 데이터의 성능 변화를 고려하여 6 선택 가능"
   ]
  },
  {
   "cell_type": "markdown",
   "id": "f06b1698",
   "metadata": {},
   "source": [
    "#### 최종 모델 선정"
   ]
  },
  {
   "cell_type": "code",
   "execution_count": 365,
   "id": "c09aa742",
   "metadata": {},
   "outputs": [],
   "source": [
    "v_feature_name = df_train_x.columns"
   ]
  },
  {
   "cell_type": "code",
   "execution_count": 366,
   "id": "0d5ecb53",
   "metadata": {
    "scrolled": false
   },
   "outputs": [
    {
     "name": "stdout",
     "output_type": "stream",
     "text": [
      "Score on training set: 0.592\n",
      "Score on test set: 0.408\n"
     ]
    }
   ],
   "source": [
    "tree_final = DecisionTreeRegressor(min_samples_leaf = 8, min_samples_split = 20, max_depth = 6, random_state=1234)\n",
    "tree_final.fit(df_train_x, df_train_y)\n",
    "# train 데이터 설명력\n",
    "print(\"Score on training set: {:.3f}\".format(tree_final.score(df_train_x, df_train_y)))\n",
    "# test 데이터 설명력\n",
    "print(\"Score on test set: {:.3f}\".format(tree_final.score(df_test_x, df_test_y)))"
   ]
  },
  {
   "cell_type": "markdown",
   "id": "479c5c9c",
   "metadata": {},
   "source": [
    "Train Acc: 59.2% Test Acc: 40.8"
   ]
  },
  {
   "cell_type": "code",
   "execution_count": 367,
   "id": "fba4e110",
   "metadata": {
    "scrolled": true
   },
   "outputs": [
    {
     "data": {
      "image/svg+xml": [
       "<?xml version=\"1.0\" encoding=\"UTF-8\" standalone=\"no\"?>\n",
       "<!DOCTYPE svg PUBLIC \"-//W3C//DTD SVG 1.1//EN\"\n",
       " \"http://www.w3.org/Graphics/SVG/1.1/DTD/svg11.dtd\">\n",
       "<!-- Generated by graphviz version 3.0.0 (20220226.1711)\n",
       " -->\n",
       "<!-- Title: Tree Pages: 1 -->\n",
       "<svg width=\"1658pt\" height=\"685pt\"\n",
       " viewBox=\"0.00 0.00 1658.00 685.00\" xmlns=\"http://www.w3.org/2000/svg\" xmlns:xlink=\"http://www.w3.org/1999/xlink\">\n",
       "<g id=\"graph0\" class=\"graph\" transform=\"scale(1 1) rotate(0) translate(4 681)\">\n",
       "<title>Tree</title>\n",
       "<polygon fill=\"white\" stroke=\"transparent\" points=\"-4,4 -4,-681 1654,-681 1654,4 -4,4\"/>\n",
       "<!-- 0 -->\n",
       "<g id=\"node1\" class=\"node\">\n",
       "<title>0</title>\n",
       "<polygon fill=\"#f3c3a1\" stroke=\"black\" points=\"1272.5,-677 1096.5,-677 1096.5,-609 1272.5,-609 1272.5,-677\"/>\n",
       "<text text-anchor=\"middle\" x=\"1184.5\" y=\"-661.8\" font-family=\"Helvetica,sans-Serif\" font-size=\"14.00\">CO &lt;= 0.559</text>\n",
       "<text text-anchor=\"middle\" x=\"1184.5\" y=\"-646.8\" font-family=\"Helvetica,sans-Serif\" font-size=\"14.00\">squared_error = 229.847</text>\n",
       "<text text-anchor=\"middle\" x=\"1184.5\" y=\"-631.8\" font-family=\"Helvetica,sans-Serif\" font-size=\"14.00\">samples = 219</text>\n",
       "<text text-anchor=\"middle\" x=\"1184.5\" y=\"-616.8\" font-family=\"Helvetica,sans-Serif\" font-size=\"14.00\">value = 32.228</text>\n",
       "</g>\n",
       "<!-- 1 -->\n",
       "<g id=\"node2\" class=\"node\">\n",
       "<title>1</title>\n",
       "<polygon fill=\"#f5d0b5\" stroke=\"black\" points=\"1091.5,-573 915.5,-573 915.5,-505 1091.5,-505 1091.5,-573\"/>\n",
       "<text text-anchor=\"middle\" x=\"1003.5\" y=\"-557.8\" font-family=\"Helvetica,sans-Serif\" font-size=\"14.00\">CLOUD &lt;= 8.19</text>\n",
       "<text text-anchor=\"middle\" x=\"1003.5\" y=\"-542.8\" font-family=\"Helvetica,sans-Serif\" font-size=\"14.00\">squared_error = 179.897</text>\n",
       "<text text-anchor=\"middle\" x=\"1003.5\" y=\"-527.8\" font-family=\"Helvetica,sans-Serif\" font-size=\"14.00\">samples = 159</text>\n",
       "<text text-anchor=\"middle\" x=\"1003.5\" y=\"-512.8\" font-family=\"Helvetica,sans-Serif\" font-size=\"14.00\">value = 28.05</text>\n",
       "</g>\n",
       "<!-- 0&#45;&gt;1 -->\n",
       "<g id=\"edge1\" class=\"edge\">\n",
       "<title>0&#45;&gt;1</title>\n",
       "<path fill=\"none\" stroke=\"black\" d=\"M1125.73,-608.88C1108.42,-599.12 1089.33,-588.37 1071.48,-578.31\"/>\n",
       "<polygon fill=\"black\" stroke=\"black\" points=\"1072.71,-574.99 1062.28,-573.12 1069.27,-581.08 1072.71,-574.99\"/>\n",
       "<text text-anchor=\"middle\" x=\"1069\" y=\"-593.5\" font-family=\"Helvetica,sans-Serif\" font-size=\"14.00\">True</text>\n",
       "</g>\n",
       "<!-- 24 -->\n",
       "<g id=\"node25\" class=\"node\">\n",
       "<title>24</title>\n",
       "<polygon fill=\"#eca26c\" stroke=\"black\" points=\"1369.5,-573 1193.5,-573 1193.5,-505 1369.5,-505 1369.5,-573\"/>\n",
       "<text text-anchor=\"middle\" x=\"1281.5\" y=\"-557.8\" font-family=\"Helvetica,sans-Serif\" font-size=\"14.00\">O3 &lt;= 0.02</text>\n",
       "<text text-anchor=\"middle\" x=\"1281.5\" y=\"-542.8\" font-family=\"Helvetica,sans-Serif\" font-size=\"14.00\">squared_error = 193.377</text>\n",
       "<text text-anchor=\"middle\" x=\"1281.5\" y=\"-527.8\" font-family=\"Helvetica,sans-Serif\" font-size=\"14.00\">samples = 60</text>\n",
       "<text text-anchor=\"middle\" x=\"1281.5\" y=\"-512.8\" font-family=\"Helvetica,sans-Serif\" font-size=\"14.00\">value = 43.3</text>\n",
       "</g>\n",
       "<!-- 0&#45;&gt;24 -->\n",
       "<g id=\"edge24\" class=\"edge\">\n",
       "<title>0&#45;&gt;24</title>\n",
       "<path fill=\"none\" stroke=\"black\" d=\"M1215.99,-608.88C1224.55,-599.89 1233.91,-590.04 1242.82,-580.68\"/>\n",
       "<polygon fill=\"black\" stroke=\"black\" points=\"1245.48,-582.96 1249.83,-573.3 1240.41,-578.13 1245.48,-582.96\"/>\n",
       "<text text-anchor=\"middle\" x=\"1250.46\" y=\"-594.59\" font-family=\"Helvetica,sans-Serif\" font-size=\"14.00\">False</text>\n",
       "</g>\n",
       "<!-- 2 -->\n",
       "<g id=\"node3\" class=\"node\">\n",
       "<title>2</title>\n",
       "<polygon fill=\"#f4c8a8\" stroke=\"black\" points=\"817.5,-469 641.5,-469 641.5,-401 817.5,-401 817.5,-469\"/>\n",
       "<text text-anchor=\"middle\" x=\"729.5\" y=\"-453.8\" font-family=\"Helvetica,sans-Serif\" font-size=\"14.00\">O3 &lt;= 0.034</text>\n",
       "<text text-anchor=\"middle\" x=\"729.5\" y=\"-438.8\" font-family=\"Helvetica,sans-Serif\" font-size=\"14.00\">squared_error = 169.783</text>\n",
       "<text text-anchor=\"middle\" x=\"729.5\" y=\"-423.8\" font-family=\"Helvetica,sans-Serif\" font-size=\"14.00\">samples = 131</text>\n",
       "<text text-anchor=\"middle\" x=\"729.5\" y=\"-408.8\" font-family=\"Helvetica,sans-Serif\" font-size=\"14.00\">value = 30.656</text>\n",
       "</g>\n",
       "<!-- 1&#45;&gt;2 -->\n",
       "<g id=\"edge2\" class=\"edge\">\n",
       "<title>1&#45;&gt;2</title>\n",
       "<path fill=\"none\" stroke=\"black\" d=\"M915.3,-505.17C887.19,-494.7 855.92,-483.06 827.18,-472.36\"/>\n",
       "<polygon fill=\"black\" stroke=\"black\" points=\"828.13,-468.98 817.54,-468.77 825.69,-475.54 828.13,-468.98\"/>\n",
       "</g>\n",
       "<!-- 21 -->\n",
       "<g id=\"node22\" class=\"node\">\n",
       "<title>21</title>\n",
       "<polygon fill=\"#fdf4ee\" stroke=\"black\" points=\"1087,-469 920,-469 920,-401 1087,-401 1087,-469\"/>\n",
       "<text text-anchor=\"middle\" x=\"1003.5\" y=\"-453.8\" font-family=\"Helvetica,sans-Serif\" font-size=\"14.00\">NO2 &lt;= 0.02</text>\n",
       "<text text-anchor=\"middle\" x=\"1003.5\" y=\"-438.8\" font-family=\"Helvetica,sans-Serif\" font-size=\"14.00\">squared_error = 46.765</text>\n",
       "<text text-anchor=\"middle\" x=\"1003.5\" y=\"-423.8\" font-family=\"Helvetica,sans-Serif\" font-size=\"14.00\">samples = 28</text>\n",
       "<text text-anchor=\"middle\" x=\"1003.5\" y=\"-408.8\" font-family=\"Helvetica,sans-Serif\" font-size=\"14.00\">value = 15.857</text>\n",
       "</g>\n",
       "<!-- 1&#45;&gt;21 -->\n",
       "<g id=\"edge21\" class=\"edge\">\n",
       "<title>1&#45;&gt;21</title>\n",
       "<path fill=\"none\" stroke=\"black\" d=\"M1003.5,-504.88C1003.5,-496.78 1003.5,-487.98 1003.5,-479.47\"/>\n",
       "<polygon fill=\"black\" stroke=\"black\" points=\"1007,-479.3 1003.5,-469.3 1000,-479.3 1007,-479.3\"/>\n",
       "</g>\n",
       "<!-- 3 -->\n",
       "<g id=\"node4\" class=\"node\">\n",
       "<title>3</title>\n",
       "<polygon fill=\"#f5d0b5\" stroke=\"black\" points=\"623.5,-365 447.5,-365 447.5,-297 623.5,-297 623.5,-365\"/>\n",
       "<text text-anchor=\"middle\" x=\"535.5\" y=\"-349.8\" font-family=\"Helvetica,sans-Serif\" font-size=\"14.00\">NO2 &lt;= 0.021</text>\n",
       "<text text-anchor=\"middle\" x=\"535.5\" y=\"-334.8\" font-family=\"Helvetica,sans-Serif\" font-size=\"14.00\">squared_error = 155.207</text>\n",
       "<text text-anchor=\"middle\" x=\"535.5\" y=\"-319.8\" font-family=\"Helvetica,sans-Serif\" font-size=\"14.00\">samples = 86</text>\n",
       "<text text-anchor=\"middle\" x=\"535.5\" y=\"-304.8\" font-family=\"Helvetica,sans-Serif\" font-size=\"14.00\">value = 27.953</text>\n",
       "</g>\n",
       "<!-- 2&#45;&gt;3 -->\n",
       "<g id=\"edge3\" class=\"edge\">\n",
       "<title>2&#45;&gt;3</title>\n",
       "<path fill=\"none\" stroke=\"black\" d=\"M666.51,-400.88C647.7,-390.99 626.93,-380.07 607.58,-369.9\"/>\n",
       "<polygon fill=\"black\" stroke=\"black\" points=\"608.98,-366.68 598.5,-365.12 605.72,-372.88 608.98,-366.68\"/>\n",
       "</g>\n",
       "<!-- 14 -->\n",
       "<g id=\"node15\" class=\"node\">\n",
       "<title>14</title>\n",
       "<polygon fill=\"#f0b890\" stroke=\"black\" points=\"817.5,-365 641.5,-365 641.5,-297 817.5,-297 817.5,-365\"/>\n",
       "<text text-anchor=\"middle\" x=\"729.5\" y=\"-349.8\" font-family=\"Helvetica,sans-Serif\" font-size=\"14.00\">TEMP &lt;= 17.625</text>\n",
       "<text text-anchor=\"middle\" x=\"729.5\" y=\"-334.8\" font-family=\"Helvetica,sans-Serif\" font-size=\"14.00\">squared_error = 156.991</text>\n",
       "<text text-anchor=\"middle\" x=\"729.5\" y=\"-319.8\" font-family=\"Helvetica,sans-Serif\" font-size=\"14.00\">samples = 45</text>\n",
       "<text text-anchor=\"middle\" x=\"729.5\" y=\"-304.8\" font-family=\"Helvetica,sans-Serif\" font-size=\"14.00\">value = 35.822</text>\n",
       "</g>\n",
       "<!-- 2&#45;&gt;14 -->\n",
       "<g id=\"edge14\" class=\"edge\">\n",
       "<title>2&#45;&gt;14</title>\n",
       "<path fill=\"none\" stroke=\"black\" d=\"M729.5,-400.88C729.5,-392.78 729.5,-383.98 729.5,-375.47\"/>\n",
       "<polygon fill=\"black\" stroke=\"black\" points=\"733,-375.3 729.5,-365.3 726,-375.3 733,-375.3\"/>\n",
       "</g>\n",
       "<!-- 4 -->\n",
       "<g id=\"node5\" class=\"node\">\n",
       "<title>4</title>\n",
       "<polygon fill=\"#f8ddc9\" stroke=\"black\" points=\"435,-261 276,-261 276,-193 435,-193 435,-261\"/>\n",
       "<text text-anchor=\"middle\" x=\"355.5\" y=\"-245.8\" font-family=\"Helvetica,sans-Serif\" font-size=\"14.00\">TEMP &lt;= 22.01</text>\n",
       "<text text-anchor=\"middle\" x=\"355.5\" y=\"-230.8\" font-family=\"Helvetica,sans-Serif\" font-size=\"14.00\">squared_error = 80.55</text>\n",
       "<text text-anchor=\"middle\" x=\"355.5\" y=\"-215.8\" font-family=\"Helvetica,sans-Serif\" font-size=\"14.00\">samples = 44</text>\n",
       "<text text-anchor=\"middle\" x=\"355.5\" y=\"-200.8\" font-family=\"Helvetica,sans-Serif\" font-size=\"14.00\">value = 23.636</text>\n",
       "</g>\n",
       "<!-- 3&#45;&gt;4 -->\n",
       "<g id=\"edge4\" class=\"edge\">\n",
       "<title>3&#45;&gt;4</title>\n",
       "<path fill=\"none\" stroke=\"black\" d=\"M477.06,-296.88C459.84,-287.12 440.85,-276.37 423.11,-266.31\"/>\n",
       "<polygon fill=\"black\" stroke=\"black\" points=\"424.38,-263.01 413.96,-261.12 420.93,-269.1 424.38,-263.01\"/>\n",
       "</g>\n",
       "<!-- 9 -->\n",
       "<g id=\"node10\" class=\"node\">\n",
       "<title>9</title>\n",
       "<polygon fill=\"#f2c2a0\" stroke=\"black\" points=\"620,-261 453,-261 453,-193 620,-193 620,-261\"/>\n",
       "<text text-anchor=\"middle\" x=\"536.5\" y=\"-245.8\" font-family=\"Helvetica,sans-Serif\" font-size=\"14.00\">O3 &lt;= 0.02</text>\n",
       "<text text-anchor=\"middle\" x=\"536.5\" y=\"-230.8\" font-family=\"Helvetica,sans-Serif\" font-size=\"14.00\">squared_error = 193.44</text>\n",
       "<text text-anchor=\"middle\" x=\"536.5\" y=\"-215.8\" font-family=\"Helvetica,sans-Serif\" font-size=\"14.00\">samples = 42</text>\n",
       "<text text-anchor=\"middle\" x=\"536.5\" y=\"-200.8\" font-family=\"Helvetica,sans-Serif\" font-size=\"14.00\">value = 32.476</text>\n",
       "</g>\n",
       "<!-- 3&#45;&gt;9 -->\n",
       "<g id=\"edge9\" class=\"edge\">\n",
       "<title>3&#45;&gt;9</title>\n",
       "<path fill=\"none\" stroke=\"black\" d=\"M535.82,-296.88C535.9,-288.78 535.99,-279.98 536.07,-271.47\"/>\n",
       "<polygon fill=\"black\" stroke=\"black\" points=\"539.58,-271.33 536.17,-261.3 532.58,-271.26 539.58,-271.33\"/>\n",
       "</g>\n",
       "<!-- 5 -->\n",
       "<g id=\"node6\" class=\"node\">\n",
       "<title>5</title>\n",
       "<polygon fill=\"#f7d6bf\" stroke=\"black\" points=\"263,-157 96,-157 96,-89 263,-89 263,-157\"/>\n",
       "<text text-anchor=\"middle\" x=\"179.5\" y=\"-141.8\" font-family=\"Helvetica,sans-Serif\" font-size=\"14.00\">WIND &lt;= 3.425</text>\n",
       "<text text-anchor=\"middle\" x=\"179.5\" y=\"-126.8\" font-family=\"Helvetica,sans-Serif\" font-size=\"14.00\">squared_error = 71.654</text>\n",
       "<text text-anchor=\"middle\" x=\"179.5\" y=\"-111.8\" font-family=\"Helvetica,sans-Serif\" font-size=\"14.00\">samples = 35</text>\n",
       "<text text-anchor=\"middle\" x=\"179.5\" y=\"-96.8\" font-family=\"Helvetica,sans-Serif\" font-size=\"14.00\">value = 25.943</text>\n",
       "</g>\n",
       "<!-- 4&#45;&gt;5 -->\n",
       "<g id=\"edge5\" class=\"edge\">\n",
       "<title>4&#45;&gt;5</title>\n",
       "<path fill=\"none\" stroke=\"black\" d=\"M298.36,-192.88C281.52,-183.12 262.96,-172.37 245.6,-162.31\"/>\n",
       "<polygon fill=\"black\" stroke=\"black\" points=\"247.06,-159.11 236.66,-157.12 243.55,-165.17 247.06,-159.11\"/>\n",
       "</g>\n",
       "<!-- 8 -->\n",
       "<g id=\"node9\" class=\"node\">\n",
       "<title>8</title>\n",
       "<polygon fill=\"#fef8f4\" stroke=\"black\" points=\"432,-149.5 281,-149.5 281,-96.5 432,-96.5 432,-149.5\"/>\n",
       "<text text-anchor=\"middle\" x=\"356.5\" y=\"-134.3\" font-family=\"Helvetica,sans-Serif\" font-size=\"14.00\">squared_error = 14.0</text>\n",
       "<text text-anchor=\"middle\" x=\"356.5\" y=\"-119.3\" font-family=\"Helvetica,sans-Serif\" font-size=\"14.00\">samples = 9</text>\n",
       "<text text-anchor=\"middle\" x=\"356.5\" y=\"-104.3\" font-family=\"Helvetica,sans-Serif\" font-size=\"14.00\">value = 14.667</text>\n",
       "</g>\n",
       "<!-- 4&#45;&gt;8 -->\n",
       "<g id=\"edge8\" class=\"edge\">\n",
       "<title>4&#45;&gt;8</title>\n",
       "<path fill=\"none\" stroke=\"black\" d=\"M355.82,-192.88C355.93,-182.33 356.04,-170.6 356.15,-159.85\"/>\n",
       "<polygon fill=\"black\" stroke=\"black\" points=\"359.65,-159.55 356.25,-149.52 352.65,-159.49 359.65,-159.55\"/>\n",
       "</g>\n",
       "<!-- 6 -->\n",
       "<g id=\"node7\" class=\"node\">\n",
       "<title>6</title>\n",
       "<polygon fill=\"#f8dcc8\" stroke=\"black\" points=\"159,-53 0,-53 0,0 159,0 159,-53\"/>\n",
       "<text text-anchor=\"middle\" x=\"79.5\" y=\"-37.8\" font-family=\"Helvetica,sans-Serif\" font-size=\"14.00\">squared_error = 66.11</text>\n",
       "<text text-anchor=\"middle\" x=\"79.5\" y=\"-22.8\" font-family=\"Helvetica,sans-Serif\" font-size=\"14.00\">samples = 27</text>\n",
       "<text text-anchor=\"middle\" x=\"79.5\" y=\"-7.8\" font-family=\"Helvetica,sans-Serif\" font-size=\"14.00\">value = 23.963</text>\n",
       "</g>\n",
       "<!-- 5&#45;&gt;6 -->\n",
       "<g id=\"edge6\" class=\"edge\">\n",
       "<title>5&#45;&gt;6</title>\n",
       "<path fill=\"none\" stroke=\"black\" d=\"M144.52,-88.95C134.65,-79.62 123.91,-69.47 114.07,-60.16\"/>\n",
       "<polygon fill=\"black\" stroke=\"black\" points=\"116.41,-57.56 106.73,-53.24 111.6,-62.65 116.41,-57.56\"/>\n",
       "</g>\n",
       "<!-- 7 -->\n",
       "<g id=\"node8\" class=\"node\">\n",
       "<title>7</title>\n",
       "<polygon fill=\"#f2c29f\" stroke=\"black\" points=\"344,-53 177,-53 177,0 344,0 344,-53\"/>\n",
       "<text text-anchor=\"middle\" x=\"260.5\" y=\"-37.8\" font-family=\"Helvetica,sans-Serif\" font-size=\"14.00\">squared_error = 32.484</text>\n",
       "<text text-anchor=\"middle\" x=\"260.5\" y=\"-22.8\" font-family=\"Helvetica,sans-Serif\" font-size=\"14.00\">samples = 8</text>\n",
       "<text text-anchor=\"middle\" x=\"260.5\" y=\"-7.8\" font-family=\"Helvetica,sans-Serif\" font-size=\"14.00\">value = 32.625</text>\n",
       "</g>\n",
       "<!-- 5&#45;&gt;7 -->\n",
       "<g id=\"edge7\" class=\"edge\">\n",
       "<title>5&#45;&gt;7</title>\n",
       "<path fill=\"none\" stroke=\"black\" d=\"M207.83,-88.95C215.59,-79.89 224.01,-70.07 231.8,-60.99\"/>\n",
       "<polygon fill=\"black\" stroke=\"black\" points=\"234.59,-63.11 238.44,-53.24 229.27,-58.55 234.59,-63.11\"/>\n",
       "</g>\n",
       "<!-- 10 -->\n",
       "<g id=\"node11\" class=\"node\">\n",
       "<title>10</title>\n",
       "<polygon fill=\"#f7d6bf\" stroke=\"black\" points=\"617,-149.5 450,-149.5 450,-96.5 617,-96.5 617,-149.5\"/>\n",
       "<text text-anchor=\"middle\" x=\"533.5\" y=\"-134.3\" font-family=\"Helvetica,sans-Serif\" font-size=\"14.00\">squared_error = 67.524</text>\n",
       "<text text-anchor=\"middle\" x=\"533.5\" y=\"-119.3\" font-family=\"Helvetica,sans-Serif\" font-size=\"14.00\">samples = 19</text>\n",
       "<text text-anchor=\"middle\" x=\"533.5\" y=\"-104.3\" font-family=\"Helvetica,sans-Serif\" font-size=\"14.00\">value = 25.947</text>\n",
       "</g>\n",
       "<!-- 9&#45;&gt;10 -->\n",
       "<g id=\"edge10\" class=\"edge\">\n",
       "<title>9&#45;&gt;10</title>\n",
       "<path fill=\"none\" stroke=\"black\" d=\"M535.53,-192.88C535.21,-182.22 534.86,-170.35 534.54,-159.52\"/>\n",
       "<polygon fill=\"black\" stroke=\"black\" points=\"538.04,-159.41 534.25,-149.52 531.05,-159.62 538.04,-159.41\"/>\n",
       "</g>\n",
       "<!-- 11 -->\n",
       "<g id=\"node12\" class=\"node\">\n",
       "<title>11</title>\n",
       "<polygon fill=\"#efb286\" stroke=\"black\" points=\"811.5,-157 635.5,-157 635.5,-89 811.5,-89 811.5,-157\"/>\n",
       "<text text-anchor=\"middle\" x=\"723.5\" y=\"-141.8\" font-family=\"Helvetica,sans-Serif\" font-size=\"14.00\">TEMP &lt;= 13.74</text>\n",
       "<text text-anchor=\"middle\" x=\"723.5\" y=\"-126.8\" font-family=\"Helvetica,sans-Serif\" font-size=\"14.00\">squared_error = 233.157</text>\n",
       "<text text-anchor=\"middle\" x=\"723.5\" y=\"-111.8\" font-family=\"Helvetica,sans-Serif\" font-size=\"14.00\">samples = 23</text>\n",
       "<text text-anchor=\"middle\" x=\"723.5\" y=\"-96.8\" font-family=\"Helvetica,sans-Serif\" font-size=\"14.00\">value = 37.87</text>\n",
       "</g>\n",
       "<!-- 9&#45;&gt;11 -->\n",
       "<g id=\"edge11\" class=\"edge\">\n",
       "<title>9&#45;&gt;11</title>\n",
       "<path fill=\"none\" stroke=\"black\" d=\"M597.21,-192.88C615.27,-183.04 635.19,-172.17 653.77,-162.03\"/>\n",
       "<polygon fill=\"black\" stroke=\"black\" points=\"655.67,-164.99 662.77,-157.12 652.32,-158.84 655.67,-164.99\"/>\n",
       "</g>\n",
       "<!-- 12 -->\n",
       "<g id=\"node13\" class=\"node\">\n",
       "<title>12</title>\n",
       "<polygon fill=\"#eb9e66\" stroke=\"black\" points=\"618.5,-53 442.5,-53 442.5,0 618.5,0 618.5,-53\"/>\n",
       "<text text-anchor=\"middle\" x=\"530.5\" y=\"-37.8\" font-family=\"Helvetica,sans-Serif\" font-size=\"14.00\">squared_error = 268.975</text>\n",
       "<text text-anchor=\"middle\" x=\"530.5\" y=\"-22.8\" font-family=\"Helvetica,sans-Serif\" font-size=\"14.00\">samples = 11</text>\n",
       "<text text-anchor=\"middle\" x=\"530.5\" y=\"-7.8\" font-family=\"Helvetica,sans-Serif\" font-size=\"14.00\">value = 44.545</text>\n",
       "</g>\n",
       "<!-- 11&#45;&gt;12 -->\n",
       "<g id=\"edge12\" class=\"edge\">\n",
       "<title>11&#45;&gt;12</title>\n",
       "<path fill=\"none\" stroke=\"black\" d=\"M656,-88.95C635.17,-78.75 612.34,-67.57 591.94,-57.59\"/>\n",
       "<polygon fill=\"black\" stroke=\"black\" points=\"593.28,-54.34 582.76,-53.09 590.2,-60.63 593.28,-54.34\"/>\n",
       "</g>\n",
       "<!-- 13 -->\n",
       "<g id=\"node14\" class=\"node\">\n",
       "<title>13</title>\n",
       "<polygon fill=\"#f3c4a3\" stroke=\"black\" points=\"812.5,-53 636.5,-53 636.5,0 812.5,0 812.5,-53\"/>\n",
       "<text text-anchor=\"middle\" x=\"724.5\" y=\"-37.8\" font-family=\"Helvetica,sans-Serif\" font-size=\"14.00\">squared_error = 122.021</text>\n",
       "<text text-anchor=\"middle\" x=\"724.5\" y=\"-22.8\" font-family=\"Helvetica,sans-Serif\" font-size=\"14.00\">samples = 12</text>\n",
       "<text text-anchor=\"middle\" x=\"724.5\" y=\"-7.8\" font-family=\"Helvetica,sans-Serif\" font-size=\"14.00\">value = 31.75</text>\n",
       "</g>\n",
       "<!-- 11&#45;&gt;13 -->\n",
       "<g id=\"edge13\" class=\"edge\">\n",
       "<title>11&#45;&gt;13</title>\n",
       "<path fill=\"none\" stroke=\"black\" d=\"M723.85,-88.95C723.94,-80.72 724.03,-71.85 724.12,-63.48\"/>\n",
       "<polygon fill=\"black\" stroke=\"black\" points=\"727.62,-63.27 724.23,-53.24 720.62,-63.2 727.62,-63.27\"/>\n",
       "</g>\n",
       "<!-- 15 -->\n",
       "<g id=\"node16\" class=\"node\">\n",
       "<title>15</title>\n",
       "<polygon fill=\"#e99355\" stroke=\"black\" points=\"813,-253.5 646,-253.5 646,-200.5 813,-200.5 813,-253.5\"/>\n",
       "<text text-anchor=\"middle\" x=\"729.5\" y=\"-238.3\" font-family=\"Helvetica,sans-Serif\" font-size=\"14.00\">squared_error = 289.96</text>\n",
       "<text text-anchor=\"middle\" x=\"729.5\" y=\"-223.3\" font-family=\"Helvetica,sans-Serif\" font-size=\"14.00\">samples = 10</text>\n",
       "<text text-anchor=\"middle\" x=\"729.5\" y=\"-208.3\" font-family=\"Helvetica,sans-Serif\" font-size=\"14.00\">value = 48.2</text>\n",
       "</g>\n",
       "<!-- 14&#45;&gt;15 -->\n",
       "<g id=\"edge15\" class=\"edge\">\n",
       "<title>14&#45;&gt;15</title>\n",
       "<path fill=\"none\" stroke=\"black\" d=\"M729.5,-296.88C729.5,-286.33 729.5,-274.6 729.5,-263.85\"/>\n",
       "<polygon fill=\"black\" stroke=\"black\" points=\"733,-263.52 729.5,-253.52 726,-263.52 733,-263.52\"/>\n",
       "</g>\n",
       "<!-- 16 -->\n",
       "<g id=\"node17\" class=\"node\">\n",
       "<title>16</title>\n",
       "<polygon fill=\"#f3c3a0\" stroke=\"black\" points=\"998,-261 831,-261 831,-193 998,-193 998,-261\"/>\n",
       "<text text-anchor=\"middle\" x=\"914.5\" y=\"-245.8\" font-family=\"Helvetica,sans-Serif\" font-size=\"14.00\">TEMP &lt;= 26.515</text>\n",
       "<text text-anchor=\"middle\" x=\"914.5\" y=\"-230.8\" font-family=\"Helvetica,sans-Serif\" font-size=\"14.00\">squared_error = 62.718</text>\n",
       "<text text-anchor=\"middle\" x=\"914.5\" y=\"-215.8\" font-family=\"Helvetica,sans-Serif\" font-size=\"14.00\">samples = 35</text>\n",
       "<text text-anchor=\"middle\" x=\"914.5\" y=\"-200.8\" font-family=\"Helvetica,sans-Serif\" font-size=\"14.00\">value = 32.286</text>\n",
       "</g>\n",
       "<!-- 14&#45;&gt;16 -->\n",
       "<g id=\"edge16\" class=\"edge\">\n",
       "<title>14&#45;&gt;16</title>\n",
       "<path fill=\"none\" stroke=\"black\" d=\"M789.56,-296.88C807.43,-287.04 827.14,-276.17 845.52,-266.03\"/>\n",
       "<polygon fill=\"black\" stroke=\"black\" points=\"847.35,-269.02 854.42,-261.12 843.97,-262.89 847.35,-269.02\"/>\n",
       "</g>\n",
       "<!-- 17 -->\n",
       "<g id=\"node18\" class=\"node\">\n",
       "<title>17</title>\n",
       "<polygon fill=\"#f4c8a9\" stroke=\"black\" points=\"998,-157 831,-157 831,-89 998,-89 998,-157\"/>\n",
       "<text text-anchor=\"middle\" x=\"914.5\" y=\"-141.8\" font-family=\"Helvetica,sans-Serif\" font-size=\"14.00\">TEMP &lt;= 24.785</text>\n",
       "<text text-anchor=\"middle\" x=\"914.5\" y=\"-126.8\" font-family=\"Helvetica,sans-Serif\" font-size=\"14.00\">squared_error = 57.286</text>\n",
       "<text text-anchor=\"middle\" x=\"914.5\" y=\"-111.8\" font-family=\"Helvetica,sans-Serif\" font-size=\"14.00\">samples = 25</text>\n",
       "<text text-anchor=\"middle\" x=\"914.5\" y=\"-96.8\" font-family=\"Helvetica,sans-Serif\" font-size=\"14.00\">value = 30.44</text>\n",
       "</g>\n",
       "<!-- 16&#45;&gt;17 -->\n",
       "<g id=\"edge17\" class=\"edge\">\n",
       "<title>16&#45;&gt;17</title>\n",
       "<path fill=\"none\" stroke=\"black\" d=\"M914.5,-192.88C914.5,-184.78 914.5,-175.98 914.5,-167.47\"/>\n",
       "<polygon fill=\"black\" stroke=\"black\" points=\"918,-167.3 914.5,-157.3 911,-167.3 918,-167.3\"/>\n",
       "</g>\n",
       "<!-- 20 -->\n",
       "<g id=\"node21\" class=\"node\">\n",
       "<title>20</title>\n",
       "<polygon fill=\"#f0b58b\" stroke=\"black\" points=\"1175,-149.5 1016,-149.5 1016,-96.5 1175,-96.5 1175,-149.5\"/>\n",
       "<text text-anchor=\"middle\" x=\"1095.5\" y=\"-134.3\" font-family=\"Helvetica,sans-Serif\" font-size=\"14.00\">squared_error = 46.49</text>\n",
       "<text text-anchor=\"middle\" x=\"1095.5\" y=\"-119.3\" font-family=\"Helvetica,sans-Serif\" font-size=\"14.00\">samples = 10</text>\n",
       "<text text-anchor=\"middle\" x=\"1095.5\" y=\"-104.3\" font-family=\"Helvetica,sans-Serif\" font-size=\"14.00\">value = 36.9</text>\n",
       "</g>\n",
       "<!-- 16&#45;&gt;20 -->\n",
       "<g id=\"edge20\" class=\"edge\">\n",
       "<title>16&#45;&gt;20</title>\n",
       "<path fill=\"none\" stroke=\"black\" d=\"M973.27,-192.88C995.12,-180.57 1019.81,-166.65 1041.24,-154.57\"/>\n",
       "<polygon fill=\"black\" stroke=\"black\" points=\"1043.22,-157.48 1050.21,-149.52 1039.78,-151.38 1043.22,-157.48\"/>\n",
       "</g>\n",
       "<!-- 18 -->\n",
       "<g id=\"node19\" class=\"node\">\n",
       "<title>18</title>\n",
       "<polygon fill=\"#f1bc96\" stroke=\"black\" points=\"998,-53 831,-53 831,0 998,0 998,-53\"/>\n",
       "<text text-anchor=\"middle\" x=\"914.5\" y=\"-37.8\" font-family=\"Helvetica,sans-Serif\" font-size=\"14.00\">squared_error = 68.698</text>\n",
       "<text text-anchor=\"middle\" x=\"914.5\" y=\"-22.8\" font-family=\"Helvetica,sans-Serif\" font-size=\"14.00\">samples = 13</text>\n",
       "<text text-anchor=\"middle\" x=\"914.5\" y=\"-7.8\" font-family=\"Helvetica,sans-Serif\" font-size=\"14.00\">value = 34.385</text>\n",
       "</g>\n",
       "<!-- 17&#45;&gt;18 -->\n",
       "<g id=\"edge18\" class=\"edge\">\n",
       "<title>17&#45;&gt;18</title>\n",
       "<path fill=\"none\" stroke=\"black\" d=\"M914.5,-88.95C914.5,-80.72 914.5,-71.85 914.5,-63.48\"/>\n",
       "<polygon fill=\"black\" stroke=\"black\" points=\"918,-63.24 914.5,-53.24 911,-63.24 918,-63.24\"/>\n",
       "</g>\n",
       "<!-- 19 -->\n",
       "<g id=\"node20\" class=\"node\">\n",
       "<title>19</title>\n",
       "<polygon fill=\"#f6d5bd\" stroke=\"black\" points=\"1175,-53 1016,-53 1016,0 1175,0 1175,-53\"/>\n",
       "<text text-anchor=\"middle\" x=\"1095.5\" y=\"-37.8\" font-family=\"Helvetica,sans-Serif\" font-size=\"14.00\">squared_error = 9.806</text>\n",
       "<text text-anchor=\"middle\" x=\"1095.5\" y=\"-22.8\" font-family=\"Helvetica,sans-Serif\" font-size=\"14.00\">samples = 12</text>\n",
       "<text text-anchor=\"middle\" x=\"1095.5\" y=\"-7.8\" font-family=\"Helvetica,sans-Serif\" font-size=\"14.00\">value = 26.167</text>\n",
       "</g>\n",
       "<!-- 17&#45;&gt;19 -->\n",
       "<g id=\"edge19\" class=\"edge\">\n",
       "<title>17&#45;&gt;19</title>\n",
       "<path fill=\"none\" stroke=\"black\" d=\"M977.81,-88.95C997.25,-78.79 1018.55,-67.67 1037.62,-57.72\"/>\n",
       "<polygon fill=\"black\" stroke=\"black\" points=\"1039.25,-60.82 1046.49,-53.09 1036.01,-54.61 1039.25,-60.82\"/>\n",
       "</g>\n",
       "<!-- 22 -->\n",
       "<g id=\"node23\" class=\"node\">\n",
       "<title>22</title>\n",
       "<polygon fill=\"#ffffff\" stroke=\"black\" points=\"995,-357.5 836,-357.5 836,-304.5 995,-304.5 995,-357.5\"/>\n",
       "<text text-anchor=\"middle\" x=\"915.5\" y=\"-342.3\" font-family=\"Helvetica,sans-Serif\" font-size=\"14.00\">squared_error = 22.23</text>\n",
       "<text text-anchor=\"middle\" x=\"915.5\" y=\"-327.3\" font-family=\"Helvetica,sans-Serif\" font-size=\"14.00\">samples = 14</text>\n",
       "<text text-anchor=\"middle\" x=\"915.5\" y=\"-312.3\" font-family=\"Helvetica,sans-Serif\" font-size=\"14.00\">value = 12.357</text>\n",
       "</g>\n",
       "<!-- 21&#45;&gt;22 -->\n",
       "<g id=\"edge22\" class=\"edge\">\n",
       "<title>21&#45;&gt;22</title>\n",
       "<path fill=\"none\" stroke=\"black\" d=\"M974.93,-400.88C965.06,-389.45 954.01,-376.63 944.13,-365.19\"/>\n",
       "<polygon fill=\"black\" stroke=\"black\" points=\"946.7,-362.81 937.52,-357.52 941.4,-367.38 946.7,-362.81\"/>\n",
       "</g>\n",
       "<!-- 23 -->\n",
       "<g id=\"node24\" class=\"node\">\n",
       "<title>23</title>\n",
       "<polygon fill=\"#fbeade\" stroke=\"black\" points=\"1180,-357.5 1013,-357.5 1013,-304.5 1180,-304.5 1180,-357.5\"/>\n",
       "<text text-anchor=\"middle\" x=\"1096.5\" y=\"-342.3\" font-family=\"Helvetica,sans-Serif\" font-size=\"14.00\">squared_error = 46.801</text>\n",
       "<text text-anchor=\"middle\" x=\"1096.5\" y=\"-327.3\" font-family=\"Helvetica,sans-Serif\" font-size=\"14.00\">samples = 14</text>\n",
       "<text text-anchor=\"middle\" x=\"1096.5\" y=\"-312.3\" font-family=\"Helvetica,sans-Serif\" font-size=\"14.00\">value = 19.357</text>\n",
       "</g>\n",
       "<!-- 21&#45;&gt;23 -->\n",
       "<g id=\"edge23\" class=\"edge\">\n",
       "<title>21&#45;&gt;23</title>\n",
       "<path fill=\"none\" stroke=\"black\" d=\"M1033.69,-400.88C1044.12,-389.45 1055.8,-376.63 1066.24,-365.19\"/>\n",
       "<polygon fill=\"black\" stroke=\"black\" points=\"1069.08,-367.27 1073.23,-357.52 1063.91,-362.55 1069.08,-367.27\"/>\n",
       "</g>\n",
       "<!-- 25 -->\n",
       "<g id=\"node26\" class=\"node\">\n",
       "<title>25</title>\n",
       "<polygon fill=\"#eeab7a\" stroke=\"black\" points=\"1369.5,-469 1193.5,-469 1193.5,-401 1369.5,-401 1369.5,-469\"/>\n",
       "<text text-anchor=\"middle\" x=\"1281.5\" y=\"-453.8\" font-family=\"Helvetica,sans-Serif\" font-size=\"14.00\">CO &lt;= 0.65</text>\n",
       "<text text-anchor=\"middle\" x=\"1281.5\" y=\"-438.8\" font-family=\"Helvetica,sans-Serif\" font-size=\"14.00\">squared_error = 140.898</text>\n",
       "<text text-anchor=\"middle\" x=\"1281.5\" y=\"-423.8\" font-family=\"Helvetica,sans-Serif\" font-size=\"14.00\">samples = 47</text>\n",
       "<text text-anchor=\"middle\" x=\"1281.5\" y=\"-408.8\" font-family=\"Helvetica,sans-Serif\" font-size=\"14.00\">value = 40.319</text>\n",
       "</g>\n",
       "<!-- 24&#45;&gt;25 -->\n",
       "<g id=\"edge25\" class=\"edge\">\n",
       "<title>24&#45;&gt;25</title>\n",
       "<path fill=\"none\" stroke=\"black\" d=\"M1281.5,-504.88C1281.5,-496.78 1281.5,-487.98 1281.5,-479.47\"/>\n",
       "<polygon fill=\"black\" stroke=\"black\" points=\"1285,-479.3 1281.5,-469.3 1278,-479.3 1285,-479.3\"/>\n",
       "</g>\n",
       "<!-- 30 -->\n",
       "<g id=\"node31\" class=\"node\">\n",
       "<title>30</title>\n",
       "<polygon fill=\"#e58139\" stroke=\"black\" points=\"1555,-461.5 1388,-461.5 1388,-408.5 1555,-408.5 1555,-461.5\"/>\n",
       "<text text-anchor=\"middle\" x=\"1471.5\" y=\"-446.3\" font-family=\"Helvetica,sans-Serif\" font-size=\"14.00\">squared_error = 234.84</text>\n",
       "<text text-anchor=\"middle\" x=\"1471.5\" y=\"-431.3\" font-family=\"Helvetica,sans-Serif\" font-size=\"14.00\">samples = 13</text>\n",
       "<text text-anchor=\"middle\" x=\"1471.5\" y=\"-416.3\" font-family=\"Helvetica,sans-Serif\" font-size=\"14.00\">value = 54.077</text>\n",
       "</g>\n",
       "<!-- 24&#45;&gt;30 -->\n",
       "<g id=\"edge30\" class=\"edge\">\n",
       "<title>24&#45;&gt;30</title>\n",
       "<path fill=\"none\" stroke=\"black\" d=\"M1343.19,-504.88C1366.34,-492.46 1392.51,-478.41 1415.15,-466.25\"/>\n",
       "<polygon fill=\"black\" stroke=\"black\" points=\"1416.81,-469.33 1423.96,-461.52 1413.5,-463.17 1416.81,-469.33\"/>\n",
       "</g>\n",
       "<!-- 26 -->\n",
       "<g id=\"node27\" class=\"node\">\n",
       "<title>26</title>\n",
       "<polygon fill=\"#f2bf9b\" stroke=\"black\" points=\"1365,-357.5 1198,-357.5 1198,-304.5 1365,-304.5 1365,-357.5\"/>\n",
       "<text text-anchor=\"middle\" x=\"1281.5\" y=\"-342.3\" font-family=\"Helvetica,sans-Serif\" font-size=\"14.00\">squared_error = 59.197</text>\n",
       "<text text-anchor=\"middle\" x=\"1281.5\" y=\"-327.3\" font-family=\"Helvetica,sans-Serif\" font-size=\"14.00\">samples = 19</text>\n",
       "<text text-anchor=\"middle\" x=\"1281.5\" y=\"-312.3\" font-family=\"Helvetica,sans-Serif\" font-size=\"14.00\">value = 33.474</text>\n",
       "</g>\n",
       "<!-- 25&#45;&gt;26 -->\n",
       "<g id=\"edge26\" class=\"edge\">\n",
       "<title>25&#45;&gt;26</title>\n",
       "<path fill=\"none\" stroke=\"black\" d=\"M1281.5,-400.88C1281.5,-390.33 1281.5,-378.6 1281.5,-367.85\"/>\n",
       "<polygon fill=\"black\" stroke=\"black\" points=\"1285,-367.52 1281.5,-357.52 1278,-367.52 1285,-367.52\"/>\n",
       "</g>\n",
       "<!-- 27 -->\n",
       "<g id=\"node28\" class=\"node\">\n",
       "<title>27</title>\n",
       "<polygon fill=\"#eb9d64\" stroke=\"black\" points=\"1559.5,-365 1383.5,-365 1383.5,-297 1559.5,-297 1559.5,-365\"/>\n",
       "<text text-anchor=\"middle\" x=\"1471.5\" y=\"-349.8\" font-family=\"Helvetica,sans-Serif\" font-size=\"14.00\">O3 &lt;= 0.009</text>\n",
       "<text text-anchor=\"middle\" x=\"1471.5\" y=\"-334.8\" font-family=\"Helvetica,sans-Serif\" font-size=\"14.00\">squared_error = 142.963</text>\n",
       "<text text-anchor=\"middle\" x=\"1471.5\" y=\"-319.8\" font-family=\"Helvetica,sans-Serif\" font-size=\"14.00\">samples = 28</text>\n",
       "<text text-anchor=\"middle\" x=\"1471.5\" y=\"-304.8\" font-family=\"Helvetica,sans-Serif\" font-size=\"14.00\">value = 44.964</text>\n",
       "</g>\n",
       "<!-- 25&#45;&gt;27 -->\n",
       "<g id=\"edge27\" class=\"edge\">\n",
       "<title>25&#45;&gt;27</title>\n",
       "<path fill=\"none\" stroke=\"black\" d=\"M1343.19,-400.88C1361.62,-390.99 1381.96,-380.07 1400.91,-369.9\"/>\n",
       "<polygon fill=\"black\" stroke=\"black\" points=\"1402.64,-372.94 1409.8,-365.12 1399.33,-366.77 1402.64,-372.94\"/>\n",
       "</g>\n",
       "<!-- 28 -->\n",
       "<g id=\"node29\" class=\"node\">\n",
       "<title>28</title>\n",
       "<polygon fill=\"#eda876\" stroke=\"black\" points=\"1464.5,-253.5 1288.5,-253.5 1288.5,-200.5 1464.5,-200.5 1464.5,-253.5\"/>\n",
       "<text text-anchor=\"middle\" x=\"1376.5\" y=\"-238.3\" font-family=\"Helvetica,sans-Serif\" font-size=\"14.00\">squared_error = 120.343</text>\n",
       "<text text-anchor=\"middle\" x=\"1376.5\" y=\"-223.3\" font-family=\"Helvetica,sans-Serif\" font-size=\"14.00\">samples = 19</text>\n",
       "<text text-anchor=\"middle\" x=\"1376.5\" y=\"-208.3\" font-family=\"Helvetica,sans-Serif\" font-size=\"14.00\">value = 41.158</text>\n",
       "</g>\n",
       "<!-- 27&#45;&gt;28 -->\n",
       "<g id=\"edge28\" class=\"edge\">\n",
       "<title>27&#45;&gt;28</title>\n",
       "<path fill=\"none\" stroke=\"black\" d=\"M1440.66,-296.88C1429.9,-285.34 1417.84,-272.39 1407.11,-260.86\"/>\n",
       "<polygon fill=\"black\" stroke=\"black\" points=\"1409.65,-258.45 1400.27,-253.52 1404.52,-263.22 1409.65,-258.45\"/>\n",
       "</g>\n",
       "<!-- 29 -->\n",
       "<g id=\"node30\" class=\"node\">\n",
       "<title>29</title>\n",
       "<polygon fill=\"#e6843e\" stroke=\"black\" points=\"1650,-253.5 1483,-253.5 1483,-200.5 1650,-200.5 1650,-253.5\"/>\n",
       "<text text-anchor=\"middle\" x=\"1566.5\" y=\"-238.3\" font-family=\"Helvetica,sans-Serif\" font-size=\"14.00\">squared_error = 95.556</text>\n",
       "<text text-anchor=\"middle\" x=\"1566.5\" y=\"-223.3\" font-family=\"Helvetica,sans-Serif\" font-size=\"14.00\">samples = 9</text>\n",
       "<text text-anchor=\"middle\" x=\"1566.5\" y=\"-208.3\" font-family=\"Helvetica,sans-Serif\" font-size=\"14.00\">value = 53.0</text>\n",
       "</g>\n",
       "<!-- 27&#45;&gt;29 -->\n",
       "<g id=\"edge29\" class=\"edge\">\n",
       "<title>27&#45;&gt;29</title>\n",
       "<path fill=\"none\" stroke=\"black\" d=\"M1502.34,-296.88C1513.1,-285.34 1525.16,-272.39 1535.89,-260.86\"/>\n",
       "<polygon fill=\"black\" stroke=\"black\" points=\"1538.48,-263.22 1542.73,-253.52 1533.35,-258.45 1538.48,-263.22\"/>\n",
       "</g>\n",
       "</g>\n",
       "</svg>\n"
      ],
      "text/plain": [
       "<graphviz.sources.Source at 0x1d766d51220>"
      ]
     },
     "metadata": {},
     "output_type": "display_data"
    }
   ],
   "source": [
    "export_graphviz(tree_final, out_file = \"tree_final.dot\", feature_names = v_feature_name, impurity = True, filled = True)\n",
    "with open(\"tree_final.dot\") as f:\n",
    "    dot_graph = f.read()\n",
    "display(graphviz.Source(dot_graph))"
   ]
  },
  {
   "cell_type": "markdown",
   "id": "77fc1359",
   "metadata": {},
   "source": [
    "    -트리 분리에 영향이 큰 변수는 CO(일산화탄소 농도), O3(오존 농도), CLOUD(전운량) 순서이다.\n",
    "    -CO <= 0.559 이면 미세먼지 농도 감소(자료수=159, squared_error 지수는 감소), CO > 0.559 이면 미세먼지 농도 증가(자료수=60, squared_error 지수는 감소)로 분리\n",
    "    -CO <= 0.559 & CLOUD > 8.19 & NO2 <= 0.02 이면 미세먼지 농도가 감소\n",
    "    -오존 농도가 0.559 이하이고, 전운량이 8.19 초과이고, 이산화질소 농도가 0.02 이하이면 미세먼지 농도가 감소할 확률이 높다."
   ]
  },
  {
   "cell_type": "code",
   "execution_count": 234,
   "id": "5606c0db",
   "metadata": {
    "scrolled": false
   },
   "outputs": [
    {
     "data": {
      "text/html": [
       "<div>\n",
       "<style scoped>\n",
       "    .dataframe tbody tr th:only-of-type {\n",
       "        vertical-align: middle;\n",
       "    }\n",
       "\n",
       "    .dataframe tbody tr th {\n",
       "        vertical-align: top;\n",
       "    }\n",
       "\n",
       "    .dataframe thead th {\n",
       "        text-align: right;\n",
       "    }\n",
       "</style>\n",
       "<table border=\"1\" class=\"dataframe\">\n",
       "  <thead>\n",
       "    <tr style=\"text-align: right;\">\n",
       "      <th></th>\n",
       "      <th>Feature</th>\n",
       "      <th>Importance</th>\n",
       "    </tr>\n",
       "  </thead>\n",
       "  <tbody>\n",
       "    <tr>\n",
       "      <th>2</th>\n",
       "      <td>CO</td>\n",
       "      <td>0.390</td>\n",
       "    </tr>\n",
       "    <tr>\n",
       "      <th>0</th>\n",
       "      <td>O3</td>\n",
       "      <td>0.204</td>\n",
       "    </tr>\n",
       "    <tr>\n",
       "      <th>11</th>\n",
       "      <td>CLOUD</td>\n",
       "      <td>0.170</td>\n",
       "    </tr>\n",
       "    <tr>\n",
       "      <th>4</th>\n",
       "      <td>TEMP</td>\n",
       "      <td>0.152</td>\n",
       "    </tr>\n",
       "    <tr>\n",
       "      <th>1</th>\n",
       "      <td>NO2</td>\n",
       "      <td>0.068</td>\n",
       "    </tr>\n",
       "    <tr>\n",
       "      <th>6</th>\n",
       "      <td>WIND</td>\n",
       "      <td>0.016</td>\n",
       "    </tr>\n",
       "    <tr>\n",
       "      <th>3</th>\n",
       "      <td>SO2</td>\n",
       "      <td>0.000</td>\n",
       "    </tr>\n",
       "    <tr>\n",
       "      <th>5</th>\n",
       "      <td>RAIN</td>\n",
       "      <td>0.000</td>\n",
       "    </tr>\n",
       "    <tr>\n",
       "      <th>7</th>\n",
       "      <td>WIND_DIR</td>\n",
       "      <td>0.000</td>\n",
       "    </tr>\n",
       "    <tr>\n",
       "      <th>8</th>\n",
       "      <td>HUMIDITY</td>\n",
       "      <td>0.000</td>\n",
       "    </tr>\n",
       "    <tr>\n",
       "      <th>9</th>\n",
       "      <td>ATM_PRESS</td>\n",
       "      <td>0.000</td>\n",
       "    </tr>\n",
       "    <tr>\n",
       "      <th>10</th>\n",
       "      <td>SNOW</td>\n",
       "      <td>0.000</td>\n",
       "    </tr>\n",
       "  </tbody>\n",
       "</table>\n",
       "</div>"
      ],
      "text/plain": [
       "      Feature  Importance\n",
       "2          CO       0.390\n",
       "0          O3       0.204\n",
       "11      CLOUD       0.170\n",
       "4        TEMP       0.152\n",
       "1         NO2       0.068\n",
       "6        WIND       0.016\n",
       "3         SO2       0.000\n",
       "5        RAIN       0.000\n",
       "7    WIND_DIR       0.000\n",
       "8    HUMIDITY       0.000\n",
       "9   ATM_PRESS       0.000\n",
       "10       SNOW       0.000"
      ]
     },
     "execution_count": 234,
     "metadata": {},
     "output_type": "execute_result"
    }
   ],
   "source": [
    "# tree.feature_importances_로 설명변수 중요도 확인 및 테이블로 저장\n",
    "df_importance = pd.DataFrame()\n",
    "df_importance[\"Feature\"] = v_feature_name\n",
    "df_importance[\"Importance\"] = tree_final.feature_importances_\n",
    "\n",
    "# df_feature_importance의 테이블을 중요도별로 정렬\n",
    "df_importance.sort_values(\"Importance\", ascending = False, inplace = True)\n",
    "df_importance.round(3)"
   ]
  },
  {
   "cell_type": "code",
   "execution_count": 235,
   "id": "66999d93",
   "metadata": {},
   "outputs": [
    {
     "data": {
      "text/plain": [
       "Text(0, 0.5, '변수')"
      ]
     },
     "execution_count": 235,
     "metadata": {},
     "output_type": "execute_result"
    },
    {
     "data": {
      "image/png": "[encoded data removed]",
      "text/plain": [
       "<Figure size 432x288 with 1 Axes>"
      ]
     },
     "metadata": {
      "needs_background": "light"
     },
     "output_type": "display_data"
    }
   ],
   "source": [
    "# 설명변수 중요도 그래프\n",
    "# 중요도가 높은 변수를 상위에 그림\n",
    "df_importance.sort_values(\"Importance\", ascending = True, inplace = True)\n",
    "coordinates = range(len(df_importance))\n",
    "plt.barh(y = coordinates, width = df_importance[\"Importance\"])\n",
    "plt.yticks(coordinates, df_importance[\"Feature\"])\n",
    "plt.xlabel(\"변수 중요도\")\n",
    "plt.ylabel(\"변수\")"
   ]
  },
  {
   "cell_type": "markdown",
   "id": "ba90f4bc",
   "metadata": {},
   "source": [
    "설명변수 중요도는 CO, O3, CLOUD, TEMP 순으로 높다"
   ]
  },
  {
   "cell_type": "markdown",
   "id": "aead30fa",
   "metadata": {},
   "source": [
    "### 랜덤 포레스트"
   ]
  },
  {
   "cell_type": "code",
   "execution_count": 236,
   "id": "03a9f28a",
   "metadata": {},
   "outputs": [],
   "source": [
    "# 데이터 처리\n",
    "import pandas as pd\n",
    "# 행렬 연산\n",
    "import numpy as np\n",
    "# 데이터 시각화\n",
    "import matplotlib\n",
    "import matplotlib.pyplot as plt\n",
    "# export_graphviz: 나무 구조 생성 및 저장\n",
    "from sklearn.tree import export_graphviz\n",
    "# graphviz: 나무 구조 시각화 \n",
    "import graphviz\n",
    "# 데이터 분할\n",
    "from sklearn.model_selection import train_test_split\n",
    "# 예측/회귀 Decision Tree\n",
    "from sklearn.ensemble import RandomForestRegressor\n",
    "# 최적 모델, 파라미터 검색\n",
    "from sklearn.model_selection import GridSearchCV"
   ]
  },
  {
   "cell_type": "code",
   "execution_count": 237,
   "id": "262bcf85",
   "metadata": {},
   "outputs": [],
   "source": [
    "import os\n",
    "os.environ[\"PATH\"]+=os.pathsep+'C:/Program Files (x86)/Graphviz/bin/'"
   ]
  },
  {
   "cell_type": "code",
   "execution_count": 238,
   "id": "7a1e13ce",
   "metadata": {},
   "outputs": [],
   "source": [
    "df_raw = pd.read_csv('DATA/AIR_POLLUTION.csv')\n",
    "df_raw.drop('MeasDate', axis = 1, inplace = True)\n",
    "df_raw.dropna(subset=['PM10'] , inplace = True)\n",
    "df_raw.fillna(df_raw.mean(), inplace = True)"
   ]
  },
  {
   "cell_type": "code",
   "execution_count": 239,
   "id": "a4c7cc04",
   "metadata": {},
   "outputs": [],
   "source": [
    "# 목표변수, 설명변수 데이터 지정\n",
    "df_raw_y = df_raw['PM10']\n",
    "df_raw_x = df_raw.drop('PM10', axis = 1, inplace = False)"
   ]
  },
  {
   "cell_type": "code",
   "execution_count": 240,
   "id": "dd9a2cbe",
   "metadata": {},
   "outputs": [
    {
     "name": "stdout",
     "output_type": "stream",
     "text": [
      "train data X size : (219, 12)\n",
      "train data Y size : (219,)\n",
      "test data X size : (146, 12)\n",
      "test data Y size : (146,)\n"
     ]
    }
   ],
   "source": [
    "# train_test_split\n",
    "df_train_x, df_test_x, df_train_y, df_test_y = train_test_split(df_raw_x, df_raw_y, test_size = 0.4, random_state = 1234)\n",
    "print(\"train data X size : {}\".format(df_train_x.shape))\n",
    "print(\"train data Y size : {}\".format(df_train_y.shape))\n",
    "print(\"test data X size : {}\".format(df_test_x.shape))\n",
    "print(\"test data Y size : {}\".format(df_test_y.shape))"
   ]
  },
  {
   "cell_type": "code",
   "execution_count": 241,
   "id": "a30f706c",
   "metadata": {
    "scrolled": true
   },
   "outputs": [
    {
     "name": "stdout",
     "output_type": "stream",
     "text": [
      "Score on training set: 0.915\n",
      "Score on test set: 0.452\n"
     ]
    }
   ],
   "source": [
    "# 기본 모델생성\n",
    "rf_uncustomized = RandomForestRegressor(random_state=1234)\n",
    "rf_uncustomized.fit(df_train_x, df_train_y)\n",
    "\n",
    "# Train 데이터 설명력\n",
    "print(\"Score on training set: {:.3f}\".format(rf_uncustomized.score(df_train_x, df_train_y)))\n",
    "\n",
    "# test 데이터 설명력\n",
    "print(\"Score on test set: {:.3f}\".format(rf_uncustomized.score(df_test_x, df_test_y)))"
   ]
  },
  {
   "cell_type": "code",
   "execution_count": 242,
   "id": "09be977a",
   "metadata": {},
   "outputs": [
    {
     "data": {
      "text/plain": [
       "RandomForestRegressor(random_state=1234)"
      ]
     },
     "execution_count": 242,
     "metadata": {},
     "output_type": "execute_result"
    }
   ],
   "source": [
    "rf_uncustomized"
   ]
  },
  {
   "cell_type": "code",
   "execution_count": 298,
   "id": "1c113ead",
   "metadata": {},
   "outputs": [
    {
     "data": {
      "text/html": [
       "<div>\n",
       "<style scoped>\n",
       "    .dataframe tbody tr th:only-of-type {\n",
       "        vertical-align: middle;\n",
       "    }\n",
       "\n",
       "    .dataframe tbody tr th {\n",
       "        vertical-align: top;\n",
       "    }\n",
       "\n",
       "    .dataframe thead th {\n",
       "        text-align: right;\n",
       "    }\n",
       "</style>\n",
       "<table border=\"1\" class=\"dataframe\">\n",
       "  <thead>\n",
       "    <tr style=\"text-align: right;\">\n",
       "      <th></th>\n",
       "      <th>n_estimators</th>\n",
       "      <th>TrainScore</th>\n",
       "      <th>TestScore</th>\n",
       "    </tr>\n",
       "  </thead>\n",
       "  <tbody>\n",
       "    <tr>\n",
       "      <th>0</th>\n",
       "      <td>30</td>\n",
       "      <td>0.902</td>\n",
       "      <td>0.439</td>\n",
       "    </tr>\n",
       "    <tr>\n",
       "      <th>1</th>\n",
       "      <td>31</td>\n",
       "      <td>0.901</td>\n",
       "      <td>0.444</td>\n",
       "    </tr>\n",
       "    <tr>\n",
       "      <th>2</th>\n",
       "      <td>32</td>\n",
       "      <td>0.902</td>\n",
       "      <td>0.441</td>\n",
       "    </tr>\n",
       "    <tr>\n",
       "      <th>3</th>\n",
       "      <td>33</td>\n",
       "      <td>0.904</td>\n",
       "      <td>0.439</td>\n",
       "    </tr>\n",
       "    <tr>\n",
       "      <th>4</th>\n",
       "      <td>34</td>\n",
       "      <td>0.905</td>\n",
       "      <td>0.437</td>\n",
       "    </tr>\n",
       "    <tr>\n",
       "      <th>5</th>\n",
       "      <td>35</td>\n",
       "      <td>0.904</td>\n",
       "      <td>0.442</td>\n",
       "    </tr>\n",
       "    <tr>\n",
       "      <th>6</th>\n",
       "      <td>36</td>\n",
       "      <td>0.906</td>\n",
       "      <td>0.447</td>\n",
       "    </tr>\n",
       "    <tr>\n",
       "      <th>7</th>\n",
       "      <td>37</td>\n",
       "      <td>0.907</td>\n",
       "      <td>0.449</td>\n",
       "    </tr>\n",
       "    <tr>\n",
       "      <th>8</th>\n",
       "      <td>38</td>\n",
       "      <td>0.907</td>\n",
       "      <td>0.448</td>\n",
       "    </tr>\n",
       "    <tr>\n",
       "      <th>9</th>\n",
       "      <td>39</td>\n",
       "      <td>0.906</td>\n",
       "      <td>0.449</td>\n",
       "    </tr>\n",
       "    <tr>\n",
       "      <th>10</th>\n",
       "      <td>40</td>\n",
       "      <td>0.907</td>\n",
       "      <td>0.451</td>\n",
       "    </tr>\n",
       "    <tr>\n",
       "      <th>11</th>\n",
       "      <td>41</td>\n",
       "      <td>0.907</td>\n",
       "      <td>0.452</td>\n",
       "    </tr>\n",
       "    <tr>\n",
       "      <th>12</th>\n",
       "      <td>42</td>\n",
       "      <td>0.906</td>\n",
       "      <td>0.449</td>\n",
       "    </tr>\n",
       "    <tr>\n",
       "      <th>13</th>\n",
       "      <td>43</td>\n",
       "      <td>0.908</td>\n",
       "      <td>0.448</td>\n",
       "    </tr>\n",
       "    <tr>\n",
       "      <th>14</th>\n",
       "      <td>44</td>\n",
       "      <td>0.909</td>\n",
       "      <td>0.448</td>\n",
       "    </tr>\n",
       "    <tr>\n",
       "      <th>15</th>\n",
       "      <td>45</td>\n",
       "      <td>0.908</td>\n",
       "      <td>0.450</td>\n",
       "    </tr>\n",
       "    <tr>\n",
       "      <th>16</th>\n",
       "      <td>46</td>\n",
       "      <td>0.908</td>\n",
       "      <td>0.446</td>\n",
       "    </tr>\n",
       "    <tr>\n",
       "      <th>17</th>\n",
       "      <td>47</td>\n",
       "      <td>0.909</td>\n",
       "      <td>0.448</td>\n",
       "    </tr>\n",
       "    <tr>\n",
       "      <th>18</th>\n",
       "      <td>48</td>\n",
       "      <td>0.910</td>\n",
       "      <td>0.446</td>\n",
       "    </tr>\n",
       "    <tr>\n",
       "      <th>19</th>\n",
       "      <td>49</td>\n",
       "      <td>0.909</td>\n",
       "      <td>0.445</td>\n",
       "    </tr>\n",
       "  </tbody>\n",
       "</table>\n",
       "</div>"
      ],
      "text/plain": [
       "    n_estimators  TrainScore  TestScore\n",
       "0             30       0.902      0.439\n",
       "1             31       0.901      0.444\n",
       "2             32       0.902      0.441\n",
       "3             33       0.904      0.439\n",
       "4             34       0.905      0.437\n",
       "5             35       0.904      0.442\n",
       "6             36       0.906      0.447\n",
       "7             37       0.907      0.449\n",
       "8             38       0.907      0.448\n",
       "9             39       0.906      0.449\n",
       "10            40       0.907      0.451\n",
       "11            41       0.907      0.452\n",
       "12            42       0.906      0.449\n",
       "13            43       0.908      0.448\n",
       "14            44       0.909      0.448\n",
       "15            45       0.908      0.450\n",
       "16            46       0.908      0.446\n",
       "17            47       0.909      0.448\n",
       "18            48       0.910      0.446\n",
       "19            49       0.909      0.445"
      ]
     },
     "execution_count": 298,
     "metadata": {},
     "output_type": "execute_result"
    }
   ],
   "source": [
    "# train 및 test 설명력 결과 저장\n",
    "train_score = []; test_score = [ ]\n",
    "\n",
    "# min_samples_leaf: 잎사귀 최소 자료 수\n",
    "para_n_tree = [n_tree * 1 for n_tree in range(30, 50)]            \n",
    "\n",
    "for v_n_estimators in para_n_tree:\n",
    "    rf = RandomForestRegressor(n_estimators=v_n_estimators, random_state=1234)\n",
    "    rf.fit(df_train_x, df_train_y)\n",
    "    train_score.append(rf.score(df_train_x, df_train_y))\n",
    "    test_score.append(rf.score(df_test_x, df_test_y))\n",
    "\n",
    "# 결과 저장\n",
    "df_score_n = pd.DataFrame()\n",
    "df_score_n[\"n_estimators\"] = para_n_tree\n",
    "df_score_n[\"TrainScore\"] = train_score\n",
    "df_score_n[\"TestScore\"] = test_score\n",
    "df_score_n.round(3)"
   ]
  },
  {
   "cell_type": "code",
   "execution_count": 244,
   "id": "cfc5a60a",
   "metadata": {},
   "outputs": [
    {
     "data": {
      "text/plain": [
       "<matplotlib.legend.Legend at 0x1d76398ad00>"
      ]
     },
     "execution_count": 244,
     "metadata": {},
     "output_type": "execute_result"
    },
    {
     "data": {
      "image/png": "[encoded data removed]",
      "text/plain": [
       "<Figure size 432x288 with 1 Axes>"
      ]
     },
     "metadata": {
      "needs_background": "light"
     },
     "output_type": "display_data"
    }
   ],
   "source": [
    "# 모델 설명력 그래프 확인\n",
    "plt.plot(para_n_tree, train_score, linestyle = \"-\", label = \"Train Score\")\n",
    "plt.plot(para_n_tree, test_score, linestyle = \"--\", label = \"Test Score\")\n",
    "plt.ylabel(\"score\"); plt.xlabel(\"n_esstimators\")\n",
    "plt.legend()"
   ]
  },
  {
   "cell_type": "markdown",
   "id": "7688de72",
   "metadata": {},
   "source": [
    "n_estimation = 40"
   ]
  },
  {
   "cell_type": "markdown",
   "id": "a6727151",
   "metadata": {},
   "source": [
    "#### min_samples_leaf"
   ]
  },
  {
   "cell_type": "code",
   "execution_count": 305,
   "id": "01fedcb1",
   "metadata": {},
   "outputs": [
    {
     "data": {
      "text/html": [
       "<div>\n",
       "<style scoped>\n",
       "    .dataframe tbody tr th:only-of-type {\n",
       "        vertical-align: middle;\n",
       "    }\n",
       "\n",
       "    .dataframe tbody tr th {\n",
       "        vertical-align: top;\n",
       "    }\n",
       "\n",
       "    .dataframe thead th {\n",
       "        text-align: right;\n",
       "    }\n",
       "</style>\n",
       "<table border=\"1\" class=\"dataframe\">\n",
       "  <thead>\n",
       "    <tr style=\"text-align: right;\">\n",
       "      <th></th>\n",
       "      <th>MinSamplesLeaf</th>\n",
       "      <th>TrainScore</th>\n",
       "      <th>TestScore</th>\n",
       "    </tr>\n",
       "  </thead>\n",
       "  <tbody>\n",
       "    <tr>\n",
       "      <th>0</th>\n",
       "      <td>1</td>\n",
       "      <td>0.907</td>\n",
       "      <td>0.452</td>\n",
       "    </tr>\n",
       "    <tr>\n",
       "      <th>1</th>\n",
       "      <td>2</td>\n",
       "      <td>0.858</td>\n",
       "      <td>0.456</td>\n",
       "    </tr>\n",
       "    <tr>\n",
       "      <th>2</th>\n",
       "      <td>3</td>\n",
       "      <td>0.805</td>\n",
       "      <td>0.449</td>\n",
       "    </tr>\n",
       "    <tr>\n",
       "      <th>3</th>\n",
       "      <td>4</td>\n",
       "      <td>0.766</td>\n",
       "      <td>0.447</td>\n",
       "    </tr>\n",
       "    <tr>\n",
       "      <th>4</th>\n",
       "      <td>5</td>\n",
       "      <td>0.723</td>\n",
       "      <td>0.450</td>\n",
       "    </tr>\n",
       "    <tr>\n",
       "      <th>5</th>\n",
       "      <td>6</td>\n",
       "      <td>0.685</td>\n",
       "      <td>0.444</td>\n",
       "    </tr>\n",
       "    <tr>\n",
       "      <th>6</th>\n",
       "      <td>7</td>\n",
       "      <td>0.655</td>\n",
       "      <td>0.428</td>\n",
       "    </tr>\n",
       "    <tr>\n",
       "      <th>7</th>\n",
       "      <td>8</td>\n",
       "      <td>0.633</td>\n",
       "      <td>0.419</td>\n",
       "    </tr>\n",
       "    <tr>\n",
       "      <th>8</th>\n",
       "      <td>9</td>\n",
       "      <td>0.610</td>\n",
       "      <td>0.410</td>\n",
       "    </tr>\n",
       "    <tr>\n",
       "      <th>9</th>\n",
       "      <td>10</td>\n",
       "      <td>0.589</td>\n",
       "      <td>0.406</td>\n",
       "    </tr>\n",
       "    <tr>\n",
       "      <th>10</th>\n",
       "      <td>11</td>\n",
       "      <td>0.566</td>\n",
       "      <td>0.392</td>\n",
       "    </tr>\n",
       "    <tr>\n",
       "      <th>11</th>\n",
       "      <td>12</td>\n",
       "      <td>0.551</td>\n",
       "      <td>0.382</td>\n",
       "    </tr>\n",
       "    <tr>\n",
       "      <th>12</th>\n",
       "      <td>13</td>\n",
       "      <td>0.536</td>\n",
       "      <td>0.375</td>\n",
       "    </tr>\n",
       "    <tr>\n",
       "      <th>13</th>\n",
       "      <td>14</td>\n",
       "      <td>0.519</td>\n",
       "      <td>0.366</td>\n",
       "    </tr>\n",
       "    <tr>\n",
       "      <th>14</th>\n",
       "      <td>15</td>\n",
       "      <td>0.505</td>\n",
       "      <td>0.365</td>\n",
       "    </tr>\n",
       "    <tr>\n",
       "      <th>15</th>\n",
       "      <td>16</td>\n",
       "      <td>0.491</td>\n",
       "      <td>0.362</td>\n",
       "    </tr>\n",
       "    <tr>\n",
       "      <th>16</th>\n",
       "      <td>17</td>\n",
       "      <td>0.480</td>\n",
       "      <td>0.351</td>\n",
       "    </tr>\n",
       "    <tr>\n",
       "      <th>17</th>\n",
       "      <td>18</td>\n",
       "      <td>0.465</td>\n",
       "      <td>0.348</td>\n",
       "    </tr>\n",
       "    <tr>\n",
       "      <th>18</th>\n",
       "      <td>19</td>\n",
       "      <td>0.456</td>\n",
       "      <td>0.349</td>\n",
       "    </tr>\n",
       "    <tr>\n",
       "      <th>19</th>\n",
       "      <td>20</td>\n",
       "      <td>0.442</td>\n",
       "      <td>0.346</td>\n",
       "    </tr>\n",
       "  </tbody>\n",
       "</table>\n",
       "</div>"
      ],
      "text/plain": [
       "    MinSamplesLeaf  TrainScore  TestScore\n",
       "0                1       0.907      0.452\n",
       "1                2       0.858      0.456\n",
       "2                3       0.805      0.449\n",
       "3                4       0.766      0.447\n",
       "4                5       0.723      0.450\n",
       "5                6       0.685      0.444\n",
       "6                7       0.655      0.428\n",
       "7                8       0.633      0.419\n",
       "8                9       0.610      0.410\n",
       "9               10       0.589      0.406\n",
       "10              11       0.566      0.392\n",
       "11              12       0.551      0.382\n",
       "12              13       0.536      0.375\n",
       "13              14       0.519      0.366\n",
       "14              15       0.505      0.365\n",
       "15              16       0.491      0.362\n",
       "16              17       0.480      0.351\n",
       "17              18       0.465      0.348\n",
       "18              19       0.456      0.349\n",
       "19              20       0.442      0.346"
      ]
     },
     "execution_count": 305,
     "metadata": {},
     "output_type": "execute_result"
    }
   ],
   "source": [
    "# train 및 test 설명력 결과 저장\n",
    "train_score = []; test_score = [ ]\n",
    "\n",
    "# min_samples_leaf: 잎사귀 최소 자료 수\n",
    "para_leaf = [n_leaf * 1 for n_leaf in range(1, 21)]         \n",
    "\n",
    "for v_min_samples_leaf in para_leaf:\n",
    "    rf = RandomForestRegressor(random_state=1234, n_estimators = 41\n",
    "                                 , min_samples_leaf=v_min_samples_leaf)\n",
    "    rf.fit(df_train_x, df_train_y)\n",
    "    train_score.append(rf.score(df_train_x, df_train_y))\n",
    "    test_score.append(rf.score(df_test_x, df_test_y))\n",
    "\n",
    "# 결과 저장\n",
    "df_score_leaf = pd.DataFrame()\n",
    "df_score_leaf[\"MinSamplesLeaf\"] = para_leaf\n",
    "df_score_leaf[\"TrainScore\"] = train_score\n",
    "df_score_leaf[\"TestScore\"] = test_score\n",
    "df_score_leaf.round(3)"
   ]
  },
  {
   "cell_type": "code",
   "execution_count": 246,
   "id": "1f575480",
   "metadata": {},
   "outputs": [
    {
     "data": {
      "text/plain": [
       "<matplotlib.legend.Legend at 0x1d7649dd160>"
      ]
     },
     "execution_count": 246,
     "metadata": {},
     "output_type": "execute_result"
    },
    {
     "data": {
      "image/png": "[encoded data removed]",
      "text/plain": [
       "<Figure size 432x288 with 1 Axes>"
      ]
     },
     "metadata": {
      "needs_background": "light"
     },
     "output_type": "display_data"
    }
   ],
   "source": [
    "# 모델 설명력 그래프 확인\n",
    "plt.plot(para_leaf, train_score, linestyle = \"-\", label = \"Train Score\")\n",
    "plt.plot(para_leaf, test_score, linestyle = \"--\", label = \"Test Score\")\n",
    "plt.ylabel(\"score\"); plt.xlabel(\"min samples leaf\")\n",
    "plt.legend()"
   ]
  },
  {
   "cell_type": "markdown",
   "id": "c6a7e2ce",
   "metadata": {},
   "source": [
    "잎사귀 노드 최소 자료 수 증가에 따라 모델의 정확도는 감소, 데이터 성능 변화를 고려하여 5 선택"
   ]
  },
  {
   "cell_type": "markdown",
   "id": "d22e93c8",
   "metadata": {},
   "source": [
    "#### min_samples_split"
   ]
  },
  {
   "cell_type": "code",
   "execution_count": 312,
   "id": "8716f925",
   "metadata": {},
   "outputs": [
    {
     "data": {
      "text/html": [
       "<div>\n",
       "<style scoped>\n",
       "    .dataframe tbody tr th:only-of-type {\n",
       "        vertical-align: middle;\n",
       "    }\n",
       "\n",
       "    .dataframe tbody tr th {\n",
       "        vertical-align: top;\n",
       "    }\n",
       "\n",
       "    .dataframe thead th {\n",
       "        text-align: right;\n",
       "    }\n",
       "</style>\n",
       "<table border=\"1\" class=\"dataframe\">\n",
       "  <thead>\n",
       "    <tr style=\"text-align: right;\">\n",
       "      <th></th>\n",
       "      <th>MinSamplesLeaf</th>\n",
       "      <th>TrainScore</th>\n",
       "      <th>TestScore</th>\n",
       "    </tr>\n",
       "  </thead>\n",
       "  <tbody>\n",
       "    <tr>\n",
       "      <th>0</th>\n",
       "      <td>4</td>\n",
       "      <td>0.723</td>\n",
       "      <td>0.450</td>\n",
       "    </tr>\n",
       "    <tr>\n",
       "      <th>1</th>\n",
       "      <td>6</td>\n",
       "      <td>0.723</td>\n",
       "      <td>0.450</td>\n",
       "    </tr>\n",
       "    <tr>\n",
       "      <th>2</th>\n",
       "      <td>8</td>\n",
       "      <td>0.723</td>\n",
       "      <td>0.450</td>\n",
       "    </tr>\n",
       "    <tr>\n",
       "      <th>3</th>\n",
       "      <td>10</td>\n",
       "      <td>0.723</td>\n",
       "      <td>0.450</td>\n",
       "    </tr>\n",
       "    <tr>\n",
       "      <th>4</th>\n",
       "      <td>12</td>\n",
       "      <td>0.706</td>\n",
       "      <td>0.445</td>\n",
       "    </tr>\n",
       "    <tr>\n",
       "      <th>5</th>\n",
       "      <td>14</td>\n",
       "      <td>0.684</td>\n",
       "      <td>0.436</td>\n",
       "    </tr>\n",
       "    <tr>\n",
       "      <th>6</th>\n",
       "      <td>16</td>\n",
       "      <td>0.670</td>\n",
       "      <td>0.434</td>\n",
       "    </tr>\n",
       "    <tr>\n",
       "      <th>7</th>\n",
       "      <td>18</td>\n",
       "      <td>0.660</td>\n",
       "      <td>0.432</td>\n",
       "    </tr>\n",
       "    <tr>\n",
       "      <th>8</th>\n",
       "      <td>20</td>\n",
       "      <td>0.643</td>\n",
       "      <td>0.429</td>\n",
       "    </tr>\n",
       "    <tr>\n",
       "      <th>9</th>\n",
       "      <td>22</td>\n",
       "      <td>0.627</td>\n",
       "      <td>0.422</td>\n",
       "    </tr>\n",
       "    <tr>\n",
       "      <th>10</th>\n",
       "      <td>24</td>\n",
       "      <td>0.611</td>\n",
       "      <td>0.418</td>\n",
       "    </tr>\n",
       "    <tr>\n",
       "      <th>11</th>\n",
       "      <td>26</td>\n",
       "      <td>0.600</td>\n",
       "      <td>0.418</td>\n",
       "    </tr>\n",
       "    <tr>\n",
       "      <th>12</th>\n",
       "      <td>28</td>\n",
       "      <td>0.581</td>\n",
       "      <td>0.418</td>\n",
       "    </tr>\n",
       "    <tr>\n",
       "      <th>13</th>\n",
       "      <td>30</td>\n",
       "      <td>0.565</td>\n",
       "      <td>0.405</td>\n",
       "    </tr>\n",
       "    <tr>\n",
       "      <th>14</th>\n",
       "      <td>32</td>\n",
       "      <td>0.549</td>\n",
       "      <td>0.385</td>\n",
       "    </tr>\n",
       "    <tr>\n",
       "      <th>15</th>\n",
       "      <td>34</td>\n",
       "      <td>0.536</td>\n",
       "      <td>0.380</td>\n",
       "    </tr>\n",
       "    <tr>\n",
       "      <th>16</th>\n",
       "      <td>36</td>\n",
       "      <td>0.522</td>\n",
       "      <td>0.366</td>\n",
       "    </tr>\n",
       "    <tr>\n",
       "      <th>17</th>\n",
       "      <td>38</td>\n",
       "      <td>0.502</td>\n",
       "      <td>0.361</td>\n",
       "    </tr>\n",
       "    <tr>\n",
       "      <th>18</th>\n",
       "      <td>40</td>\n",
       "      <td>0.486</td>\n",
       "      <td>0.367</td>\n",
       "    </tr>\n",
       "  </tbody>\n",
       "</table>\n",
       "</div>"
      ],
      "text/plain": [
       "    MinSamplesLeaf  TrainScore  TestScore\n",
       "0                4       0.723      0.450\n",
       "1                6       0.723      0.450\n",
       "2                8       0.723      0.450\n",
       "3               10       0.723      0.450\n",
       "4               12       0.706      0.445\n",
       "5               14       0.684      0.436\n",
       "6               16       0.670      0.434\n",
       "7               18       0.660      0.432\n",
       "8               20       0.643      0.429\n",
       "9               22       0.627      0.422\n",
       "10              24       0.611      0.418\n",
       "11              26       0.600      0.418\n",
       "12              28       0.581      0.418\n",
       "13              30       0.565      0.405\n",
       "14              32       0.549      0.385\n",
       "15              34       0.536      0.380\n",
       "16              36       0.522      0.366\n",
       "17              38       0.502      0.361\n",
       "18              40       0.486      0.367"
      ]
     },
     "execution_count": 312,
     "metadata": {},
     "output_type": "execute_result"
    }
   ],
   "source": [
    "# train 및 test 설명력 결과 저장\n",
    "train_score = []; test_score = [ ]\n",
    "\n",
    "# min_samples_leaf: 잎사귀 최소 자료 수\n",
    "para_split = [n_split * 2 for n_split in range(2, 21)]           \n",
    "\n",
    "for v_min_samples_split in para_split:\n",
    "    rf = RandomForestRegressor(random_state=1234, n_estimators = 41\n",
    "                                 , min_samples_leaf=5, min_samples_split=v_min_samples_split)\n",
    "    rf.fit(df_train_x, df_train_y)\n",
    "    train_score.append(rf.score(df_train_x, df_train_y))\n",
    "    test_score.append(rf.score(df_test_x, df_test_y))\n",
    "\n",
    "# 결과 저장\n",
    "df_score_split = pd.DataFrame()\n",
    "df_score_split[\"MinSamplesLeaf\"] = para_split\n",
    "df_score_split[\"TrainScore\"] = train_score\n",
    "df_score_split[\"TestScore\"] = test_score\n",
    "df_score_split.round(3)"
   ]
  },
  {
   "cell_type": "code",
   "execution_count": 313,
   "id": "37dd6633",
   "metadata": {},
   "outputs": [
    {
     "data": {
      "text/plain": [
       "<matplotlib.legend.Legend at 0x1d7652139a0>"
      ]
     },
     "execution_count": 313,
     "metadata": {},
     "output_type": "execute_result"
    },
    {
     "data": {
      "image/png": "[encoded data removed]",
      "text/plain": [
       "<Figure size 432x288 with 1 Axes>"
      ]
     },
     "metadata": {
      "needs_background": "light"
     },
     "output_type": "display_data"
    }
   ],
   "source": [
    "# 모델 설명력 그래프 확인\n",
    "plt.plot(para_split, train_score, linestyle = \"-\", label = \"Train Score\")\n",
    "plt.plot(para_split, test_score, linestyle = \"--\", label = \"Test Score\")\n",
    "plt.ylabel(\"score\"); plt.xlabel(\"min samples split\")\n",
    "plt.legend()"
   ]
  },
  {
   "cell_type": "markdown",
   "id": "d8469533",
   "metadata": {},
   "source": [
    "분리 노드의 최소 자료 수 증가에 따라 모델의 정확도는 감소, 데이터의 성능 변화를 고려하여 10 선택"
   ]
  },
  {
   "cell_type": "markdown",
   "id": "c75ff019",
   "metadata": {},
   "source": [
    "#### max_depth"
   ]
  },
  {
   "cell_type": "code",
   "execution_count": 321,
   "id": "9cc48e0d",
   "metadata": {},
   "outputs": [
    {
     "data": {
      "text/html": [
       "<div>\n",
       "<style scoped>\n",
       "    .dataframe tbody tr th:only-of-type {\n",
       "        vertical-align: middle;\n",
       "    }\n",
       "\n",
       "    .dataframe tbody tr th {\n",
       "        vertical-align: top;\n",
       "    }\n",
       "\n",
       "    .dataframe thead th {\n",
       "        text-align: right;\n",
       "    }\n",
       "</style>\n",
       "<table border=\"1\" class=\"dataframe\">\n",
       "  <thead>\n",
       "    <tr style=\"text-align: right;\">\n",
       "      <th></th>\n",
       "      <th>Depth</th>\n",
       "      <th>TrainScore</th>\n",
       "      <th>TestScore</th>\n",
       "    </tr>\n",
       "  </thead>\n",
       "  <tbody>\n",
       "    <tr>\n",
       "      <th>0</th>\n",
       "      <td>1</td>\n",
       "      <td>0.221</td>\n",
       "      <td>0.310</td>\n",
       "    </tr>\n",
       "    <tr>\n",
       "      <th>1</th>\n",
       "      <td>2</td>\n",
       "      <td>0.390</td>\n",
       "      <td>0.322</td>\n",
       "    </tr>\n",
       "    <tr>\n",
       "      <th>2</th>\n",
       "      <td>3</td>\n",
       "      <td>0.506</td>\n",
       "      <td>0.389</td>\n",
       "    </tr>\n",
       "    <tr>\n",
       "      <th>3</th>\n",
       "      <td>4</td>\n",
       "      <td>0.604</td>\n",
       "      <td>0.432</td>\n",
       "    </tr>\n",
       "    <tr>\n",
       "      <th>4</th>\n",
       "      <td>5</td>\n",
       "      <td>0.666</td>\n",
       "      <td>0.445</td>\n",
       "    </tr>\n",
       "    <tr>\n",
       "      <th>5</th>\n",
       "      <td>6</td>\n",
       "      <td>0.698</td>\n",
       "      <td>0.453</td>\n",
       "    </tr>\n",
       "    <tr>\n",
       "      <th>6</th>\n",
       "      <td>7</td>\n",
       "      <td>0.713</td>\n",
       "      <td>0.453</td>\n",
       "    </tr>\n",
       "    <tr>\n",
       "      <th>7</th>\n",
       "      <td>8</td>\n",
       "      <td>0.721</td>\n",
       "      <td>0.449</td>\n",
       "    </tr>\n",
       "    <tr>\n",
       "      <th>8</th>\n",
       "      <td>9</td>\n",
       "      <td>0.722</td>\n",
       "      <td>0.449</td>\n",
       "    </tr>\n",
       "    <tr>\n",
       "      <th>9</th>\n",
       "      <td>10</td>\n",
       "      <td>0.723</td>\n",
       "      <td>0.450</td>\n",
       "    </tr>\n",
       "  </tbody>\n",
       "</table>\n",
       "</div>"
      ],
      "text/plain": [
       "   Depth  TrainScore  TestScore\n",
       "0      1       0.221      0.310\n",
       "1      2       0.390      0.322\n",
       "2      3       0.506      0.389\n",
       "3      4       0.604      0.432\n",
       "4      5       0.666      0.445\n",
       "5      6       0.698      0.453\n",
       "6      7       0.713      0.453\n",
       "7      8       0.721      0.449\n",
       "8      9       0.722      0.449\n",
       "9     10       0.723      0.450"
      ]
     },
     "execution_count": 321,
     "metadata": {},
     "output_type": "execute_result"
    }
   ],
   "source": [
    "# train 및 test 설명력 결과 저장\n",
    "train_score = []; test_score = [ ]\n",
    "\n",
    "# min_samples_leaf: 잎사귀 최소 자료 수\n",
    "para_depth = [depth for depth in range(1, 11)]            \n",
    "\n",
    "for v_max_depth in para_depth:\n",
    "    rf = RandomForestRegressor(random_state=1234, n_estimators = 41, \n",
    "                               min_samples_leaf=5, min_samples_split=10, max_depth = v_max_depth)\n",
    "    rf.fit(df_train_x, df_train_y)\n",
    "    train_score.append(rf.score(df_train_x, df_train_y))\n",
    "    test_score.append(rf.score(df_test_x, df_test_y))\n",
    "\n",
    "# 결과 저장\n",
    "df_score_depth = pd.DataFrame()\n",
    "df_score_depth[\"Depth\"] = para_depth\n",
    "df_score_depth[\"TrainScore\"] = train_score\n",
    "df_score_depth[\"TestScore\"] = test_score\n",
    "df_score_depth.round(3)"
   ]
  },
  {
   "cell_type": "code",
   "execution_count": 322,
   "id": "06f6f5cb",
   "metadata": {
    "scrolled": false
   },
   "outputs": [
    {
     "data": {
      "text/plain": [
       "<matplotlib.legend.Legend at 0x1d7652a7d30>"
      ]
     },
     "execution_count": 322,
     "metadata": {},
     "output_type": "execute_result"
    },
    {
     "data": {
      "image/png": "[encoded data removed]",
      "text/plain": [
       "<Figure size 432x288 with 1 Axes>"
      ]
     },
     "metadata": {
      "needs_background": "light"
     },
     "output_type": "display_data"
    }
   ],
   "source": [
    "# 모델 설명력 그래프 확인\n",
    "plt.plot(para_depth, train_score, linestyle = \"-\", label = \"Train Score\")\n",
    "plt.plot(para_depth, test_score, linestyle = \"--\", label = \"Test Score\")\n",
    "plt.ylabel(\"score\"); plt.xlabel(\"max depth\")\n",
    "plt.legend()"
   ]
  },
  {
   "cell_type": "markdown",
   "id": "aa9ba83d",
   "metadata": {},
   "source": [
    "최대 깊이 증가에 따라 모델의 정확도는 증가하며, 데이터의 성능 변화를 고려하여 6 선택"
   ]
  },
  {
   "cell_type": "markdown",
   "id": "e9dc3c3d",
   "metadata": {},
   "source": [
    "#### 최종 모델 선정"
   ]
  },
  {
   "cell_type": "code",
   "execution_count": 325,
   "id": "13a610ee",
   "metadata": {
    "scrolled": true
   },
   "outputs": [
    {
     "name": "stdout",
     "output_type": "stream",
     "text": [
      "Score on training set: 0.698\n",
      "Score on test set: 0.453\n"
     ]
    }
   ],
   "source": [
    "rf_final = RandomForestRegressor(n_estimators = 41, min_samples_leaf = 5, min_samples_split = 10, max_depth = 6, random_state=1234)\n",
    "rf_final.fit(df_train_x, df_train_y);\n",
    "# train 데이터 설명력\n",
    "print(\"Score on training set: {:.3f}\".format(rf_final.score(df_train_x, df_train_y)))\n",
    "# test 데이터 설명력\n",
    "print(\"Score on test set: {:.3f}\".format(rf_final.score(df_test_x, df_test_y)))"
   ]
  },
  {
   "cell_type": "markdown",
   "id": "8f71553e",
   "metadata": {},
   "source": [
    "Train Acc: 68.1% Test Acc: 44.5%. 디폴트 모델의 과대적합을 조금은 개선했다"
   ]
  },
  {
   "cell_type": "code",
   "execution_count": 351,
   "id": "5b1c6ef4",
   "metadata": {},
   "outputs": [
    {
     "data": {
      "image/svg+xml": [
       "<?xml version=\"1.0\" encoding=\"UTF-8\" standalone=\"no\"?>\n",
       "<!DOCTYPE svg PUBLIC \"-//W3C//DTD SVG 1.1//EN\"\n",
       " \"http://www.w3.org/Graphics/SVG/1.1/DTD/svg11.dtd\">\n",
       "<!-- Generated by graphviz version 3.0.0 (20220226.1711)\n",
       " -->\n",
       "<!-- Title: Tree Pages: 1 -->\n",
       "<svg width=\"1821pt\" height=\"685pt\"\n",
       " viewBox=\"0.00 0.00 1821.00 685.00\" xmlns=\"http://www.w3.org/2000/svg\" xmlns:xlink=\"http://www.w3.org/1999/xlink\">\n",
       "<g id=\"graph0\" class=\"graph\" transform=\"scale(1 1) rotate(0) translate(4 681)\">\n",
       "<title>Tree</title>\n",
       "<polygon fill=\"white\" stroke=\"transparent\" points=\"-4,4 -4,-681 1817,-681 1817,4 -4,4\"/>\n",
       "<!-- 0 -->\n",
       "<g id=\"node1\" class=\"node\">\n",
       "<title>0</title>\n",
       "<polygon fill=\"#f3c3a1\" stroke=\"black\" points=\"1001.5,-677 825.5,-677 825.5,-609 1001.5,-609 1001.5,-677\"/>\n",
       "<text text-anchor=\"middle\" x=\"913.5\" y=\"-661.8\" font-family=\"Helvetica,sans-Serif\" font-size=\"14.00\">CO &lt;= 0.559</text>\n",
       "<text text-anchor=\"middle\" x=\"913.5\" y=\"-646.8\" font-family=\"Helvetica,sans-Serif\" font-size=\"14.00\">squared_error = 203.757</text>\n",
       "<text text-anchor=\"middle\" x=\"913.5\" y=\"-631.8\" font-family=\"Helvetica,sans-Serif\" font-size=\"14.00\">samples = 145</text>\n",
       "<text text-anchor=\"middle\" x=\"913.5\" y=\"-616.8\" font-family=\"Helvetica,sans-Serif\" font-size=\"14.00\">value = 32.635</text>\n",
       "</g>\n",
       "<!-- 1 -->\n",
       "<g id=\"node2\" class=\"node\">\n",
       "<title>1</title>\n",
       "<polygon fill=\"#f5d1b7\" stroke=\"black\" points=\"819.5,-573 643.5,-573 643.5,-505 819.5,-505 819.5,-573\"/>\n",
       "<text text-anchor=\"middle\" x=\"731.5\" y=\"-557.8\" font-family=\"Helvetica,sans-Serif\" font-size=\"14.00\">CLOUD &lt;= 8.19</text>\n",
       "<text text-anchor=\"middle\" x=\"731.5\" y=\"-542.8\" font-family=\"Helvetica,sans-Serif\" font-size=\"14.00\">squared_error = 135.314</text>\n",
       "<text text-anchor=\"middle\" x=\"731.5\" y=\"-527.8\" font-family=\"Helvetica,sans-Serif\" font-size=\"14.00\">samples = 101</text>\n",
       "<text text-anchor=\"middle\" x=\"731.5\" y=\"-512.8\" font-family=\"Helvetica,sans-Serif\" font-size=\"14.00\">value = 27.627</text>\n",
       "</g>\n",
       "<!-- 0&#45;&gt;1 -->\n",
       "<g id=\"edge1\" class=\"edge\">\n",
       "<title>0&#45;&gt;1</title>\n",
       "<path fill=\"none\" stroke=\"black\" d=\"M854.41,-608.88C836.84,-599.04 817.45,-588.17 799.36,-578.03\"/>\n",
       "<polygon fill=\"black\" stroke=\"black\" points=\"801.04,-574.96 790.6,-573.12 797.62,-581.07 801.04,-574.96\"/>\n",
       "<text text-anchor=\"middle\" x=\"797.38\" y=\"-593.49\" font-family=\"Helvetica,sans-Serif\" font-size=\"14.00\">True</text>\n",
       "</g>\n",
       "<!-- 16 -->\n",
       "<g id=\"node17\" class=\"node\">\n",
       "<title>16</title>\n",
       "<polygon fill=\"#eca572\" stroke=\"black\" points=\"1099.5,-573 923.5,-573 923.5,-505 1099.5,-505 1099.5,-573\"/>\n",
       "<text text-anchor=\"middle\" x=\"1011.5\" y=\"-557.8\" font-family=\"Helvetica,sans-Serif\" font-size=\"14.00\">O3 &lt;= 0.02</text>\n",
       "<text text-anchor=\"middle\" x=\"1011.5\" y=\"-542.8\" font-family=\"Helvetica,sans-Serif\" font-size=\"14.00\">squared_error = 179.496</text>\n",
       "<text text-anchor=\"middle\" x=\"1011.5\" y=\"-527.8\" font-family=\"Helvetica,sans-Serif\" font-size=\"14.00\">samples = 44</text>\n",
       "<text text-anchor=\"middle\" x=\"1011.5\" y=\"-512.8\" font-family=\"Helvetica,sans-Serif\" font-size=\"14.00\">value = 43.522</text>\n",
       "</g>\n",
       "<!-- 0&#45;&gt;16 -->\n",
       "<g id=\"edge16\" class=\"edge\">\n",
       "<title>0&#45;&gt;16</title>\n",
       "<path fill=\"none\" stroke=\"black\" d=\"M945.32,-608.88C953.96,-599.89 963.42,-590.04 972.42,-580.68\"/>\n",
       "<polygon fill=\"black\" stroke=\"black\" points=\"975.1,-582.94 979.51,-573.3 970.05,-578.09 975.1,-582.94\"/>\n",
       "<text text-anchor=\"middle\" x=\"980.01\" y=\"-594.59\" font-family=\"Helvetica,sans-Serif\" font-size=\"14.00\">False</text>\n",
       "</g>\n",
       "<!-- 2 -->\n",
       "<g id=\"node3\" class=\"node\">\n",
       "<title>2</title>\n",
       "<polygon fill=\"#f4cbad\" stroke=\"black\" points=\"544.5,-469 368.5,-469 368.5,-401 544.5,-401 544.5,-469\"/>\n",
       "<text text-anchor=\"middle\" x=\"456.5\" y=\"-453.8\" font-family=\"Helvetica,sans-Serif\" font-size=\"14.00\">NO2 &lt;= 0.03</text>\n",
       "<text text-anchor=\"middle\" x=\"456.5\" y=\"-438.8\" font-family=\"Helvetica,sans-Serif\" font-size=\"14.00\">squared_error = 121.878</text>\n",
       "<text text-anchor=\"middle\" x=\"456.5\" y=\"-423.8\" font-family=\"Helvetica,sans-Serif\" font-size=\"14.00\">samples = 86</text>\n",
       "<text text-anchor=\"middle\" x=\"456.5\" y=\"-408.8\" font-family=\"Helvetica,sans-Serif\" font-size=\"14.00\">value = 29.864</text>\n",
       "</g>\n",
       "<!-- 1&#45;&gt;2 -->\n",
       "<g id=\"edge2\" class=\"edge\">\n",
       "<title>1&#45;&gt;2</title>\n",
       "<path fill=\"none\" stroke=\"black\" d=\"M643.35,-505.31C614.98,-494.78 583.38,-483.06 554.36,-472.3\"/>\n",
       "<polygon fill=\"black\" stroke=\"black\" points=\"555.21,-468.88 544.62,-468.68 552.78,-475.44 555.21,-468.88\"/>\n",
       "</g>\n",
       "<!-- 13 -->\n",
       "<g id=\"node14\" class=\"node\">\n",
       "<title>13</title>\n",
       "<polygon fill=\"#fcf0e7\" stroke=\"black\" points=\"815,-469 648,-469 648,-401 815,-401 815,-469\"/>\n",
       "<text text-anchor=\"middle\" x=\"731.5\" y=\"-453.8\" font-family=\"Helvetica,sans-Serif\" font-size=\"14.00\">NO2 &lt;= 0.022</text>\n",
       "<text text-anchor=\"middle\" x=\"731.5\" y=\"-438.8\" font-family=\"Helvetica,sans-Serif\" font-size=\"14.00\">squared_error = 52.326</text>\n",
       "<text text-anchor=\"middle\" x=\"731.5\" y=\"-423.8\" font-family=\"Helvetica,sans-Serif\" font-size=\"14.00\">samples = 15</text>\n",
       "<text text-anchor=\"middle\" x=\"731.5\" y=\"-408.8\" font-family=\"Helvetica,sans-Serif\" font-size=\"14.00\">value = 16.44</text>\n",
       "</g>\n",
       "<!-- 1&#45;&gt;13 -->\n",
       "<g id=\"edge13\" class=\"edge\">\n",
       "<title>1&#45;&gt;13</title>\n",
       "<path fill=\"none\" stroke=\"black\" d=\"M731.5,-504.88C731.5,-496.78 731.5,-487.98 731.5,-479.47\"/>\n",
       "<polygon fill=\"black\" stroke=\"black\" points=\"735,-479.3 731.5,-469.3 728,-479.3 735,-479.3\"/>\n",
       "</g>\n",
       "<!-- 3 -->\n",
       "<g id=\"node4\" class=\"node\">\n",
       "<title>3</title>\n",
       "<polygon fill=\"#f5cfb3\" stroke=\"black\" points=\"354.5,-365 178.5,-365 178.5,-297 354.5,-297 354.5,-365\"/>\n",
       "<text text-anchor=\"middle\" x=\"266.5\" y=\"-349.8\" font-family=\"Helvetica,sans-Serif\" font-size=\"14.00\">CO &lt;= 0.35</text>\n",
       "<text text-anchor=\"middle\" x=\"266.5\" y=\"-334.8\" font-family=\"Helvetica,sans-Serif\" font-size=\"14.00\">squared_error = 108.778</text>\n",
       "<text text-anchor=\"middle\" x=\"266.5\" y=\"-319.8\" font-family=\"Helvetica,sans-Serif\" font-size=\"14.00\">samples = 76</text>\n",
       "<text text-anchor=\"middle\" x=\"266.5\" y=\"-304.8\" font-family=\"Helvetica,sans-Serif\" font-size=\"14.00\">value = 28.339</text>\n",
       "</g>\n",
       "<!-- 2&#45;&gt;3 -->\n",
       "<g id=\"edge3\" class=\"edge\">\n",
       "<title>2&#45;&gt;3</title>\n",
       "<path fill=\"none\" stroke=\"black\" d=\"M394.81,-400.88C376.38,-390.99 356.04,-380.07 337.09,-369.9\"/>\n",
       "<polygon fill=\"black\" stroke=\"black\" points=\"338.67,-366.77 328.2,-365.12 335.36,-372.94 338.67,-366.77\"/>\n",
       "</g>\n",
       "<!-- 10 -->\n",
       "<g id=\"node11\" class=\"node\">\n",
       "<title>10</title>\n",
       "<polygon fill=\"#eda674\" stroke=\"black\" points=\"540,-365 373,-365 373,-297 540,-297 540,-365\"/>\n",
       "<text text-anchor=\"middle\" x=\"456.5\" y=\"-349.8\" font-family=\"Helvetica,sans-Serif\" font-size=\"14.00\">WIND &lt;= 1.935</text>\n",
       "<text text-anchor=\"middle\" x=\"456.5\" y=\"-334.8\" font-family=\"Helvetica,sans-Serif\" font-size=\"14.00\">squared_error = 42.154</text>\n",
       "<text text-anchor=\"middle\" x=\"456.5\" y=\"-319.8\" font-family=\"Helvetica,sans-Serif\" font-size=\"14.00\">samples = 10</text>\n",
       "<text text-anchor=\"middle\" x=\"456.5\" y=\"-304.8\" font-family=\"Helvetica,sans-Serif\" font-size=\"14.00\">value = 43.0</text>\n",
       "</g>\n",
       "<!-- 2&#45;&gt;10 -->\n",
       "<g id=\"edge10\" class=\"edge\">\n",
       "<title>2&#45;&gt;10</title>\n",
       "<path fill=\"none\" stroke=\"black\" d=\"M456.5,-400.88C456.5,-392.78 456.5,-383.98 456.5,-375.47\"/>\n",
       "<polygon fill=\"black\" stroke=\"black\" points=\"460,-375.3 456.5,-365.3 453,-375.3 460,-375.3\"/>\n",
       "</g>\n",
       "<!-- 4 -->\n",
       "<g id=\"node5\" class=\"node\">\n",
       "<title>4</title>\n",
       "<polygon fill=\"#fbece1\" stroke=\"black\" points=\"167,-253.5 0,-253.5 0,-200.5 167,-200.5 167,-253.5\"/>\n",
       "<text text-anchor=\"middle\" x=\"83.5\" y=\"-238.3\" font-family=\"Helvetica,sans-Serif\" font-size=\"14.00\">squared_error = 77.837</text>\n",
       "<text text-anchor=\"middle\" x=\"83.5\" y=\"-223.3\" font-family=\"Helvetica,sans-Serif\" font-size=\"14.00\">samples = 9</text>\n",
       "<text text-anchor=\"middle\" x=\"83.5\" y=\"-208.3\" font-family=\"Helvetica,sans-Serif\" font-size=\"14.00\">value = 17.857</text>\n",
       "</g>\n",
       "<!-- 3&#45;&gt;4 -->\n",
       "<g id=\"edge4\" class=\"edge\">\n",
       "<title>3&#45;&gt;4</title>\n",
       "<path fill=\"none\" stroke=\"black\" d=\"M207.09,-296.88C184.89,-284.51 159.8,-270.53 138.06,-258.41\"/>\n",
       "<polygon fill=\"black\" stroke=\"black\" points=\"139.72,-255.33 129.29,-253.52 136.32,-261.45 139.72,-255.33\"/>\n",
       "</g>\n",
       "<!-- 5 -->\n",
       "<g id=\"node6\" class=\"node\">\n",
       "<title>5</title>\n",
       "<polygon fill=\"#f4cbad\" stroke=\"black\" points=\"352,-261 185,-261 185,-193 352,-193 352,-261\"/>\n",
       "<text text-anchor=\"middle\" x=\"268.5\" y=\"-245.8\" font-family=\"Helvetica,sans-Serif\" font-size=\"14.00\">WIND &lt;= 3.425</text>\n",
       "<text text-anchor=\"middle\" x=\"268.5\" y=\"-230.8\" font-family=\"Helvetica,sans-Serif\" font-size=\"14.00\">squared_error = 95.259</text>\n",
       "<text text-anchor=\"middle\" x=\"268.5\" y=\"-215.8\" font-family=\"Helvetica,sans-Serif\" font-size=\"14.00\">samples = 67</text>\n",
       "<text text-anchor=\"middle\" x=\"268.5\" y=\"-200.8\" font-family=\"Helvetica,sans-Serif\" font-size=\"14.00\">value = 29.837</text>\n",
       "</g>\n",
       "<!-- 3&#45;&gt;5 -->\n",
       "<g id=\"edge5\" class=\"edge\">\n",
       "<title>3&#45;&gt;5</title>\n",
       "<path fill=\"none\" stroke=\"black\" d=\"M267.15,-296.88C267.31,-288.78 267.48,-279.98 267.65,-271.47\"/>\n",
       "<polygon fill=\"black\" stroke=\"black\" points=\"271.15,-271.37 267.85,-261.3 264.15,-271.23 271.15,-271.37\"/>\n",
       "</g>\n",
       "<!-- 6 -->\n",
       "<g id=\"node7\" class=\"node\">\n",
       "<title>6</title>\n",
       "<polygon fill=\"#f5cdb1\" stroke=\"black\" points=\"255,-157 96,-157 96,-89 255,-89 255,-157\"/>\n",
       "<text text-anchor=\"middle\" x=\"175.5\" y=\"-141.8\" font-family=\"Helvetica,sans-Serif\" font-size=\"14.00\">CLOUD &lt;= 6.585</text>\n",
       "<text text-anchor=\"middle\" x=\"175.5\" y=\"-126.8\" font-family=\"Helvetica,sans-Serif\" font-size=\"14.00\">squared_error = 80.95</text>\n",
       "<text text-anchor=\"middle\" x=\"175.5\" y=\"-111.8\" font-family=\"Helvetica,sans-Serif\" font-size=\"14.00\">samples = 62</text>\n",
       "<text text-anchor=\"middle\" x=\"175.5\" y=\"-96.8\" font-family=\"Helvetica,sans-Serif\" font-size=\"14.00\">value = 28.923</text>\n",
       "</g>\n",
       "<!-- 5&#45;&gt;6 -->\n",
       "<g id=\"edge6\" class=\"edge\">\n",
       "<title>5&#45;&gt;6</title>\n",
       "<path fill=\"none\" stroke=\"black\" d=\"M238.31,-192.88C230.18,-183.98 221.3,-174.24 212.84,-164.96\"/>\n",
       "<polygon fill=\"black\" stroke=\"black\" points=\"215.19,-162.33 205.86,-157.3 210.01,-167.05 215.19,-162.33\"/>\n",
       "</g>\n",
       "<!-- 9 -->\n",
       "<g id=\"node10\" class=\"node\">\n",
       "<title>9</title>\n",
       "<polygon fill=\"#edaa79\" stroke=\"black\" points=\"449.5,-149.5 273.5,-149.5 273.5,-96.5 449.5,-96.5 449.5,-149.5\"/>\n",
       "<text text-anchor=\"middle\" x=\"361.5\" y=\"-134.3\" font-family=\"Helvetica,sans-Serif\" font-size=\"14.00\">squared_error = 129.347</text>\n",
       "<text text-anchor=\"middle\" x=\"361.5\" y=\"-119.3\" font-family=\"Helvetica,sans-Serif\" font-size=\"14.00\">samples = 5</text>\n",
       "<text text-anchor=\"middle\" x=\"361.5\" y=\"-104.3\" font-family=\"Helvetica,sans-Serif\" font-size=\"14.00\">value = 41.714</text>\n",
       "</g>\n",
       "<!-- 5&#45;&gt;9 -->\n",
       "<g id=\"edge9\" class=\"edge\">\n",
       "<title>5&#45;&gt;9</title>\n",
       "<path fill=\"none\" stroke=\"black\" d=\"M298.69,-192.88C309.12,-181.45 320.8,-168.63 331.24,-157.19\"/>\n",
       "<polygon fill=\"black\" stroke=\"black\" points=\"334.08,-159.27 338.23,-149.52 328.91,-154.55 334.08,-159.27\"/>\n",
       "</g>\n",
       "<!-- 7 -->\n",
       "<g id=\"node8\" class=\"node\">\n",
       "<title>7</title>\n",
       "<polygon fill=\"#f6d2b8\" stroke=\"black\" points=\"171,-53 4,-53 4,0 171,0 171,-53\"/>\n",
       "<text text-anchor=\"middle\" x=\"87.5\" y=\"-37.8\" font-family=\"Helvetica,sans-Serif\" font-size=\"14.00\">squared_error = 62.674</text>\n",
       "<text text-anchor=\"middle\" x=\"87.5\" y=\"-22.8\" font-family=\"Helvetica,sans-Serif\" font-size=\"14.00\">samples = 47</text>\n",
       "<text text-anchor=\"middle\" x=\"87.5\" y=\"-7.8\" font-family=\"Helvetica,sans-Serif\" font-size=\"14.00\">value = 27.211</text>\n",
       "</g>\n",
       "<!-- 6&#45;&gt;7 -->\n",
       "<g id=\"edge7\" class=\"edge\">\n",
       "<title>6&#45;&gt;7</title>\n",
       "<path fill=\"none\" stroke=\"black\" d=\"M144.72,-88.95C136.2,-79.8 126.96,-69.87 118.43,-60.71\"/>\n",
       "<polygon fill=\"black\" stroke=\"black\" points=\"120.84,-58.17 111.47,-53.24 115.72,-62.94 120.84,-58.17\"/>\n",
       "</g>\n",
       "<!-- 8 -->\n",
       "<g id=\"node9\" class=\"node\">\n",
       "<title>8</title>\n",
       "<polygon fill=\"#f1bd97\" stroke=\"black\" points=\"340,-53 189,-53 189,0 340,0 340,-53\"/>\n",
       "<text text-anchor=\"middle\" x=\"264.5\" y=\"-37.8\" font-family=\"Helvetica,sans-Serif\" font-size=\"14.00\">squared_error = 98.5</text>\n",
       "<text text-anchor=\"middle\" x=\"264.5\" y=\"-22.8\" font-family=\"Helvetica,sans-Serif\" font-size=\"14.00\">samples = 15</text>\n",
       "<text text-anchor=\"middle\" x=\"264.5\" y=\"-7.8\" font-family=\"Helvetica,sans-Serif\" font-size=\"14.00\">value = 35.0</text>\n",
       "</g>\n",
       "<!-- 6&#45;&gt;8 -->\n",
       "<g id=\"edge8\" class=\"edge\">\n",
       "<title>6&#45;&gt;8</title>\n",
       "<path fill=\"none\" stroke=\"black\" d=\"M206.63,-88.95C215.24,-79.8 224.6,-69.87 233.22,-60.71\"/>\n",
       "<polygon fill=\"black\" stroke=\"black\" points=\"235.95,-62.92 240.26,-53.24 230.86,-58.12 235.95,-62.92\"/>\n",
       "</g>\n",
       "<!-- 11 -->\n",
       "<g id=\"node12\" class=\"node\">\n",
       "<title>11</title>\n",
       "<polygon fill=\"#efb083\" stroke=\"black\" points=\"539,-253.5 372,-253.5 372,-200.5 539,-200.5 539,-253.5\"/>\n",
       "<text text-anchor=\"middle\" x=\"455.5\" y=\"-238.3\" font-family=\"Helvetica,sans-Serif\" font-size=\"14.00\">squared_error = 51.673</text>\n",
       "<text text-anchor=\"middle\" x=\"455.5\" y=\"-223.3\" font-family=\"Helvetica,sans-Serif\" font-size=\"14.00\">samples = 5</text>\n",
       "<text text-anchor=\"middle\" x=\"455.5\" y=\"-208.3\" font-family=\"Helvetica,sans-Serif\" font-size=\"14.00\">value = 39.571</text>\n",
       "</g>\n",
       "<!-- 10&#45;&gt;11 -->\n",
       "<g id=\"edge11\" class=\"edge\">\n",
       "<title>10&#45;&gt;11</title>\n",
       "<path fill=\"none\" stroke=\"black\" d=\"M456.18,-296.88C456.07,-286.33 455.96,-274.6 455.85,-263.85\"/>\n",
       "<polygon fill=\"black\" stroke=\"black\" points=\"459.35,-263.49 455.75,-253.52 452.35,-263.55 459.35,-263.49\"/>\n",
       "</g>\n",
       "<!-- 12 -->\n",
       "<g id=\"node13\" class=\"node\">\n",
       "<title>12</title>\n",
       "<polygon fill=\"#ea9b63\" stroke=\"black\" points=\"716,-253.5 557,-253.5 557,-200.5 716,-200.5 716,-253.5\"/>\n",
       "<text text-anchor=\"middle\" x=\"636.5\" y=\"-238.3\" font-family=\"Helvetica,sans-Serif\" font-size=\"14.00\">squared_error = 1.333</text>\n",
       "<text text-anchor=\"middle\" x=\"636.5\" y=\"-223.3\" font-family=\"Helvetica,sans-Serif\" font-size=\"14.00\">samples = 5</text>\n",
       "<text text-anchor=\"middle\" x=\"636.5\" y=\"-208.3\" font-family=\"Helvetica,sans-Serif\" font-size=\"14.00\">value = 47.0</text>\n",
       "</g>\n",
       "<!-- 10&#45;&gt;12 -->\n",
       "<g id=\"edge12\" class=\"edge\">\n",
       "<title>10&#45;&gt;12</title>\n",
       "<path fill=\"none\" stroke=\"black\" d=\"M514.94,-296.88C536.68,-284.57 561.23,-270.65 582.54,-258.57\"/>\n",
       "<polygon fill=\"black\" stroke=\"black\" points=\"584.49,-261.5 591.46,-253.52 581.04,-255.41 584.49,-261.5\"/>\n",
       "</g>\n",
       "<!-- 14 -->\n",
       "<g id=\"node15\" class=\"node\">\n",
       "<title>14</title>\n",
       "<polygon fill=\"#ffffff\" stroke=\"black\" points=\"725,-357.5 558,-357.5 558,-304.5 725,-304.5 725,-357.5\"/>\n",
       "<text text-anchor=\"middle\" x=\"641.5\" y=\"-342.3\" font-family=\"Helvetica,sans-Serif\" font-size=\"14.00\">squared_error = 14.209</text>\n",
       "<text text-anchor=\"middle\" x=\"641.5\" y=\"-327.3\" font-family=\"Helvetica,sans-Serif\" font-size=\"14.00\">samples = 9</text>\n",
       "<text text-anchor=\"middle\" x=\"641.5\" y=\"-312.3\" font-family=\"Helvetica,sans-Serif\" font-size=\"14.00\">value = 10.929</text>\n",
       "</g>\n",
       "<!-- 13&#45;&gt;14 -->\n",
       "<g id=\"edge14\" class=\"edge\">\n",
       "<title>13&#45;&gt;14</title>\n",
       "<path fill=\"none\" stroke=\"black\" d=\"M702.28,-400.88C692.19,-389.45 680.88,-376.63 670.79,-365.19\"/>\n",
       "<polygon fill=\"black\" stroke=\"black\" points=\"673.26,-362.7 664.02,-357.52 668.01,-367.33 673.26,-362.7\"/>\n",
       "</g>\n",
       "<!-- 15 -->\n",
       "<g id=\"node16\" class=\"node\">\n",
       "<title>15</title>\n",
       "<polygon fill=\"#f8dcc9\" stroke=\"black\" points=\"910,-357.5 743,-357.5 743,-304.5 910,-304.5 910,-357.5\"/>\n",
       "<text text-anchor=\"middle\" x=\"826.5\" y=\"-342.3\" font-family=\"Helvetica,sans-Serif\" font-size=\"14.00\">squared_error = 12.975</text>\n",
       "<text text-anchor=\"middle\" x=\"826.5\" y=\"-327.3\" font-family=\"Helvetica,sans-Serif\" font-size=\"14.00\">samples = 6</text>\n",
       "<text text-anchor=\"middle\" x=\"826.5\" y=\"-312.3\" font-family=\"Helvetica,sans-Serif\" font-size=\"14.00\">value = 23.455</text>\n",
       "</g>\n",
       "<!-- 13&#45;&gt;15 -->\n",
       "<g id=\"edge15\" class=\"edge\">\n",
       "<title>13&#45;&gt;15</title>\n",
       "<path fill=\"none\" stroke=\"black\" d=\"M762.34,-400.88C773.1,-389.34 785.16,-376.39 795.89,-364.86\"/>\n",
       "<polygon fill=\"black\" stroke=\"black\" points=\"798.48,-367.22 802.73,-357.52 793.35,-362.45 798.48,-367.22\"/>\n",
       "</g>\n",
       "<!-- 17 -->\n",
       "<g id=\"node18\" class=\"node\">\n",
       "<title>17</title>\n",
       "<polygon fill=\"#eeae80\" stroke=\"black\" points=\"1099.5,-469 923.5,-469 923.5,-401 1099.5,-401 1099.5,-469\"/>\n",
       "<text text-anchor=\"middle\" x=\"1011.5\" y=\"-453.8\" font-family=\"Helvetica,sans-Serif\" font-size=\"14.00\">CO &lt;= 0.65</text>\n",
       "<text text-anchor=\"middle\" x=\"1011.5\" y=\"-438.8\" font-family=\"Helvetica,sans-Serif\" font-size=\"14.00\">squared_error = 144.705</text>\n",
       "<text text-anchor=\"middle\" x=\"1011.5\" y=\"-423.8\" font-family=\"Helvetica,sans-Serif\" font-size=\"14.00\">samples = 37</text>\n",
       "<text text-anchor=\"middle\" x=\"1011.5\" y=\"-408.8\" font-family=\"Helvetica,sans-Serif\" font-size=\"14.00\">value = 40.2</text>\n",
       "</g>\n",
       "<!-- 16&#45;&gt;17 -->\n",
       "<g id=\"edge17\" class=\"edge\">\n",
       "<title>16&#45;&gt;17</title>\n",
       "<path fill=\"none\" stroke=\"black\" d=\"M1011.5,-504.88C1011.5,-496.78 1011.5,-487.98 1011.5,-479.47\"/>\n",
       "<polygon fill=\"black\" stroke=\"black\" points=\"1015,-479.3 1011.5,-469.3 1008,-479.3 1015,-479.3\"/>\n",
       "</g>\n",
       "<!-- 30 -->\n",
       "<g id=\"node31\" class=\"node\">\n",
       "<title>30</title>\n",
       "<polygon fill=\"#e58139\" stroke=\"black\" points=\"1293.5,-461.5 1117.5,-461.5 1117.5,-408.5 1293.5,-408.5 1293.5,-461.5\"/>\n",
       "<text text-anchor=\"middle\" x=\"1205.5\" y=\"-446.3\" font-family=\"Helvetica,sans-Serif\" font-size=\"14.00\">squared_error = 102.531</text>\n",
       "<text text-anchor=\"middle\" x=\"1205.5\" y=\"-431.3\" font-family=\"Helvetica,sans-Serif\" font-size=\"14.00\">samples = 7</text>\n",
       "<text text-anchor=\"middle\" x=\"1205.5\" y=\"-416.3\" font-family=\"Helvetica,sans-Serif\" font-size=\"14.00\">value = 56.571</text>\n",
       "</g>\n",
       "<!-- 16&#45;&gt;30 -->\n",
       "<g id=\"edge30\" class=\"edge\">\n",
       "<title>16&#45;&gt;30</title>\n",
       "<path fill=\"none\" stroke=\"black\" d=\"M1074.49,-504.88C1098.12,-492.46 1124.85,-478.41 1147.96,-466.25\"/>\n",
       "<polygon fill=\"black\" stroke=\"black\" points=\"1149.74,-469.27 1156.96,-461.52 1146.48,-463.08 1149.74,-469.27\"/>\n",
       "</g>\n",
       "<!-- 18 -->\n",
       "<g id=\"node19\" class=\"node\">\n",
       "<title>18</title>\n",
       "<polygon fill=\"#f3c3a1\" stroke=\"black\" points=\"1095,-365 928,-365 928,-297 1095,-297 1095,-365\"/>\n",
       "<text text-anchor=\"middle\" x=\"1011.5\" y=\"-349.8\" font-family=\"Helvetica,sans-Serif\" font-size=\"14.00\">HUMIDITY &lt;= 57.45</text>\n",
       "<text text-anchor=\"middle\" x=\"1011.5\" y=\"-334.8\" font-family=\"Helvetica,sans-Serif\" font-size=\"14.00\">squared_error = 69.777</text>\n",
       "<text text-anchor=\"middle\" x=\"1011.5\" y=\"-319.8\" font-family=\"Helvetica,sans-Serif\" font-size=\"14.00\">samples = 15</text>\n",
       "<text text-anchor=\"middle\" x=\"1011.5\" y=\"-304.8\" font-family=\"Helvetica,sans-Serif\" font-size=\"14.00\">value = 32.636</text>\n",
       "</g>\n",
       "<!-- 17&#45;&gt;18 -->\n",
       "<g id=\"edge18\" class=\"edge\">\n",
       "<title>17&#45;&gt;18</title>\n",
       "<path fill=\"none\" stroke=\"black\" d=\"M1011.5,-400.88C1011.5,-392.78 1011.5,-383.98 1011.5,-375.47\"/>\n",
       "<polygon fill=\"black\" stroke=\"black\" points=\"1015,-375.3 1011.5,-365.3 1008,-375.3 1015,-375.3\"/>\n",
       "</g>\n",
       "<!-- 23 -->\n",
       "<g id=\"node24\" class=\"node\">\n",
       "<title>23</title>\n",
       "<polygon fill=\"#eba06a\" stroke=\"black\" points=\"1374.5,-365 1198.5,-365 1198.5,-297 1374.5,-297 1374.5,-365\"/>\n",
       "<text text-anchor=\"middle\" x=\"1286.5\" y=\"-349.8\" font-family=\"Helvetica,sans-Serif\" font-size=\"14.00\">NO2 &lt;= 0.045</text>\n",
       "<text text-anchor=\"middle\" x=\"1286.5\" y=\"-334.8\" font-family=\"Helvetica,sans-Serif\" font-size=\"14.00\">squared_error = 131.093</text>\n",
       "<text text-anchor=\"middle\" x=\"1286.5\" y=\"-319.8\" font-family=\"Helvetica,sans-Serif\" font-size=\"14.00\">samples = 22</text>\n",
       "<text text-anchor=\"middle\" x=\"1286.5\" y=\"-304.8\" font-family=\"Helvetica,sans-Serif\" font-size=\"14.00\">value = 45.242</text>\n",
       "</g>\n",
       "<!-- 17&#45;&gt;23 -->\n",
       "<g id=\"edge23\" class=\"edge\">\n",
       "<title>17&#45;&gt;23</title>\n",
       "<path fill=\"none\" stroke=\"black\" d=\"M1099.65,-401.31C1128.02,-390.78 1159.62,-379.06 1188.64,-368.3\"/>\n",
       "<polygon fill=\"black\" stroke=\"black\" points=\"1190.22,-371.44 1198.38,-364.68 1187.79,-364.88 1190.22,-371.44\"/>\n",
       "</g>\n",
       "<!-- 19 -->\n",
       "<g id=\"node20\" class=\"node\">\n",
       "<title>19</title>\n",
       "<polygon fill=\"#eeac7d\" stroke=\"black\" points=\"910,-253.5 743,-253.5 743,-200.5 910,-200.5 910,-253.5\"/>\n",
       "<text text-anchor=\"middle\" x=\"826.5\" y=\"-238.3\" font-family=\"Helvetica,sans-Serif\" font-size=\"14.00\">squared_error = 71.265</text>\n",
       "<text text-anchor=\"middle\" x=\"826.5\" y=\"-223.3\" font-family=\"Helvetica,sans-Serif\" font-size=\"14.00\">samples = 5</text>\n",
       "<text text-anchor=\"middle\" x=\"826.5\" y=\"-208.3\" font-family=\"Helvetica,sans-Serif\" font-size=\"14.00\">value = 40.857</text>\n",
       "</g>\n",
       "<!-- 18&#45;&gt;19 -->\n",
       "<g id=\"edge19\" class=\"edge\">\n",
       "<title>18&#45;&gt;19</title>\n",
       "<path fill=\"none\" stroke=\"black\" d=\"M951.44,-296.88C929,-284.51 903.64,-270.53 881.66,-258.41\"/>\n",
       "<polygon fill=\"black\" stroke=\"black\" points=\"883.23,-255.28 872.79,-253.52 879.85,-261.41 883.23,-255.28\"/>\n",
       "</g>\n",
       "<!-- 20 -->\n",
       "<g id=\"node21\" class=\"node\">\n",
       "<title>20</title>\n",
       "<polygon fill=\"#f5ceb1\" stroke=\"black\" points=\"1095,-261 928,-261 928,-193 1095,-193 1095,-261\"/>\n",
       "<text text-anchor=\"middle\" x=\"1011.5\" y=\"-245.8\" font-family=\"Helvetica,sans-Serif\" font-size=\"14.00\">HUMIDITY &lt;= 65.75</text>\n",
       "<text text-anchor=\"middle\" x=\"1011.5\" y=\"-230.8\" font-family=\"Helvetica,sans-Serif\" font-size=\"14.00\">squared_error = 22.827</text>\n",
       "<text text-anchor=\"middle\" x=\"1011.5\" y=\"-215.8\" font-family=\"Helvetica,sans-Serif\" font-size=\"14.00\">samples = 10</text>\n",
       "<text text-anchor=\"middle\" x=\"1011.5\" y=\"-200.8\" font-family=\"Helvetica,sans-Serif\" font-size=\"14.00\">value = 28.8</text>\n",
       "</g>\n",
       "<!-- 18&#45;&gt;20 -->\n",
       "<g id=\"edge20\" class=\"edge\">\n",
       "<title>18&#45;&gt;20</title>\n",
       "<path fill=\"none\" stroke=\"black\" d=\"M1011.5,-296.88C1011.5,-288.78 1011.5,-279.98 1011.5,-271.47\"/>\n",
       "<polygon fill=\"black\" stroke=\"black\" points=\"1015,-271.3 1011.5,-261.3 1008,-271.3 1015,-271.3\"/>\n",
       "</g>\n",
       "<!-- 21 -->\n",
       "<g id=\"node22\" class=\"node\">\n",
       "<title>21</title>\n",
       "<polygon fill=\"#f6d4bb\" stroke=\"black\" points=\"910,-149.5 751,-149.5 751,-96.5 910,-96.5 910,-149.5\"/>\n",
       "<text text-anchor=\"middle\" x=\"830.5\" y=\"-134.3\" font-family=\"Helvetica,sans-Serif\" font-size=\"14.00\">squared_error = 4.816</text>\n",
       "<text text-anchor=\"middle\" x=\"830.5\" y=\"-119.3\" font-family=\"Helvetica,sans-Serif\" font-size=\"14.00\">samples = 5</text>\n",
       "<text text-anchor=\"middle\" x=\"830.5\" y=\"-104.3\" font-family=\"Helvetica,sans-Serif\" font-size=\"14.00\">value = 26.571</text>\n",
       "</g>\n",
       "<!-- 20&#45;&gt;21 -->\n",
       "<g id=\"edge21\" class=\"edge\">\n",
       "<title>20&#45;&gt;21</title>\n",
       "<path fill=\"none\" stroke=\"black\" d=\"M952.73,-192.88C930.88,-180.57 906.19,-166.65 884.76,-154.57\"/>\n",
       "<polygon fill=\"black\" stroke=\"black\" points=\"886.22,-151.38 875.79,-149.52 882.78,-157.48 886.22,-151.38\"/>\n",
       "</g>\n",
       "<!-- 22 -->\n",
       "<g id=\"node23\" class=\"node\">\n",
       "<title>22</title>\n",
       "<polygon fill=\"#f4c8a9\" stroke=\"black\" points=\"1095,-149.5 928,-149.5 928,-96.5 1095,-96.5 1095,-149.5\"/>\n",
       "<text text-anchor=\"middle\" x=\"1011.5\" y=\"-134.3\" font-family=\"Helvetica,sans-Serif\" font-size=\"14.00\">squared_error = 30.438</text>\n",
       "<text text-anchor=\"middle\" x=\"1011.5\" y=\"-119.3\" font-family=\"Helvetica,sans-Serif\" font-size=\"14.00\">samples = 5</text>\n",
       "<text text-anchor=\"middle\" x=\"1011.5\" y=\"-104.3\" font-family=\"Helvetica,sans-Serif\" font-size=\"14.00\">value = 30.75</text>\n",
       "</g>\n",
       "<!-- 20&#45;&gt;22 -->\n",
       "<g id=\"edge22\" class=\"edge\">\n",
       "<title>20&#45;&gt;22</title>\n",
       "<path fill=\"none\" stroke=\"black\" d=\"M1011.5,-192.88C1011.5,-182.33 1011.5,-170.6 1011.5,-159.85\"/>\n",
       "<polygon fill=\"black\" stroke=\"black\" points=\"1015,-159.52 1011.5,-149.52 1008,-159.52 1015,-159.52\"/>\n",
       "</g>\n",
       "<!-- 24 -->\n",
       "<g id=\"node25\" class=\"node\">\n",
       "<title>24</title>\n",
       "<polygon fill=\"#e89152\" stroke=\"black\" points=\"1374.5,-261 1198.5,-261 1198.5,-193 1374.5,-193 1374.5,-261\"/>\n",
       "<text text-anchor=\"middle\" x=\"1286.5\" y=\"-245.8\" font-family=\"Helvetica,sans-Serif\" font-size=\"14.00\">ATM_PRESS &lt;= 1015.8</text>\n",
       "<text text-anchor=\"middle\" x=\"1286.5\" y=\"-230.8\" font-family=\"Helvetica,sans-Serif\" font-size=\"14.00\">squared_error = 140.234</text>\n",
       "<text text-anchor=\"middle\" x=\"1286.5\" y=\"-215.8\" font-family=\"Helvetica,sans-Serif\" font-size=\"14.00\">samples = 12</text>\n",
       "<text text-anchor=\"middle\" x=\"1286.5\" y=\"-200.8\" font-family=\"Helvetica,sans-Serif\" font-size=\"14.00\">value = 50.875</text>\n",
       "</g>\n",
       "<!-- 23&#45;&gt;24 -->\n",
       "<g id=\"edge24\" class=\"edge\">\n",
       "<title>23&#45;&gt;24</title>\n",
       "<path fill=\"none\" stroke=\"black\" d=\"M1286.5,-296.88C1286.5,-288.78 1286.5,-279.98 1286.5,-271.47\"/>\n",
       "<polygon fill=\"black\" stroke=\"black\" points=\"1290,-271.3 1286.5,-261.3 1283,-271.3 1290,-271.3\"/>\n",
       "</g>\n",
       "<!-- 27 -->\n",
       "<g id=\"node28\" class=\"node\">\n",
       "<title>27</title>\n",
       "<polygon fill=\"#eeaf81\" stroke=\"black\" points=\"1644,-261 1477,-261 1477,-193 1644,-193 1644,-261\"/>\n",
       "<text text-anchor=\"middle\" x=\"1560.5\" y=\"-245.8\" font-family=\"Helvetica,sans-Serif\" font-size=\"14.00\">TEMP &lt;= 3.195</text>\n",
       "<text text-anchor=\"middle\" x=\"1560.5\" y=\"-230.8\" font-family=\"Helvetica,sans-Serif\" font-size=\"14.00\">squared_error = 64.526</text>\n",
       "<text text-anchor=\"middle\" x=\"1560.5\" y=\"-215.8\" font-family=\"Helvetica,sans-Serif\" font-size=\"14.00\">samples = 10</text>\n",
       "<text text-anchor=\"middle\" x=\"1560.5\" y=\"-200.8\" font-family=\"Helvetica,sans-Serif\" font-size=\"14.00\">value = 39.941</text>\n",
       "</g>\n",
       "<!-- 23&#45;&gt;27 -->\n",
       "<g id=\"edge27\" class=\"edge\">\n",
       "<title>23&#45;&gt;27</title>\n",
       "<path fill=\"none\" stroke=\"black\" d=\"M1374.7,-297.17C1404.21,-286.18 1437.18,-273.91 1467.07,-262.78\"/>\n",
       "<polygon fill=\"black\" stroke=\"black\" points=\"1468.51,-265.98 1476.66,-259.21 1466.07,-259.42 1468.51,-265.98\"/>\n",
       "</g>\n",
       "<!-- 25 -->\n",
       "<g id=\"node26\" class=\"node\">\n",
       "<title>25</title>\n",
       "<polygon fill=\"#e68540\" stroke=\"black\" points=\"1264,-149.5 1113,-149.5 1113,-96.5 1264,-96.5 1264,-149.5\"/>\n",
       "<text text-anchor=\"middle\" x=\"1188.5\" y=\"-134.3\" font-family=\"Helvetica,sans-Serif\" font-size=\"14.00\">squared_error = 62.2</text>\n",
       "<text text-anchor=\"middle\" x=\"1188.5\" y=\"-119.3\" font-family=\"Helvetica,sans-Serif\" font-size=\"14.00\">samples = 6</text>\n",
       "<text text-anchor=\"middle\" x=\"1188.5\" y=\"-104.3\" font-family=\"Helvetica,sans-Serif\" font-size=\"14.00\">value = 55.0</text>\n",
       "</g>\n",
       "<!-- 24&#45;&gt;25 -->\n",
       "<g id=\"edge25\" class=\"edge\">\n",
       "<title>24&#45;&gt;25</title>\n",
       "<path fill=\"none\" stroke=\"black\" d=\"M1254.68,-192.88C1243.59,-181.34 1231.15,-168.39 1220.07,-156.86\"/>\n",
       "<polygon fill=\"black\" stroke=\"black\" points=\"1222.47,-154.31 1213.02,-149.52 1217.42,-159.16 1222.47,-154.31\"/>\n",
       "</g>\n",
       "<!-- 26 -->\n",
       "<g id=\"node27\" class=\"node\">\n",
       "<title>26</title>\n",
       "<polygon fill=\"#eca470\" stroke=\"black\" points=\"1458.5,-149.5 1282.5,-149.5 1282.5,-96.5 1458.5,-96.5 1458.5,-149.5\"/>\n",
       "<text text-anchor=\"middle\" x=\"1370.5\" y=\"-134.3\" font-family=\"Helvetica,sans-Serif\" font-size=\"14.00\">squared_error = 194.667</text>\n",
       "<text text-anchor=\"middle\" x=\"1370.5\" y=\"-119.3\" font-family=\"Helvetica,sans-Serif\" font-size=\"14.00\">samples = 6</text>\n",
       "<text text-anchor=\"middle\" x=\"1370.5\" y=\"-104.3\" font-family=\"Helvetica,sans-Serif\" font-size=\"14.00\">value = 44.0</text>\n",
       "</g>\n",
       "<!-- 24&#45;&gt;26 -->\n",
       "<g id=\"edge26\" class=\"edge\">\n",
       "<title>24&#45;&gt;26</title>\n",
       "<path fill=\"none\" stroke=\"black\" d=\"M1313.77,-192.88C1323.1,-181.56 1333.54,-168.88 1342.89,-157.52\"/>\n",
       "<polygon fill=\"black\" stroke=\"black\" points=\"1345.83,-159.46 1349.48,-149.52 1340.42,-155.01 1345.83,-159.46\"/>\n",
       "</g>\n",
       "<!-- 28 -->\n",
       "<g id=\"node29\" class=\"node\">\n",
       "<title>28</title>\n",
       "<polygon fill=\"#eca36e\" stroke=\"black\" points=\"1644,-149.5 1477,-149.5 1477,-96.5 1644,-96.5 1644,-149.5\"/>\n",
       "<text text-anchor=\"middle\" x=\"1560.5\" y=\"-134.3\" font-family=\"Helvetica,sans-Serif\" font-size=\"14.00\">squared_error = 55.556</text>\n",
       "<text text-anchor=\"middle\" x=\"1560.5\" y=\"-119.3\" font-family=\"Helvetica,sans-Serif\" font-size=\"14.00\">samples = 5</text>\n",
       "<text text-anchor=\"middle\" x=\"1560.5\" y=\"-104.3\" font-family=\"Helvetica,sans-Serif\" font-size=\"14.00\">value = 44.333</text>\n",
       "</g>\n",
       "<!-- 27&#45;&gt;28 -->\n",
       "<g id=\"edge28\" class=\"edge\">\n",
       "<title>27&#45;&gt;28</title>\n",
       "<path fill=\"none\" stroke=\"black\" d=\"M1560.5,-192.88C1560.5,-182.33 1560.5,-170.6 1560.5,-159.85\"/>\n",
       "<polygon fill=\"black\" stroke=\"black\" points=\"1564,-159.52 1560.5,-149.52 1557,-159.52 1564,-159.52\"/>\n",
       "</g>\n",
       "<!-- 29 -->\n",
       "<g id=\"node30\" class=\"node\">\n",
       "<title>29</title>\n",
       "<polygon fill=\"#f1bd97\" stroke=\"black\" points=\"1813,-149.5 1662,-149.5 1662,-96.5 1813,-96.5 1813,-149.5\"/>\n",
       "<text text-anchor=\"middle\" x=\"1737.5\" y=\"-134.3\" font-family=\"Helvetica,sans-Serif\" font-size=\"14.00\">squared_error = 28.5</text>\n",
       "<text text-anchor=\"middle\" x=\"1737.5\" y=\"-119.3\" font-family=\"Helvetica,sans-Serif\" font-size=\"14.00\">samples = 5</text>\n",
       "<text text-anchor=\"middle\" x=\"1737.5\" y=\"-104.3\" font-family=\"Helvetica,sans-Serif\" font-size=\"14.00\">value = 35.0</text>\n",
       "</g>\n",
       "<!-- 27&#45;&gt;29 -->\n",
       "<g id=\"edge29\" class=\"edge\">\n",
       "<title>27&#45;&gt;29</title>\n",
       "<path fill=\"none\" stroke=\"black\" d=\"M1617.97,-192.88C1639.34,-180.57 1663.48,-166.65 1684.44,-154.57\"/>\n",
       "<polygon fill=\"black\" stroke=\"black\" points=\"1686.3,-157.55 1693.22,-149.52 1682.8,-151.48 1686.3,-157.55\"/>\n",
       "</g>\n",
       "</g>\n",
       "</svg>\n"
      ],
      "text/plain": [
       "<graphviz.sources.Source at 0x1d765269280>"
      ]
     },
     "metadata": {},
     "output_type": "display_data"
    }
   ],
   "source": [
    "# 변수명 저장\n",
    "v_feature_name = df_train_x.columns\n",
    "# 0번 트리\n",
    "export_graphviz(rf_final.estimators_[0], out_file=\"rfr_final_0.dot\",\n",
    "                feature_names = v_feature_name, impurity = True, filled = True)\n",
    "with open(\"rfr_final_0.dot\") as f:\n",
    "    dot_graph = f.read()\n",
    "display(graphviz.Source(dot_graph))"
   ]
  },
  {
   "cell_type": "markdown",
   "id": "387f1454",
   "metadata": {},
   "source": [
    "    -트리 분리에 영향이 큰 변수는 CO(일산화탄소 농도), O3(오존 농도), CLOUD(전운량) 순서이다.\n",
    "    -CO <= 0.559 이면 미세먼지 농도 감소(자료수=101, squared_error 지수는 감소), CO > 0.559 이면 미세먼지 농도 증가(자료수=44, squared_error 지수는 감소)로 분리\n",
    "    -CO <= 0.559 & CLOUD > 8.19 & NO2 <= 0.022 이면 미세먼지 농도가 감소\n",
    "    -오존 농도가 0.559 이하이고, 전운량이 8.19 초과이고, 이산화질소 농도가 0.022 이하이면 미세먼지 농도가 감소할 확률이 높다."
   ]
  },
  {
   "cell_type": "code",
   "execution_count": 327,
   "id": "198fa0e4",
   "metadata": {},
   "outputs": [
    {
     "data": {
      "text/html": [
       "<div>\n",
       "<style scoped>\n",
       "    .dataframe tbody tr th:only-of-type {\n",
       "        vertical-align: middle;\n",
       "    }\n",
       "\n",
       "    .dataframe tbody tr th {\n",
       "        vertical-align: top;\n",
       "    }\n",
       "\n",
       "    .dataframe thead th {\n",
       "        text-align: right;\n",
       "    }\n",
       "</style>\n",
       "<table border=\"1\" class=\"dataframe\">\n",
       "  <thead>\n",
       "    <tr style=\"text-align: right;\">\n",
       "      <th></th>\n",
       "      <th>Feature</th>\n",
       "      <th>Importance</th>\n",
       "    </tr>\n",
       "  </thead>\n",
       "  <tbody>\n",
       "    <tr>\n",
       "      <th>2</th>\n",
       "      <td>CO</td>\n",
       "      <td>0.390</td>\n",
       "    </tr>\n",
       "    <tr>\n",
       "      <th>0</th>\n",
       "      <td>O3</td>\n",
       "      <td>0.204</td>\n",
       "    </tr>\n",
       "    <tr>\n",
       "      <th>11</th>\n",
       "      <td>CLOUD</td>\n",
       "      <td>0.170</td>\n",
       "    </tr>\n",
       "    <tr>\n",
       "      <th>4</th>\n",
       "      <td>TEMP</td>\n",
       "      <td>0.152</td>\n",
       "    </tr>\n",
       "    <tr>\n",
       "      <th>1</th>\n",
       "      <td>NO2</td>\n",
       "      <td>0.068</td>\n",
       "    </tr>\n",
       "    <tr>\n",
       "      <th>6</th>\n",
       "      <td>WIND</td>\n",
       "      <td>0.016</td>\n",
       "    </tr>\n",
       "    <tr>\n",
       "      <th>3</th>\n",
       "      <td>SO2</td>\n",
       "      <td>0.000</td>\n",
       "    </tr>\n",
       "    <tr>\n",
       "      <th>5</th>\n",
       "      <td>RAIN</td>\n",
       "      <td>0.000</td>\n",
       "    </tr>\n",
       "    <tr>\n",
       "      <th>7</th>\n",
       "      <td>WIND_DIR</td>\n",
       "      <td>0.000</td>\n",
       "    </tr>\n",
       "    <tr>\n",
       "      <th>8</th>\n",
       "      <td>HUMIDITY</td>\n",
       "      <td>0.000</td>\n",
       "    </tr>\n",
       "    <tr>\n",
       "      <th>9</th>\n",
       "      <td>ATM_PRESS</td>\n",
       "      <td>0.000</td>\n",
       "    </tr>\n",
       "    <tr>\n",
       "      <th>10</th>\n",
       "      <td>SNOW</td>\n",
       "      <td>0.000</td>\n",
       "    </tr>\n",
       "  </tbody>\n",
       "</table>\n",
       "</div>"
      ],
      "text/plain": [
       "      Feature  Importance\n",
       "2          CO       0.390\n",
       "0          O3       0.204\n",
       "11      CLOUD       0.170\n",
       "4        TEMP       0.152\n",
       "1         NO2       0.068\n",
       "6        WIND       0.016\n",
       "3         SO2       0.000\n",
       "5        RAIN       0.000\n",
       "7    WIND_DIR       0.000\n",
       "8    HUMIDITY       0.000\n",
       "9   ATM_PRESS       0.000\n",
       "10       SNOW       0.000"
      ]
     },
     "execution_count": 327,
     "metadata": {},
     "output_type": "execute_result"
    }
   ],
   "source": [
    "# tree.feature_importances_로 설명변수 중요도 확인 및 테이블로 저장\n",
    "df_importance = pd.DataFrame()\n",
    "df_importance[\"Feature\"] = v_feature_name\n",
    "\n",
    "df_importance[\"Importance\"] = tree_final.feature_importances_\n",
    "\n",
    "# df_feature_importance의 테이블을 중요도별로 정렬\n",
    "df_importance.sort_values(\"Importance\", ascending = False, inplace = True)\n",
    "df_importance.round(3)"
   ]
  },
  {
   "cell_type": "code",
   "execution_count": 328,
   "id": "2bc5b71e",
   "metadata": {
    "scrolled": true
   },
   "outputs": [
    {
     "data": {
      "text/plain": [
       "Text(0, 0.5, '변수')"
      ]
     },
     "execution_count": 328,
     "metadata": {},
     "output_type": "execute_result"
    },
    {
     "data": {
      "image/png": "[encoded data removed]",
      "text/plain": [
       "<Figure size 432x288 with 1 Axes>"
      ]
     },
     "metadata": {
      "needs_background": "light"
     },
     "output_type": "display_data"
    }
   ],
   "source": [
    "# 설명변수 중요도 그래프\n",
    "# 중요도가 높은 변수를 상위에 그림\n",
    "df_importance.sort_values(\"Importance\", ascending = True, inplace = True)\n",
    "coordinates = range(len(df_importance))\n",
    "plt.barh(y = coordinates, width = df_importance[\"Importance\"])\n",
    "plt.yticks(coordinates, df_importance[\"Feature\"])\n",
    "plt.xlabel(\"변수 중요도\")\n",
    "plt.ylabel(\"변수\")"
   ]
  },
  {
   "cell_type": "markdown",
   "id": "0814fe8d",
   "metadata": {},
   "source": [
    "설명변수 중요도는 CO, O3, CLOUD, TEMP, NO2 순으로 높다"
   ]
  },
  {
   "cell_type": "markdown",
   "id": "730b3137",
   "metadata": {},
   "source": [
    "### 그래디언트 부스팅"
   ]
  },
  {
   "cell_type": "code",
   "execution_count": 256,
   "id": "89605ff2",
   "metadata": {},
   "outputs": [],
   "source": [
    "# 데이터 처리\n",
    "import pandas as pd\n",
    "# 행렬 연산\n",
    "import numpy as np\n",
    "# 데이터 시각화\n",
    "import matplotlib\n",
    "import matplotlib.pyplot as plt\n",
    "# export_graphviz: 나무 구조 생성 및 저장\n",
    "from sklearn.tree import export_graphviz\n",
    "# graphviz: 나무 구조 시각화 \n",
    "import graphviz\n",
    "# 데이터 분할\n",
    "from sklearn.model_selection import train_test_split\n",
    "# 예측/회귀 Decision Tree\n",
    "from sklearn.ensemble import GradientBoostingRegressor\n",
    "# 최적 모델, 파라미터 검색\n",
    "from sklearn.model_selection import GridSearchCV"
   ]
  },
  {
   "cell_type": "code",
   "execution_count": 257,
   "id": "a86003ef",
   "metadata": {},
   "outputs": [],
   "source": [
    "import os\n",
    "os.environ[\"PATH\"]+=os.pathsep+'C:/Program Files (x86)/Graphviz/bin/'"
   ]
  },
  {
   "cell_type": "code",
   "execution_count": 258,
   "id": "67989850",
   "metadata": {},
   "outputs": [],
   "source": [
    "df_raw = pd.read_csv('DATA/AIR_POLLUTION.csv')\n",
    "df_raw.drop('MeasDate', axis = 1, inplace = True)\n",
    "df_raw.dropna(subset=['PM10'] , inplace = True)\n",
    "df_raw.fillna(df_raw.mean(), inplace = True)"
   ]
  },
  {
   "cell_type": "code",
   "execution_count": 259,
   "id": "d176a2c7",
   "metadata": {},
   "outputs": [],
   "source": [
    "# 목표변수, 설명변수 데이터 지정\n",
    "df_raw_y = df_raw['PM10']\n",
    "df_raw_x = df_raw.drop('PM10', axis = 1, inplace = False)"
   ]
  },
  {
   "cell_type": "code",
   "execution_count": 260,
   "id": "94cedfbd",
   "metadata": {},
   "outputs": [
    {
     "name": "stdout",
     "output_type": "stream",
     "text": [
      "train data X size : (219, 12)\n",
      "train data Y size : (219,)\n",
      "test data X size : (146, 12)\n",
      "test data Y size : (146,)\n"
     ]
    }
   ],
   "source": [
    "# train_test_split\n",
    "df_train_x, df_test_x, df_train_y, df_test_y = train_test_split(df_raw_x, df_raw_y, test_size = 0.4, random_state = 1234)\n",
    "print(\"train data X size : {}\".format(df_train_x.shape))\n",
    "print(\"train data Y size : {}\".format(df_train_y.shape))\n",
    "print(\"test data X size : {}\".format(df_test_x.shape))\n",
    "print(\"test data Y size : {}\".format(df_test_y.shape))"
   ]
  },
  {
   "cell_type": "code",
   "execution_count": 261,
   "id": "c3daedff",
   "metadata": {
    "scrolled": true
   },
   "outputs": [
    {
     "name": "stdout",
     "output_type": "stream",
     "text": [
      "Score on training set: 0.946\n",
      "Score on test set: 0.469\n"
     ]
    }
   ],
   "source": [
    "# 기본 모델생성\n",
    "gb_uncustomized = GradientBoostingRegressor(random_state=1234)\n",
    "gb_uncustomized.fit(df_train_x, df_train_y)\n",
    "\n",
    "# Train 데이터 설명력\n",
    "print(\"Score on training set: {:.3f}\".format(gb_uncustomized.score(df_train_x, df_train_y)))\n",
    "\n",
    "# test 데이터 설명력\n",
    "print(\"Score on test set: {:.3f}\".format(gb_uncustomized.score(df_test_x, df_test_y)))"
   ]
  },
  {
   "cell_type": "markdown",
   "id": "190a4708",
   "metadata": {},
   "source": [
    "Train Accuracy: 94.6%, Test Accuracy: 46.9%. 모델은 train 데이터에 과대적합"
   ]
  },
  {
   "cell_type": "code",
   "execution_count": 262,
   "id": "5bbb4145",
   "metadata": {},
   "outputs": [
    {
     "data": {
      "text/plain": [
       "GradientBoostingRegressor(random_state=1234)"
      ]
     },
     "execution_count": 262,
     "metadata": {},
     "output_type": "execute_result"
    }
   ],
   "source": [
    "gb_uncustomized"
   ]
  },
  {
   "cell_type": "code",
   "execution_count": 276,
   "id": "d15010b7",
   "metadata": {},
   "outputs": [
    {
     "data": {
      "text/html": [
       "<div>\n",
       "<style scoped>\n",
       "    .dataframe tbody tr th:only-of-type {\n",
       "        vertical-align: middle;\n",
       "    }\n",
       "\n",
       "    .dataframe tbody tr th {\n",
       "        vertical-align: top;\n",
       "    }\n",
       "\n",
       "    .dataframe thead th {\n",
       "        text-align: right;\n",
       "    }\n",
       "</style>\n",
       "<table border=\"1\" class=\"dataframe\">\n",
       "  <thead>\n",
       "    <tr style=\"text-align: right;\">\n",
       "      <th></th>\n",
       "      <th>n_estimators</th>\n",
       "      <th>TrainScore</th>\n",
       "      <th>TestScore</th>\n",
       "    </tr>\n",
       "  </thead>\n",
       "  <tbody>\n",
       "    <tr>\n",
       "      <th>0</th>\n",
       "      <td>30</td>\n",
       "      <td>0.753</td>\n",
       "      <td>0.444</td>\n",
       "    </tr>\n",
       "    <tr>\n",
       "      <th>1</th>\n",
       "      <td>31</td>\n",
       "      <td>0.760</td>\n",
       "      <td>0.446</td>\n",
       "    </tr>\n",
       "    <tr>\n",
       "      <th>2</th>\n",
       "      <td>32</td>\n",
       "      <td>0.765</td>\n",
       "      <td>0.454</td>\n",
       "    </tr>\n",
       "    <tr>\n",
       "      <th>3</th>\n",
       "      <td>33</td>\n",
       "      <td>0.777</td>\n",
       "      <td>0.457</td>\n",
       "    </tr>\n",
       "    <tr>\n",
       "      <th>4</th>\n",
       "      <td>34</td>\n",
       "      <td>0.785</td>\n",
       "      <td>0.456</td>\n",
       "    </tr>\n",
       "    <tr>\n",
       "      <th>5</th>\n",
       "      <td>35</td>\n",
       "      <td>0.789</td>\n",
       "      <td>0.468</td>\n",
       "    </tr>\n",
       "    <tr>\n",
       "      <th>6</th>\n",
       "      <td>36</td>\n",
       "      <td>0.793</td>\n",
       "      <td>0.467</td>\n",
       "    </tr>\n",
       "    <tr>\n",
       "      <th>7</th>\n",
       "      <td>37</td>\n",
       "      <td>0.798</td>\n",
       "      <td>0.470</td>\n",
       "    </tr>\n",
       "    <tr>\n",
       "      <th>8</th>\n",
       "      <td>38</td>\n",
       "      <td>0.803</td>\n",
       "      <td>0.473</td>\n",
       "    </tr>\n",
       "    <tr>\n",
       "      <th>9</th>\n",
       "      <td>39</td>\n",
       "      <td>0.811</td>\n",
       "      <td>0.474</td>\n",
       "    </tr>\n",
       "    <tr>\n",
       "      <th>10</th>\n",
       "      <td>40</td>\n",
       "      <td>0.814</td>\n",
       "      <td>0.479</td>\n",
       "    </tr>\n",
       "    <tr>\n",
       "      <th>11</th>\n",
       "      <td>41</td>\n",
       "      <td>0.819</td>\n",
       "      <td>0.480</td>\n",
       "    </tr>\n",
       "    <tr>\n",
       "      <th>12</th>\n",
       "      <td>42</td>\n",
       "      <td>0.823</td>\n",
       "      <td>0.481</td>\n",
       "    </tr>\n",
       "    <tr>\n",
       "      <th>13</th>\n",
       "      <td>43</td>\n",
       "      <td>0.831</td>\n",
       "      <td>0.479</td>\n",
       "    </tr>\n",
       "    <tr>\n",
       "      <th>14</th>\n",
       "      <td>44</td>\n",
       "      <td>0.834</td>\n",
       "      <td>0.481</td>\n",
       "    </tr>\n",
       "    <tr>\n",
       "      <th>15</th>\n",
       "      <td>45</td>\n",
       "      <td>0.838</td>\n",
       "      <td>0.483</td>\n",
       "    </tr>\n",
       "    <tr>\n",
       "      <th>16</th>\n",
       "      <td>46</td>\n",
       "      <td>0.843</td>\n",
       "      <td>0.483</td>\n",
       "    </tr>\n",
       "    <tr>\n",
       "      <th>17</th>\n",
       "      <td>47</td>\n",
       "      <td>0.846</td>\n",
       "      <td>0.481</td>\n",
       "    </tr>\n",
       "    <tr>\n",
       "      <th>18</th>\n",
       "      <td>48</td>\n",
       "      <td>0.849</td>\n",
       "      <td>0.484</td>\n",
       "    </tr>\n",
       "    <tr>\n",
       "      <th>19</th>\n",
       "      <td>49</td>\n",
       "      <td>0.855</td>\n",
       "      <td>0.481</td>\n",
       "    </tr>\n",
       "  </tbody>\n",
       "</table>\n",
       "</div>"
      ],
      "text/plain": [
       "    n_estimators  TrainScore  TestScore\n",
       "0             30       0.753      0.444\n",
       "1             31       0.760      0.446\n",
       "2             32       0.765      0.454\n",
       "3             33       0.777      0.457\n",
       "4             34       0.785      0.456\n",
       "5             35       0.789      0.468\n",
       "6             36       0.793      0.467\n",
       "7             37       0.798      0.470\n",
       "8             38       0.803      0.473\n",
       "9             39       0.811      0.474\n",
       "10            40       0.814      0.479\n",
       "11            41       0.819      0.480\n",
       "12            42       0.823      0.481\n",
       "13            43       0.831      0.479\n",
       "14            44       0.834      0.481\n",
       "15            45       0.838      0.483\n",
       "16            46       0.843      0.483\n",
       "17            47       0.846      0.481\n",
       "18            48       0.849      0.484\n",
       "19            49       0.855      0.481"
      ]
     },
     "execution_count": 276,
     "metadata": {},
     "output_type": "execute_result"
    }
   ],
   "source": [
    "# train 및 test 설명력 결과 저장\n",
    "train_score = []; test_score = [ ]\n",
    "\n",
    "# n_estimatos: 트리 수 변경\n",
    "para_n_tree = [n_tree * 1 for n_tree in range(30, 50)]            \n",
    "\n",
    "for v_n_estimators in para_n_tree:\n",
    "    gb = GradientBoostingRegressor(n_estimators=v_n_estimators, random_state=1234)\n",
    "    gb.fit(df_train_x, df_train_y)\n",
    "    train_score.append(gb.score(df_train_x, df_train_y))\n",
    "    test_score.append(gb.score(df_test_x, df_test_y))\n",
    "\n",
    "# 결과 저장\n",
    "df_score_n = pd.DataFrame()\n",
    "df_score_n[\"n_estimators\"] = para_n_tree\n",
    "df_score_n[\"TrainScore\"] = train_score\n",
    "df_score_n[\"TestScore\"] = test_score\n",
    "df_score_n.round(3)"
   ]
  },
  {
   "cell_type": "code",
   "execution_count": 264,
   "id": "fda89574",
   "metadata": {
    "scrolled": true
   },
   "outputs": [
    {
     "data": {
      "text/plain": [
       "<matplotlib.legend.Legend at 0x1d764be0610>"
      ]
     },
     "execution_count": 264,
     "metadata": {},
     "output_type": "execute_result"
    },
    {
     "data": {
      "image/png": "[encoded data removed]",
      "text/plain": [
       "<Figure size 432x288 with 1 Axes>"
      ]
     },
     "metadata": {
      "needs_background": "light"
     },
     "output_type": "display_data"
    }
   ],
   "source": [
    "# 모델 설명력 그래프 확인\n",
    "plt.plot(para_n_tree, train_score, linestyle = \"-\", label = \"Train Score\")\n",
    "plt.plot(para_n_tree, test_score, linestyle = \"--\", label = \"Test Score\")\n",
    "plt.ylabel(\"score\"); plt.xlabel(\"n_estimators\")\n",
    "plt.legend()"
   ]
  },
  {
   "cell_type": "markdown",
   "id": "b3528b0a",
   "metadata": {},
   "source": [
    "트리 수 증가에 따라 모델의 설명력은 지속적으로 향상. Test 데이터의 성능 변화를 고려하여 42 선택"
   ]
  },
  {
   "cell_type": "markdown",
   "id": "f8dfbe91",
   "metadata": {},
   "source": [
    "#### min_samples_leaf"
   ]
  },
  {
   "cell_type": "code",
   "execution_count": 277,
   "id": "d67c3599",
   "metadata": {},
   "outputs": [
    {
     "data": {
      "text/html": [
       "<div>\n",
       "<style scoped>\n",
       "    .dataframe tbody tr th:only-of-type {\n",
       "        vertical-align: middle;\n",
       "    }\n",
       "\n",
       "    .dataframe tbody tr th {\n",
       "        vertical-align: top;\n",
       "    }\n",
       "\n",
       "    .dataframe thead th {\n",
       "        text-align: right;\n",
       "    }\n",
       "</style>\n",
       "<table border=\"1\" class=\"dataframe\">\n",
       "  <thead>\n",
       "    <tr style=\"text-align: right;\">\n",
       "      <th></th>\n",
       "      <th>MinSamplesLeaf</th>\n",
       "      <th>TrainScore</th>\n",
       "      <th>TestScore</th>\n",
       "    </tr>\n",
       "  </thead>\n",
       "  <tbody>\n",
       "    <tr>\n",
       "      <th>0</th>\n",
       "      <td>1</td>\n",
       "      <td>0.823</td>\n",
       "      <td>0.481</td>\n",
       "    </tr>\n",
       "    <tr>\n",
       "      <th>1</th>\n",
       "      <td>2</td>\n",
       "      <td>0.811</td>\n",
       "      <td>0.480</td>\n",
       "    </tr>\n",
       "    <tr>\n",
       "      <th>2</th>\n",
       "      <td>3</td>\n",
       "      <td>0.801</td>\n",
       "      <td>0.500</td>\n",
       "    </tr>\n",
       "    <tr>\n",
       "      <th>3</th>\n",
       "      <td>4</td>\n",
       "      <td>0.788</td>\n",
       "      <td>0.505</td>\n",
       "    </tr>\n",
       "    <tr>\n",
       "      <th>4</th>\n",
       "      <td>5</td>\n",
       "      <td>0.796</td>\n",
       "      <td>0.490</td>\n",
       "    </tr>\n",
       "    <tr>\n",
       "      <th>5</th>\n",
       "      <td>6</td>\n",
       "      <td>0.784</td>\n",
       "      <td>0.470</td>\n",
       "    </tr>\n",
       "    <tr>\n",
       "      <th>6</th>\n",
       "      <td>7</td>\n",
       "      <td>0.763</td>\n",
       "      <td>0.464</td>\n",
       "    </tr>\n",
       "    <tr>\n",
       "      <th>7</th>\n",
       "      <td>8</td>\n",
       "      <td>0.766</td>\n",
       "      <td>0.459</td>\n",
       "    </tr>\n",
       "    <tr>\n",
       "      <th>8</th>\n",
       "      <td>9</td>\n",
       "      <td>0.759</td>\n",
       "      <td>0.476</td>\n",
       "    </tr>\n",
       "    <tr>\n",
       "      <th>9</th>\n",
       "      <td>10</td>\n",
       "      <td>0.760</td>\n",
       "      <td>0.475</td>\n",
       "    </tr>\n",
       "    <tr>\n",
       "      <th>10</th>\n",
       "      <td>11</td>\n",
       "      <td>0.756</td>\n",
       "      <td>0.459</td>\n",
       "    </tr>\n",
       "    <tr>\n",
       "      <th>11</th>\n",
       "      <td>12</td>\n",
       "      <td>0.745</td>\n",
       "      <td>0.459</td>\n",
       "    </tr>\n",
       "    <tr>\n",
       "      <th>12</th>\n",
       "      <td>13</td>\n",
       "      <td>0.747</td>\n",
       "      <td>0.464</td>\n",
       "    </tr>\n",
       "    <tr>\n",
       "      <th>13</th>\n",
       "      <td>14</td>\n",
       "      <td>0.730</td>\n",
       "      <td>0.464</td>\n",
       "    </tr>\n",
       "    <tr>\n",
       "      <th>14</th>\n",
       "      <td>15</td>\n",
       "      <td>0.728</td>\n",
       "      <td>0.427</td>\n",
       "    </tr>\n",
       "    <tr>\n",
       "      <th>15</th>\n",
       "      <td>16</td>\n",
       "      <td>0.728</td>\n",
       "      <td>0.433</td>\n",
       "    </tr>\n",
       "    <tr>\n",
       "      <th>16</th>\n",
       "      <td>17</td>\n",
       "      <td>0.718</td>\n",
       "      <td>0.425</td>\n",
       "    </tr>\n",
       "    <tr>\n",
       "      <th>17</th>\n",
       "      <td>18</td>\n",
       "      <td>0.724</td>\n",
       "      <td>0.436</td>\n",
       "    </tr>\n",
       "    <tr>\n",
       "      <th>18</th>\n",
       "      <td>19</td>\n",
       "      <td>0.715</td>\n",
       "      <td>0.440</td>\n",
       "    </tr>\n",
       "    <tr>\n",
       "      <th>19</th>\n",
       "      <td>20</td>\n",
       "      <td>0.717</td>\n",
       "      <td>0.430</td>\n",
       "    </tr>\n",
       "  </tbody>\n",
       "</table>\n",
       "</div>"
      ],
      "text/plain": [
       "    MinSamplesLeaf  TrainScore  TestScore\n",
       "0                1       0.823      0.481\n",
       "1                2       0.811      0.480\n",
       "2                3       0.801      0.500\n",
       "3                4       0.788      0.505\n",
       "4                5       0.796      0.490\n",
       "5                6       0.784      0.470\n",
       "6                7       0.763      0.464\n",
       "7                8       0.766      0.459\n",
       "8                9       0.759      0.476\n",
       "9               10       0.760      0.475\n",
       "10              11       0.756      0.459\n",
       "11              12       0.745      0.459\n",
       "12              13       0.747      0.464\n",
       "13              14       0.730      0.464\n",
       "14              15       0.728      0.427\n",
       "15              16       0.728      0.433\n",
       "16              17       0.718      0.425\n",
       "17              18       0.724      0.436\n",
       "18              19       0.715      0.440\n",
       "19              20       0.717      0.430"
      ]
     },
     "execution_count": 277,
     "metadata": {},
     "output_type": "execute_result"
    }
   ],
   "source": [
    "# train 및 test 설명력 결과 저장\n",
    "train_score = []; test_score = [ ]\n",
    "\n",
    "# min_samples_leaf: 잎사귀 최소 자료 수\n",
    "para_leaf = [n_leaf * 1 for n_leaf in range(1, 21)]         \n",
    "\n",
    "for v_min_samples_leaf in para_leaf:\n",
    "    gb = GradientBoostingRegressor(random_state=1234, n_estimators = 42, min_samples_leaf=v_min_samples_leaf)\n",
    "    gb.fit(df_train_x, df_train_y)\n",
    "    train_score.append(gb.score(df_train_x, df_train_y))\n",
    "    test_score.append(gb.score(df_test_x, df_test_y))\n",
    "\n",
    "# 결과 저장\n",
    "df_score_leaf = pd.DataFrame()\n",
    "df_score_leaf[\"MinSamplesLeaf\"] = para_leaf\n",
    "df_score_leaf[\"TrainScore\"] = train_score\n",
    "df_score_leaf[\"TestScore\"] = test_score\n",
    "df_score_leaf.round(3)"
   ]
  },
  {
   "cell_type": "code",
   "execution_count": 278,
   "id": "4185aafb",
   "metadata": {
    "scrolled": true
   },
   "outputs": [
    {
     "data": {
      "text/plain": [
       "<matplotlib.legend.Legend at 0x1d764ee24c0>"
      ]
     },
     "execution_count": 278,
     "metadata": {},
     "output_type": "execute_result"
    },
    {
     "data": {
      "image/png": "[encoded data removed]",
      "text/plain": [
       "<Figure size 432x288 with 1 Axes>"
      ]
     },
     "metadata": {
      "needs_background": "light"
     },
     "output_type": "display_data"
    }
   ],
   "source": [
    "# 모델 설명력 그래프 확인\n",
    "plt.plot(para_leaf, train_score, linestyle = \"-\", label = \"Train Score\")\n",
    "plt.plot(para_leaf, test_score, linestyle = \"--\", label = \"Test Score\")\n",
    "plt.ylabel(\"score\"); plt.xlabel(\"min samples leaf\")\n",
    "plt.legend()"
   ]
  },
  {
   "cell_type": "markdown",
   "id": "a6215aec",
   "metadata": {},
   "source": [
    "잎사귀 노드 최소 자료 수 증가에 따라 모델의 정확도는 감소, 데이터 성능 변화를 고려하여 4 선택"
   ]
  },
  {
   "cell_type": "markdown",
   "id": "12587d00",
   "metadata": {},
   "source": [
    "#### min_samples_split"
   ]
  },
  {
   "cell_type": "code",
   "execution_count": 279,
   "id": "53bbd549",
   "metadata": {},
   "outputs": [
    {
     "data": {
      "text/html": [
       "<div>\n",
       "<style scoped>\n",
       "    .dataframe tbody tr th:only-of-type {\n",
       "        vertical-align: middle;\n",
       "    }\n",
       "\n",
       "    .dataframe tbody tr th {\n",
       "        vertical-align: top;\n",
       "    }\n",
       "\n",
       "    .dataframe thead th {\n",
       "        text-align: right;\n",
       "    }\n",
       "</style>\n",
       "<table border=\"1\" class=\"dataframe\">\n",
       "  <thead>\n",
       "    <tr style=\"text-align: right;\">\n",
       "      <th></th>\n",
       "      <th>MinSamplesLeaf</th>\n",
       "      <th>TrainScore</th>\n",
       "      <th>TestScore</th>\n",
       "    </tr>\n",
       "  </thead>\n",
       "  <tbody>\n",
       "    <tr>\n",
       "      <th>0</th>\n",
       "      <td>2</td>\n",
       "      <td>0.788</td>\n",
       "      <td>0.505</td>\n",
       "    </tr>\n",
       "    <tr>\n",
       "      <th>1</th>\n",
       "      <td>4</td>\n",
       "      <td>0.788</td>\n",
       "      <td>0.505</td>\n",
       "    </tr>\n",
       "    <tr>\n",
       "      <th>2</th>\n",
       "      <td>6</td>\n",
       "      <td>0.788</td>\n",
       "      <td>0.505</td>\n",
       "    </tr>\n",
       "    <tr>\n",
       "      <th>3</th>\n",
       "      <td>8</td>\n",
       "      <td>0.788</td>\n",
       "      <td>0.505</td>\n",
       "    </tr>\n",
       "    <tr>\n",
       "      <th>4</th>\n",
       "      <td>10</td>\n",
       "      <td>0.788</td>\n",
       "      <td>0.497</td>\n",
       "    </tr>\n",
       "    <tr>\n",
       "      <th>5</th>\n",
       "      <td>12</td>\n",
       "      <td>0.784</td>\n",
       "      <td>0.483</td>\n",
       "    </tr>\n",
       "    <tr>\n",
       "      <th>6</th>\n",
       "      <td>14</td>\n",
       "      <td>0.771</td>\n",
       "      <td>0.496</td>\n",
       "    </tr>\n",
       "    <tr>\n",
       "      <th>7</th>\n",
       "      <td>16</td>\n",
       "      <td>0.780</td>\n",
       "      <td>0.496</td>\n",
       "    </tr>\n",
       "    <tr>\n",
       "      <th>8</th>\n",
       "      <td>18</td>\n",
       "      <td>0.768</td>\n",
       "      <td>0.506</td>\n",
       "    </tr>\n",
       "    <tr>\n",
       "      <th>9</th>\n",
       "      <td>20</td>\n",
       "      <td>0.766</td>\n",
       "      <td>0.509</td>\n",
       "    </tr>\n",
       "    <tr>\n",
       "      <th>10</th>\n",
       "      <td>22</td>\n",
       "      <td>0.766</td>\n",
       "      <td>0.495</td>\n",
       "    </tr>\n",
       "    <tr>\n",
       "      <th>11</th>\n",
       "      <td>24</td>\n",
       "      <td>0.766</td>\n",
       "      <td>0.495</td>\n",
       "    </tr>\n",
       "    <tr>\n",
       "      <th>12</th>\n",
       "      <td>26</td>\n",
       "      <td>0.766</td>\n",
       "      <td>0.493</td>\n",
       "    </tr>\n",
       "    <tr>\n",
       "      <th>13</th>\n",
       "      <td>28</td>\n",
       "      <td>0.753</td>\n",
       "      <td>0.487</td>\n",
       "    </tr>\n",
       "    <tr>\n",
       "      <th>14</th>\n",
       "      <td>30</td>\n",
       "      <td>0.756</td>\n",
       "      <td>0.477</td>\n",
       "    </tr>\n",
       "    <tr>\n",
       "      <th>15</th>\n",
       "      <td>32</td>\n",
       "      <td>0.756</td>\n",
       "      <td>0.477</td>\n",
       "    </tr>\n",
       "    <tr>\n",
       "      <th>16</th>\n",
       "      <td>34</td>\n",
       "      <td>0.751</td>\n",
       "      <td>0.474</td>\n",
       "    </tr>\n",
       "    <tr>\n",
       "      <th>17</th>\n",
       "      <td>36</td>\n",
       "      <td>0.751</td>\n",
       "      <td>0.483</td>\n",
       "    </tr>\n",
       "    <tr>\n",
       "      <th>18</th>\n",
       "      <td>38</td>\n",
       "      <td>0.751</td>\n",
       "      <td>0.474</td>\n",
       "    </tr>\n",
       "    <tr>\n",
       "      <th>19</th>\n",
       "      <td>40</td>\n",
       "      <td>0.735</td>\n",
       "      <td>0.490</td>\n",
       "    </tr>\n",
       "  </tbody>\n",
       "</table>\n",
       "</div>"
      ],
      "text/plain": [
       "    MinSamplesLeaf  TrainScore  TestScore\n",
       "0                2       0.788      0.505\n",
       "1                4       0.788      0.505\n",
       "2                6       0.788      0.505\n",
       "3                8       0.788      0.505\n",
       "4               10       0.788      0.497\n",
       "5               12       0.784      0.483\n",
       "6               14       0.771      0.496\n",
       "7               16       0.780      0.496\n",
       "8               18       0.768      0.506\n",
       "9               20       0.766      0.509\n",
       "10              22       0.766      0.495\n",
       "11              24       0.766      0.495\n",
       "12              26       0.766      0.493\n",
       "13              28       0.753      0.487\n",
       "14              30       0.756      0.477\n",
       "15              32       0.756      0.477\n",
       "16              34       0.751      0.474\n",
       "17              36       0.751      0.483\n",
       "18              38       0.751      0.474\n",
       "19              40       0.735      0.490"
      ]
     },
     "execution_count": 279,
     "metadata": {},
     "output_type": "execute_result"
    }
   ],
   "source": [
    "# train 및 test 설명력 결과 저장\n",
    "train_score = []; test_score = [ ]\n",
    "\n",
    "# min_samples_split: 분할하기 위한 노드의 최소 자료수\n",
    "para_split = [n_split * 2 for n_split in range(1, 21)]           \n",
    "\n",
    "for v_min_samples_split in para_split:\n",
    "    gb = GradientBoostingRegressor(random_state=1234, n_estimators = 42, min_samples_leaf=4, min_samples_split=v_min_samples_split)\n",
    "    gb.fit(df_train_x, df_train_y)\n",
    "    train_score.append(gb.score(df_train_x, df_train_y))\n",
    "    test_score.append(gb.score(df_test_x, df_test_y))\n",
    "\n",
    "# 결과 저장\n",
    "df_score_split = pd.DataFrame()\n",
    "df_score_split[\"MinSamplesLeaf\"] = para_split\n",
    "df_score_split[\"TrainScore\"] = train_score\n",
    "df_score_split[\"TestScore\"] = test_score\n",
    "df_score_split.round(3)"
   ]
  },
  {
   "cell_type": "code",
   "execution_count": 280,
   "id": "6be5e28b",
   "metadata": {
    "scrolled": true
   },
   "outputs": [
    {
     "data": {
      "text/plain": [
       "<matplotlib.legend.Legend at 0x1d764f59c10>"
      ]
     },
     "execution_count": 280,
     "metadata": {},
     "output_type": "execute_result"
    },
    {
     "data": {
      "image/png": "[encoded data removed]",
      "text/plain": [
       "<Figure size 432x288 with 1 Axes>"
      ]
     },
     "metadata": {
      "needs_background": "light"
     },
     "output_type": "display_data"
    }
   ],
   "source": [
    "# 모델 설명력 그래프 확인\n",
    "plt.plot(para_split, train_score, linestyle = \"-\", label = \"Train Score\")\n",
    "plt.plot(para_split, test_score, linestyle = \"--\", label = \"Test Score\")\n",
    "plt.ylabel(\"score\"); plt.xlabel(\"min samples split\")\n",
    "plt.legend()"
   ]
  },
  {
   "cell_type": "markdown",
   "id": "1dffdb3b",
   "metadata": {},
   "source": [
    "분리 노드의 최소 자료 수 증가에 따라 모델의 정확도는 감소, 데이터의 성능 변화를 고려하여 20 선택 "
   ]
  },
  {
   "cell_type": "markdown",
   "id": "73f1c8ad",
   "metadata": {},
   "source": [
    "#### max_depth"
   ]
  },
  {
   "cell_type": "code",
   "execution_count": 281,
   "id": "b5ed47ac",
   "metadata": {},
   "outputs": [
    {
     "data": {
      "text/html": [
       "<div>\n",
       "<style scoped>\n",
       "    .dataframe tbody tr th:only-of-type {\n",
       "        vertical-align: middle;\n",
       "    }\n",
       "\n",
       "    .dataframe tbody tr th {\n",
       "        vertical-align: top;\n",
       "    }\n",
       "\n",
       "    .dataframe thead th {\n",
       "        text-align: right;\n",
       "    }\n",
       "</style>\n",
       "<table border=\"1\" class=\"dataframe\">\n",
       "  <thead>\n",
       "    <tr style=\"text-align: right;\">\n",
       "      <th></th>\n",
       "      <th>Depth</th>\n",
       "      <th>TrainScore</th>\n",
       "      <th>TestScore</th>\n",
       "    </tr>\n",
       "  </thead>\n",
       "  <tbody>\n",
       "    <tr>\n",
       "      <th>0</th>\n",
       "      <td>1</td>\n",
       "      <td>0.394</td>\n",
       "      <td>0.307</td>\n",
       "    </tr>\n",
       "    <tr>\n",
       "      <th>1</th>\n",
       "      <td>2</td>\n",
       "      <td>0.624</td>\n",
       "      <td>0.453</td>\n",
       "    </tr>\n",
       "    <tr>\n",
       "      <th>2</th>\n",
       "      <td>3</td>\n",
       "      <td>0.766</td>\n",
       "      <td>0.509</td>\n",
       "    </tr>\n",
       "    <tr>\n",
       "      <th>3</th>\n",
       "      <td>4</td>\n",
       "      <td>0.867</td>\n",
       "      <td>0.457</td>\n",
       "    </tr>\n",
       "    <tr>\n",
       "      <th>4</th>\n",
       "      <td>5</td>\n",
       "      <td>0.924</td>\n",
       "      <td>0.472</td>\n",
       "    </tr>\n",
       "    <tr>\n",
       "      <th>5</th>\n",
       "      <td>6</td>\n",
       "      <td>0.939</td>\n",
       "      <td>0.478</td>\n",
       "    </tr>\n",
       "    <tr>\n",
       "      <th>6</th>\n",
       "      <td>7</td>\n",
       "      <td>0.954</td>\n",
       "      <td>0.481</td>\n",
       "    </tr>\n",
       "    <tr>\n",
       "      <th>7</th>\n",
       "      <td>8</td>\n",
       "      <td>0.959</td>\n",
       "      <td>0.442</td>\n",
       "    </tr>\n",
       "    <tr>\n",
       "      <th>8</th>\n",
       "      <td>9</td>\n",
       "      <td>0.961</td>\n",
       "      <td>0.450</td>\n",
       "    </tr>\n",
       "    <tr>\n",
       "      <th>9</th>\n",
       "      <td>10</td>\n",
       "      <td>0.960</td>\n",
       "      <td>0.444</td>\n",
       "    </tr>\n",
       "  </tbody>\n",
       "</table>\n",
       "</div>"
      ],
      "text/plain": [
       "   Depth  TrainScore  TestScore\n",
       "0      1       0.394      0.307\n",
       "1      2       0.624      0.453\n",
       "2      3       0.766      0.509\n",
       "3      4       0.867      0.457\n",
       "4      5       0.924      0.472\n",
       "5      6       0.939      0.478\n",
       "6      7       0.954      0.481\n",
       "7      8       0.959      0.442\n",
       "8      9       0.961      0.450\n",
       "9     10       0.960      0.444"
      ]
     },
     "execution_count": 281,
     "metadata": {},
     "output_type": "execute_result"
    }
   ],
   "source": [
    "# train 및 test 설명력 결과 저장\n",
    "train_score = []; test_score = [ ]\n",
    "\n",
    "# max_depth: 최대 깊이 변경\n",
    "para_depth = [depth for depth in range(1, 11)]            \n",
    "\n",
    "for v_max_depth in para_depth:\n",
    "    gb = GradientBoostingRegressor(random_state=1234, n_estimators = 42,\n",
    "                               min_samples_leaf=4, min_samples_split=20, max_depth = v_max_depth)\n",
    "    gb.fit(df_train_x, df_train_y)\n",
    "    train_score.append(gb.score(df_train_x, df_train_y))\n",
    "    test_score.append(gb.score(df_test_x, df_test_y))\n",
    "\n",
    "# 결과 저장\n",
    "df_score_depth = pd.DataFrame()\n",
    "df_score_depth[\"Depth\"] = para_depth\n",
    "df_score_depth[\"TrainScore\"] = train_score\n",
    "df_score_depth[\"TestScore\"] = test_score\n",
    "df_score_depth.round(3)"
   ]
  },
  {
   "cell_type": "code",
   "execution_count": 282,
   "id": "9e81be37",
   "metadata": {},
   "outputs": [
    {
     "data": {
      "text/plain": [
       "<matplotlib.legend.Legend at 0x1d764fd4e20>"
      ]
     },
     "execution_count": 282,
     "metadata": {},
     "output_type": "execute_result"
    },
    {
     "data": {
      "image/png": "[encoded data removed]",
      "text/plain": [
       "<Figure size 432x288 with 1 Axes>"
      ]
     },
     "metadata": {
      "needs_background": "light"
     },
     "output_type": "display_data"
    }
   ],
   "source": [
    "# 모델 설명력 그래프 확인\n",
    "plt.plot(para_depth, train_score, linestyle = \"-\", label = \"Train Score\")\n",
    "plt.plot(para_depth, test_score, linestyle = \"--\", label = \"Test Score\")\n",
    "plt.ylabel(\"score\"); plt.xlabel(\"max depth\")\n",
    "plt.legend()"
   ]
  },
  {
   "cell_type": "markdown",
   "id": "c603bda0",
   "metadata": {},
   "source": [
    "최대 깊이 증가에 따라 모델의 정확도는 증가하며, 데이터의 성능 변화를 고려하여 3 선택 "
   ]
  },
  {
   "cell_type": "markdown",
   "id": "f8f46fe7",
   "metadata": {},
   "source": [
    "#### learning_rate"
   ]
  },
  {
   "cell_type": "code",
   "execution_count": 283,
   "id": "c658cc16",
   "metadata": {},
   "outputs": [
    {
     "data": {
      "text/html": [
       "<div>\n",
       "<style scoped>\n",
       "    .dataframe tbody tr th:only-of-type {\n",
       "        vertical-align: middle;\n",
       "    }\n",
       "\n",
       "    .dataframe tbody tr th {\n",
       "        vertical-align: top;\n",
       "    }\n",
       "\n",
       "    .dataframe thead th {\n",
       "        text-align: right;\n",
       "    }\n",
       "</style>\n",
       "<table border=\"1\" class=\"dataframe\">\n",
       "  <thead>\n",
       "    <tr style=\"text-align: right;\">\n",
       "      <th></th>\n",
       "      <th>LearningRate</th>\n",
       "      <th>TrainScore</th>\n",
       "      <th>TestScore</th>\n",
       "    </tr>\n",
       "  </thead>\n",
       "  <tbody>\n",
       "    <tr>\n",
       "      <th>0</th>\n",
       "      <td>0.01</td>\n",
       "      <td>0.247</td>\n",
       "      <td>0.172</td>\n",
       "    </tr>\n",
       "    <tr>\n",
       "      <th>1</th>\n",
       "      <td>0.02</td>\n",
       "      <td>0.404</td>\n",
       "      <td>0.284</td>\n",
       "    </tr>\n",
       "    <tr>\n",
       "      <th>2</th>\n",
       "      <td>0.03</td>\n",
       "      <td>0.516</td>\n",
       "      <td>0.350</td>\n",
       "    </tr>\n",
       "    <tr>\n",
       "      <th>3</th>\n",
       "      <td>0.04</td>\n",
       "      <td>0.591</td>\n",
       "      <td>0.394</td>\n",
       "    </tr>\n",
       "    <tr>\n",
       "      <th>4</th>\n",
       "      <td>0.05</td>\n",
       "      <td>0.634</td>\n",
       "      <td>0.430</td>\n",
       "    </tr>\n",
       "    <tr>\n",
       "      <th>5</th>\n",
       "      <td>0.06</td>\n",
       "      <td>0.677</td>\n",
       "      <td>0.448</td>\n",
       "    </tr>\n",
       "    <tr>\n",
       "      <th>6</th>\n",
       "      <td>0.07</td>\n",
       "      <td>0.702</td>\n",
       "      <td>0.457</td>\n",
       "    </tr>\n",
       "    <tr>\n",
       "      <th>7</th>\n",
       "      <td>0.08</td>\n",
       "      <td>0.719</td>\n",
       "      <td>0.469</td>\n",
       "    </tr>\n",
       "    <tr>\n",
       "      <th>8</th>\n",
       "      <td>0.09</td>\n",
       "      <td>0.751</td>\n",
       "      <td>0.489</td>\n",
       "    </tr>\n",
       "    <tr>\n",
       "      <th>9</th>\n",
       "      <td>0.10</td>\n",
       "      <td>0.766</td>\n",
       "      <td>0.509</td>\n",
       "    </tr>\n",
       "    <tr>\n",
       "      <th>10</th>\n",
       "      <td>0.11</td>\n",
       "      <td>0.782</td>\n",
       "      <td>0.498</td>\n",
       "    </tr>\n",
       "    <tr>\n",
       "      <th>11</th>\n",
       "      <td>0.12</td>\n",
       "      <td>0.805</td>\n",
       "      <td>0.483</td>\n",
       "    </tr>\n",
       "    <tr>\n",
       "      <th>12</th>\n",
       "      <td>0.13</td>\n",
       "      <td>0.814</td>\n",
       "      <td>0.483</td>\n",
       "    </tr>\n",
       "    <tr>\n",
       "      <th>13</th>\n",
       "      <td>0.14</td>\n",
       "      <td>0.829</td>\n",
       "      <td>0.495</td>\n",
       "    </tr>\n",
       "    <tr>\n",
       "      <th>14</th>\n",
       "      <td>0.15</td>\n",
       "      <td>0.844</td>\n",
       "      <td>0.462</td>\n",
       "    </tr>\n",
       "    <tr>\n",
       "      <th>15</th>\n",
       "      <td>0.16</td>\n",
       "      <td>0.855</td>\n",
       "      <td>0.459</td>\n",
       "    </tr>\n",
       "    <tr>\n",
       "      <th>16</th>\n",
       "      <td>0.17</td>\n",
       "      <td>0.865</td>\n",
       "      <td>0.464</td>\n",
       "    </tr>\n",
       "    <tr>\n",
       "      <th>17</th>\n",
       "      <td>0.18</td>\n",
       "      <td>0.867</td>\n",
       "      <td>0.441</td>\n",
       "    </tr>\n",
       "    <tr>\n",
       "      <th>18</th>\n",
       "      <td>0.19</td>\n",
       "      <td>0.875</td>\n",
       "      <td>0.448</td>\n",
       "    </tr>\n",
       "  </tbody>\n",
       "</table>\n",
       "</div>"
      ],
      "text/plain": [
       "    LearningRate  TrainScore  TestScore\n",
       "0           0.01       0.247      0.172\n",
       "1           0.02       0.404      0.284\n",
       "2           0.03       0.516      0.350\n",
       "3           0.04       0.591      0.394\n",
       "4           0.05       0.634      0.430\n",
       "5           0.06       0.677      0.448\n",
       "6           0.07       0.702      0.457\n",
       "7           0.08       0.719      0.469\n",
       "8           0.09       0.751      0.489\n",
       "9           0.10       0.766      0.509\n",
       "10          0.11       0.782      0.498\n",
       "11          0.12       0.805      0.483\n",
       "12          0.13       0.814      0.483\n",
       "13          0.14       0.829      0.495\n",
       "14          0.15       0.844      0.462\n",
       "15          0.16       0.855      0.459\n",
       "16          0.17       0.865      0.464\n",
       "17          0.18       0.867      0.441\n",
       "18          0.19       0.875      0.448"
      ]
     },
     "execution_count": 283,
     "metadata": {},
     "output_type": "execute_result"
    }
   ],
   "source": [
    "# train 및 test 설명력 결과 저장\n",
    "train_score = []; test_score = [ ]\n",
    "\n",
    "# learning rate\n",
    "para_lr = [lr * 0.01 for lr in range(1, 20)]            \n",
    "\n",
    "for v_learning_rate in para_lr:\n",
    "    gb = GradientBoostingRegressor(random_state=1234, n_estimators = 42,min_samples_leaf=4,\n",
    "                                   min_samples_split=20, max_depth = 3, learning_rate = v_learning_rate)\n",
    "    gb.fit(df_train_x, df_train_y)\n",
    "    train_score.append(gb.score(df_train_x, df_train_y))\n",
    "    test_score.append(gb.score(df_test_x, df_test_y))\n",
    "\n",
    "# 결과 저장\n",
    "df_score_lr = pd.DataFrame()\n",
    "df_score_lr[\"LearningRate\"] = para_lr\n",
    "df_score_lr[\"TrainScore\"] = train_score\n",
    "df_score_lr[\"TestScore\"] = test_score\n",
    "df_score_lr.round(3)"
   ]
  },
  {
   "cell_type": "code",
   "execution_count": 284,
   "id": "38ebfbf8",
   "metadata": {},
   "outputs": [
    {
     "data": {
      "text/plain": [
       "<matplotlib.legend.Legend at 0x1d765047fd0>"
      ]
     },
     "execution_count": 284,
     "metadata": {},
     "output_type": "execute_result"
    },
    {
     "data": {
      "image/png": "[encoded data removed]",
      "text/plain": [
       "<Figure size 432x288 with 1 Axes>"
      ]
     },
     "metadata": {
      "needs_background": "light"
     },
     "output_type": "display_data"
    }
   ],
   "source": [
    "# 모델 설명력 그래프 확인\n",
    "plt.plot(para_lr, train_score, linestyle = \"-\", label = \"Train Score\")\n",
    "plt.plot(para_lr, test_score, linestyle = \"--\", label = \"Test Score\")\n",
    "plt.ylabel(\"score\"); plt.xlabel(\"learning rate\")\n",
    "plt.legend()"
   ]
  },
  {
   "cell_type": "markdown",
   "id": "14f37f8e",
   "metadata": {},
   "source": [
    "학습률 증가에 따라 모델의 설명력은 증가. learnig_rate = 0.1 선택"
   ]
  },
  {
   "cell_type": "markdown",
   "id": "06be98c1",
   "metadata": {},
   "source": [
    "#### 최종 모델 선정"
   ]
  },
  {
   "cell_type": "code",
   "execution_count": 273,
   "id": "a0d2548f",
   "metadata": {
    "scrolled": false
   },
   "outputs": [
    {
     "name": "stdout",
     "output_type": "stream",
     "text": [
      "Score on training set: 0.766\n",
      "Score on test set: 0.509\n"
     ]
    }
   ],
   "source": [
    "gb_final = GradientBoostingRegressor(n_estimators = 42, min_samples_leaf = 4, min_samples_split = 20,\n",
    "                                     max_depth = 3, learning_rate = 0.1, random_state=1234)\n",
    "gb_final.fit(df_train_x, df_train_y)\n",
    "# train 데이터 설명력\n",
    "print(\"Score on training set: {:.3f}\".format(gb_final.score(df_train_x, df_train_y)))\n",
    "# test 데이터 설명력\n",
    "print(\"Score on test set: {:.3f}\".format(gb_final.score(df_test_x, df_test_y)))"
   ]
  },
  {
   "cell_type": "markdown",
   "id": "d5168fb0",
   "metadata": {},
   "source": [
    "Train Acc: 76.6% Test Acc: 50.9%. 파라미터 조절을 통해 정확도를 개선했다"
   ]
  },
  {
   "cell_type": "code",
   "execution_count": 274,
   "id": "02a5284d",
   "metadata": {},
   "outputs": [
    {
     "data": {
      "text/html": [
       "<div>\n",
       "<style scoped>\n",
       "    .dataframe tbody tr th:only-of-type {\n",
       "        vertical-align: middle;\n",
       "    }\n",
       "\n",
       "    .dataframe tbody tr th {\n",
       "        vertical-align: top;\n",
       "    }\n",
       "\n",
       "    .dataframe thead th {\n",
       "        text-align: right;\n",
       "    }\n",
       "</style>\n",
       "<table border=\"1\" class=\"dataframe\">\n",
       "  <thead>\n",
       "    <tr style=\"text-align: right;\">\n",
       "      <th></th>\n",
       "      <th>Feature</th>\n",
       "      <th>Importance</th>\n",
       "    </tr>\n",
       "  </thead>\n",
       "  <tbody>\n",
       "    <tr>\n",
       "      <th>2</th>\n",
       "      <td>CO</td>\n",
       "      <td>0.342</td>\n",
       "    </tr>\n",
       "    <tr>\n",
       "      <th>0</th>\n",
       "      <td>O3</td>\n",
       "      <td>0.202</td>\n",
       "    </tr>\n",
       "    <tr>\n",
       "      <th>11</th>\n",
       "      <td>CLOUD</td>\n",
       "      <td>0.106</td>\n",
       "    </tr>\n",
       "    <tr>\n",
       "      <th>4</th>\n",
       "      <td>TEMP</td>\n",
       "      <td>0.093</td>\n",
       "    </tr>\n",
       "    <tr>\n",
       "      <th>7</th>\n",
       "      <td>WIND_DIR</td>\n",
       "      <td>0.075</td>\n",
       "    </tr>\n",
       "    <tr>\n",
       "      <th>9</th>\n",
       "      <td>ATM_PRESS</td>\n",
       "      <td>0.054</td>\n",
       "    </tr>\n",
       "    <tr>\n",
       "      <th>1</th>\n",
       "      <td>NO2</td>\n",
       "      <td>0.050</td>\n",
       "    </tr>\n",
       "    <tr>\n",
       "      <th>6</th>\n",
       "      <td>WIND</td>\n",
       "      <td>0.036</td>\n",
       "    </tr>\n",
       "    <tr>\n",
       "      <th>8</th>\n",
       "      <td>HUMIDITY</td>\n",
       "      <td>0.031</td>\n",
       "    </tr>\n",
       "    <tr>\n",
       "      <th>5</th>\n",
       "      <td>RAIN</td>\n",
       "      <td>0.012</td>\n",
       "    </tr>\n",
       "    <tr>\n",
       "      <th>3</th>\n",
       "      <td>SO2</td>\n",
       "      <td>0.000</td>\n",
       "    </tr>\n",
       "    <tr>\n",
       "      <th>10</th>\n",
       "      <td>SNOW</td>\n",
       "      <td>0.000</td>\n",
       "    </tr>\n",
       "  </tbody>\n",
       "</table>\n",
       "</div>"
      ],
      "text/plain": [
       "      Feature  Importance\n",
       "2          CO       0.342\n",
       "0          O3       0.202\n",
       "11      CLOUD       0.106\n",
       "4        TEMP       0.093\n",
       "7    WIND_DIR       0.075\n",
       "9   ATM_PRESS       0.054\n",
       "1         NO2       0.050\n",
       "6        WIND       0.036\n",
       "8    HUMIDITY       0.031\n",
       "5        RAIN       0.012\n",
       "3         SO2       0.000\n",
       "10       SNOW       0.000"
      ]
     },
     "execution_count": 274,
     "metadata": {},
     "output_type": "execute_result"
    }
   ],
   "source": [
    "# 변수명 저장\n",
    "v_feature_name = df_train_x.columns\n",
    "\n",
    "# tree.feature_importances_로 설명변수 중요도 확인 및 테이블로 저장\n",
    "df_importance = pd.DataFrame()\n",
    "df_importance[\"Feature\"] = v_feature_name\n",
    "df_importance[\"Importance\"] = gb_final.feature_importances_\n",
    "\n",
    "# df_feature_importance의 테이블을 중요도별로 정렬\n",
    "df_importance.sort_values(\"Importance\", ascending = False, inplace = True)\n",
    "df_importance.round(3)"
   ]
  },
  {
   "cell_type": "code",
   "execution_count": 275,
   "id": "83172612",
   "metadata": {
    "scrolled": true
   },
   "outputs": [
    {
     "data": {
      "text/plain": [
       "Text(0, 0.5, '변수')"
      ]
     },
     "execution_count": 275,
     "metadata": {},
     "output_type": "execute_result"
    },
    {
     "data": {
      "image/png": "[encoded data removed]",
      "text/plain": [
       "<Figure size 432x288 with 1 Axes>"
      ]
     },
     "metadata": {
      "needs_background": "light"
     },
     "output_type": "display_data"
    }
   ],
   "source": [
    "# 설명변수 중요도 그래프\n",
    "# 중요도가 높은 변수를 상위에 그림\n",
    "df_importance.sort_values(\"Importance\", ascending = True, inplace = True)\n",
    "coordinates = range(len(df_importance))\n",
    "plt.barh(y = coordinates, width = df_importance[\"Importance\"])\n",
    "plt.yticks(coordinates, df_importance[\"Feature\"])\n",
    "plt.xlabel(\"변수 중요도\")\n",
    "plt.ylabel(\"변수\")"
   ]
  },
  {
   "cell_type": "markdown",
   "id": "6705981b",
   "metadata": {},
   "source": [
    "설명변수 중요도는 CO, O3, CLOUD, TEMP, ATM_PRESS 순으로 높다"
   ]
  },
  {
   "cell_type": "markdown",
   "id": "e97dcf6d",
   "metadata": {},
   "source": [
    "## 모델평가"
   ]
  },
  {
   "cell_type": "code",
   "execution_count": 285,
   "id": "7640c34f",
   "metadata": {},
   "outputs": [],
   "source": [
    "import pandas as pd\n",
    "import numpy as np\n",
    "import matplotlib\n",
    "import matplotlib.pyplot as plt\n",
    "import seaborn as sns\n",
    "\n",
    "# train, test 데이터 분할 함수\n",
    "from sklearn.model_selection import train_test_split\n",
    "\n",
    "from sklearn.preprocessing import StandardScaler\n",
    "import statsmodels.formula.api as smf\n",
    "from sklearn.tree import DecisionTreeRegressor\n",
    "from sklearn.ensemble import RandomForestRegressor\n",
    "from sklearn.ensemble import GradientBoostingRegressor\n",
    "\n",
    "from sklearn.metrics import mean_squared_error\n",
    "from sklearn.metrics import mean_absolute_error"
   ]
  },
  {
   "cell_type": "code",
   "execution_count": 286,
   "id": "04f963d3",
   "metadata": {},
   "outputs": [],
   "source": [
    "# RMSE:root mean squared error 함수\n",
    "def root_mean_squared_error(y_true, y_pred):\n",
    "    return np.sqrt(mean_squared_error(y_true, y_pred))\n",
    "\n",
    "# MAPE:mean absolute percentage error 함수\n",
    "def mean_absolute_percentage_error(y_true, y_pred):\n",
    "    return np.mean(np.abs((y_true - y_pred) / y_true)) * 100"
   ]
  },
  {
   "cell_type": "code",
   "execution_count": 287,
   "id": "59850c29",
   "metadata": {},
   "outputs": [],
   "source": [
    "# 맑은 고딕 적용\n",
    "matplotlib.rc(\"font\", family = \"Malgun Gothic\")\n",
    "# 음수 표시\n",
    "matplotlib.rcParams['axes.unicode_minus'] = False"
   ]
  },
  {
   "cell_type": "code",
   "execution_count": 288,
   "id": "9570a711",
   "metadata": {},
   "outputs": [],
   "source": [
    "df_raw = pd.read_csv('DATA/AIR_POLLUTION.csv')\n",
    "\n",
    "df_raw.drop('MeasDate', axis = 1, inplace = True)\n",
    "df_raw.dropna(subset=['PM10'] , inplace = True)\n",
    "df_raw.fillna(df_raw.mean(), inplace = True)"
   ]
  },
  {
   "cell_type": "code",
   "execution_count": 289,
   "id": "b7323f79",
   "metadata": {},
   "outputs": [
    {
     "name": "stdout",
     "output_type": "stream",
     "text": [
      "train data size : (219, 13)\n",
      "test data size : (146, 13)\n"
     ]
    }
   ],
   "source": [
    "# train/test data 분리\n",
    "df_train, df_test = train_test_split(df_raw, test_size = 0.4, random_state = 1234) \n",
    "print(\"train data size : {}\".format(df_train.shape))\n",
    "print(\"test data size : {}\".format(df_test.shape))"
   ]
  },
  {
   "cell_type": "code",
   "execution_count": 290,
   "id": "3da6b559",
   "metadata": {},
   "outputs": [],
   "source": [
    "# 목표변수, 설명변수 데이터 지정\n",
    "df_raw_y = df_raw['PM10']\n",
    "df_raw_x = df_raw.drop(\"PM10\", axis = 1, inplace = False)\n",
    "df_train_x, df_test_x, df_train_y, df_test_y = train_test_split(df_raw_x, df_raw_y, test_size = 0.4, random_state = 1234)"
   ]
  },
  {
   "cell_type": "code",
   "execution_count": 329,
   "id": "dd769896",
   "metadata": {
    "scrolled": true
   },
   "outputs": [
    {
     "name": "stdout",
     "output_type": "stream",
     "text": [
      "                            OLS Regression Results                            \n",
      "==============================================================================\n",
      "Dep. Variable:                   PM10   R-squared:                       0.488\n",
      "Model:                            OLS   Adj. R-squared:                  0.468\n",
      "Method:                 Least Squares   F-statistic:                     24.97\n",
      "Date:                Wed, 09 Mar 2022   Prob (F-statistic):           7.99e-27\n",
      "Time:                        14:13:43   Log-Likelihood:                -832.94\n",
      "No. Observations:                 219   AIC:                             1684.\n",
      "Df Residuals:                     210   BIC:                             1714.\n",
      "Df Model:                           8                                         \n",
      "Covariance Type:            nonrobust                                         \n",
      "==============================================================================\n",
      "                 coef    std err          t      P>|t|      [0.025      0.975]\n",
      "------------------------------------------------------------------------------\n",
      "Intercept    346.1263    189.604      1.826      0.069     -27.644     719.897\n",
      "O3           661.1613     92.732      7.130      0.000     478.357     843.966\n",
      "NO2          571.7783    150.667      3.795      0.000     274.764     868.792\n",
      "CO            62.3188      9.519      6.547      0.000      43.555      81.083\n",
      "TEMP          -0.6014      0.156     -3.853      0.000      -0.909      -0.294\n",
      "RAIN          -2.5644      1.068     -2.401      0.017      -4.670      -0.459\n",
      "WIND           3.4163      1.433      2.384      0.018       0.591       6.242\n",
      "WIND_DIR       0.0449      0.014      3.229      0.001       0.017       0.072\n",
      "ATM_PRESS     -0.3821      0.187     -2.040      0.043      -0.751      -0.013\n",
      "==============================================================================\n",
      "Omnibus:                       83.399   Durbin-Watson:                   1.913\n",
      "Prob(Omnibus):                  0.000   Jarque-Bera (JB):              350.704\n",
      "Skew:                           1.481   Prob(JB):                     7.01e-77\n",
      "Kurtosis:                       8.447   Cond. No.                     2.76e+05\n",
      "==============================================================================\n",
      "\n",
      "Notes:\n",
      "[1] Standard Errors assume that the covariance matrix of the errors is correctly specified.\n",
      "[2] The condition number is large, 2.76e+05. This might indicate that there are\n",
      "strong multicollinearity or other numerical problems.\n"
     ]
    },
    {
     "data": {
      "text/plain": [
       "GradientBoostingRegressor(min_samples_leaf=4, min_samples_split=20,\n",
       "                          n_estimators=42, random_state=1234)"
      ]
     },
     "execution_count": 329,
     "metadata": {},
     "output_type": "execute_result"
    }
   ],
   "source": [
    "reg_model = smf.ols(formula = \"PM10 ~ O3 + NO2 + CO + TEMP + RAIN + WIND + WIND_DIR + ATM_PRESS\", data = df_train)\n",
    "reg_result = reg_model.fit()\n",
    "print(reg_result.summary())\n",
    "\n",
    "tree_final = DecisionTreeRegressor(min_samples_leaf = 8, min_samples_split = 20, max_depth = 6, random_state=1234)\n",
    "tree_final.fit(df_train_x, df_train_y)\n",
    "\n",
    "\n",
    "rf_final = RandomForestRegressor(n_estimators = 41, min_samples_leaf = 5, min_samples_split = 10, max_depth = 6, random_state=1234)\n",
    "rf_final.fit(df_train_x, df_train_y);\n",
    "\n",
    "gb_final = GradientBoostingRegressor(n_estimators = 42, min_samples_leaf = 4, min_samples_split = 20,\n",
    "                                     max_depth = 3, learning_rate = 0.1, random_state=1234)\n",
    "gb_final.fit(df_train_x, df_train_y)"
   ]
  },
  {
   "cell_type": "markdown",
   "id": "8c98edc3",
   "metadata": {},
   "source": [
    "    최종모델선택\n",
    "    -선형회귀모델은 전진제거로 선택된 설명변수를 이용\n",
    "    -의사결정나무 파라미터 값으로는 min_samples_leaf = 8, min_samples_split = 20, max_depth = 6 선택\n",
    "    -랜덤포레스트 파라미터 값으로는 n_estimators = 41, min_samples_leaf = 5, min_samples_split = 10, max_depth = 6 선택\n",
    "    -그래디언트 부스팅 파라미터 값으로는 n_estimators = 42, min_samples_leaf = 4, min_samples_split = 20, max_depth = 3, learning_rate = 0.1, 선택"
   ]
  },
  {
   "cell_type": "code",
   "execution_count": 330,
   "id": "0b7dd7e2",
   "metadata": {},
   "outputs": [],
   "source": [
    "models = [\"회귀분석\", \"의사결정나무\", \"랜덤 포레스트\", \"그래디언트 부스팅\"]\n",
    "mse, rmse, mae, mape = [],[],[],[]"
   ]
  },
  {
   "cell_type": "code",
   "execution_count": 331,
   "id": "f6e588a8",
   "metadata": {},
   "outputs": [],
   "source": [
    "# 예측\n",
    "lr_y_pred = reg_result.predict(df_test_x)\n",
    "\n",
    "# 평가\n",
    "mse.append(mean_squared_error(df_test_y, lr_y_pred))\n",
    "rmse.append(root_mean_squared_error(df_test_y, lr_y_pred))\n",
    "mae.append(mean_absolute_error(df_test_y, lr_y_pred))\n",
    "mape.append(mean_absolute_percentage_error(df_test_y, lr_y_pred))"
   ]
  },
  {
   "cell_type": "code",
   "execution_count": 332,
   "id": "cf20c0ea",
   "metadata": {},
   "outputs": [],
   "source": [
    "# 예측\n",
    "dt_y_pred = tree_final.predict(df_test_x)\n",
    "\n",
    "# 평가\n",
    "mse.append(mean_squared_error(df_test_y, dt_y_pred))\n",
    "rmse.append(root_mean_squared_error(df_test_y, dt_y_pred))\n",
    "mae.append(mean_absolute_error(df_test_y, dt_y_pred))\n",
    "mape.append(mean_absolute_percentage_error(df_test_y, dt_y_pred))"
   ]
  },
  {
   "cell_type": "code",
   "execution_count": 333,
   "id": "6cf3a320",
   "metadata": {},
   "outputs": [],
   "source": [
    "# 예측\n",
    "rf_y_pred = rf_final.predict(df_test_x)\n",
    "\n",
    "# 평가\n",
    "mse.append(mean_squared_error(df_test_y, rf_y_pred))\n",
    "rmse.append(root_mean_squared_error(df_test_y, rf_y_pred))\n",
    "mae.append(mean_absolute_error(df_test_y, rf_y_pred))\n",
    "mape.append(mean_absolute_percentage_error(df_test_y, rf_y_pred))"
   ]
  },
  {
   "cell_type": "code",
   "execution_count": 334,
   "id": "8a5fbb67",
   "metadata": {},
   "outputs": [],
   "source": [
    "gb_y_pred = gb_final.predict(df_test_x)\n",
    "\n",
    "mse.append(mean_squared_error(df_test_y, gb_y_pred))\n",
    "rmse.append(root_mean_squared_error(df_test_y, gb_y_pred))\n",
    "mae.append(mean_absolute_error(df_test_y, gb_y_pred))\n",
    "mape.append(mean_absolute_percentage_error(df_test_y, gb_y_pred))"
   ]
  },
  {
   "cell_type": "code",
   "execution_count": 335,
   "id": "6f88faab",
   "metadata": {
    "scrolled": true
   },
   "outputs": [
    {
     "data": {
      "image/png": "[encoded data removed]",
      "text/plain": [
       "<Figure size 936x720 with 4 Axes>"
      ]
     },
     "metadata": {
      "needs_background": "light"
     },
     "output_type": "display_data"
    }
   ],
   "source": [
    "fig, ax = plt.subplots(2,2, figsize = (13,10))\n",
    "ax[0, 0].bar(models, mse)\n",
    "ax[0, 0].set_title(\"mse\").set_fontsize(15)\n",
    "\n",
    "ax[0, 1].bar(models, rmse)\n",
    "ax[0, 1].set_title(\"rmse\").set_fontsize(15)\n",
    "\n",
    "ax[1, 0].bar(models, mae)\n",
    "ax[1, 0].set_title(\"mae\").set_fontsize(15)\n",
    "\n",
    "ax[1, 1].bar(models, mape)\n",
    "ax[1, 1].set_title(\"mape\").set_fontsize(15)"
   ]
  },
  {
   "cell_type": "markdown",
   "id": "3a0463a8",
   "metadata": {},
   "source": [
    "    -파라미터 값을 쪼절한 그래디언트 부스팅의 정확도가 가장 높고, 반면에 의사결정나무 모델의 성능이 가장 미흡하다.\n",
    "    -평가 지표별 모델의 정확도 추세는 유사하게 나타남"
   ]
  }
 ],
 "metadata": {
  "kernelspec": {
   "display_name": "Python 3 (ipykernel)",
   "language": "python",
   "name": "python3"
  },
  "language_info": {
   "codemirror_mode": {
    "name": "ipython",
    "version": 3
   },
   "file_extension": ".py",
   "mimetype": "text/x-python",
   "name": "python",
   "nbconvert_exporter": "python",
   "pygments_lexer": "ipython3",
   "version": "3.9.7"
  },
  "toc": {
   "base_numbering": 1,
   "nav_menu": {},
   "number_sections": true,
   "sideBar": true,
   "skip_h1_title": false,
   "title_cell": "Table of Contents",
   "title_sidebar": "Contents",
   "toc_cell": false,
   "toc_position": {
    "height": "calc(100% - 180px)",
    "left": "10px",
    "top": "150px",
    "width": "307.2px"
   },
   "toc_section_display": true,
   "toc_window_display": false
  }
 },
 "nbformat": 4,
 "nbformat_minor": 5
}
